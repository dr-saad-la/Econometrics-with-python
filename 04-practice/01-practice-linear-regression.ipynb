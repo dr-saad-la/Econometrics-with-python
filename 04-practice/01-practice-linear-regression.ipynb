{
 "cells": [
  {
   "cell_type": "markdown",
   "id": "464bf804-8296-467d-a309-26e669989e6e",
   "metadata": {},
   "source": [
    "# Practice: Food Expenditure Analysis\n",
    "\n",
    "## Understanding Simple Linear Regression with Real Data"
   ]
  },
  {
   "cell_type": "markdown",
   "id": "477c2d11-ff1d-4575-8949-a7637989e116",
   "metadata": {},
   "source": [
    "In this practical exercise you'll analyze the relationship between household income and food expenditure using real economic data. This dataset comes from the \"Principles of Econometrics\" textbook.\n",
    "\n",
    "### Learning Objectives\n",
    "- Load and prepare economic data\n",
    "- Conduct simple linear regression analysis\n",
    "- Interpret regression results\n",
    "- Create professional visualizations\n",
    "\n",
    "### Instructions\n",
    "Follow the steps below and fill in the code cells. Tips and hints are provided to guide you."
   ]
  },
  {
   "cell_type": "markdown",
   "id": "7c5d82d8-e749-4567-84d4-a10755c378e7",
   "metadata": {},
   "source": [
    "## 1. Setup and Data Loading\n",
    "\n",
    "First, import the necessary libraries. You'll need:\n",
    "- pandas for data manipulation\n",
    "- numpy for numerical operations\n",
    "- matplotlib and seaborn for visualization\n",
    "- statsmodels for regression analysis"
   ]
  },
  {
   "cell_type": "code",
   "execution_count": 1,
   "id": "0a7e9ecd-9797-47f7-8756-6c949862d31a",
   "metadata": {
    "tags": []
   },
   "outputs": [],
   "source": [
    "# Import required libraries\n",
    "# Hint: import pandas as pd, numpy as np, etc.\n",
    "\n",
    "\n"
   ]
  },
  {
   "cell_type": "markdown",
   "id": "2046dd37-f13b-41ad-858d-ef6d910b4f3e",
   "metadata": {},
   "source": [
    "Now, let's load our data. The data is in a fixed-width format file named 'p' in the datasets folder.\n",
    "The file contains three columns:\n",
    "- id: household identifier\n",
    "- food_exp: weekly food expenditure in dollars\n",
    "- income: weekly income in $10s"
   ]
  },
  {
   "cell_type": "code",
   "execution_count": null,
   "id": "f4459bff-5f0c-48d5-8322-40cbc5beff03",
   "metadata": {},
   "outputs": [],
   "source": [
    "# Load the data using pd.read_csv()\n",
    "\n",
    "\n"
   ]
  },
  {
   "cell_type": "markdown",
   "id": "1560648c-6f0f-492e-9f63-35ac3a0befe7",
   "metadata": {},
   "source": [
    "## 2. Data Exploration\n",
    "\n",
    "Examine your data to understand its structure and characteristics."
   ]
  },
  {
   "cell_type": "code",
   "execution_count": 2,
   "id": "e2123261-d49f-4705-96a0-36228b84a1bc",
   "metadata": {
    "tags": []
   },
   "outputs": [],
   "source": [
    "# Display the first few rows of the data\n",
    "\n"
   ]
  },
  {
   "cell_type": "code",
   "execution_count": 3,
   "id": "98908a51-3f4c-471f-9d4f-37dcedd5dc40",
   "metadata": {
    "tags": []
   },
   "outputs": [],
   "source": [
    "# Generate summary statistics\n",
    "# Hint: use .describe()\n",
    "\n"
   ]
  },
  {
   "cell_type": "markdown",
   "id": "ba138858-f222-4c5f-8b78-9f67e1e8143b",
   "metadata": {},
   "source": [
    "## 3. Data Visualization\n",
    "\n",
    "Create a scatter plot to visualize the relationship between income and food expenditure."
   ]
  },
  {
   "cell_type": "code",
   "execution_count": 4,
   "id": "35bc3f28-6dfe-42a7-86b5-9421217d9ffc",
   "metadata": {
    "tags": []
   },
   "outputs": [],
   "source": [
    "# Create a scatter plot\n",
    "# Hint: use plt.scatter()\n",
    "# Don't forget to label your axes!\n",
    "\n"
   ]
  },
  {
   "cell_type": "markdown",
   "id": "9d8904e6-76af-4ec8-bde1-52a85296c8c2",
   "metadata": {},
   "source": [
    "## 4. Simple Linear Regression\n",
    "\n",
    "Now we'll estimate the model:\n",
    "$$\\text{food_exp} = \\beta_0 + \\beta_1 \\times income + \\varepsilon$$"
   ]
  },
  {
   "cell_type": "code",
   "execution_count": 5,
   "id": "ac9c0f67-4619-42bd-94d5-08d17b8819b0",
   "metadata": {
    "tags": []
   },
   "outputs": [],
   "source": [
    "# Prepare X (independent) and y (dependent) variables\n",
    "# Remember to add a constant term!\n",
    "\n"
   ]
  },
  {
   "cell_type": "code",
   "execution_count": 6,
   "id": "0e8e93d8-c5e9-485d-8896-b82aa657dd38",
   "metadata": {
    "tags": []
   },
   "outputs": [],
   "source": [
    "# Fit the regression model using statsmodels\n",
    "# Hint: use sm.OLS() and .fit()\n",
    "\n"
   ]
  },
  {
   "cell_type": "markdown",
   "id": "5cb819d2-8be6-43af-9e2a-e2f1dd5f9c27",
   "metadata": {},
   "source": [
    "## 5. Interpreting Results\n",
    "\n",
    "Examine and interpret the regression results."
   ]
  },
  {
   "cell_type": "code",
   "execution_count": 7,
   "id": "cc9f8215-1436-45ae-ba36-19b8c55f3932",
   "metadata": {
    "tags": []
   },
   "outputs": [],
   "source": [
    "# Print the regression summary\n",
    "\n"
   ]
  },
  {
   "cell_type": "markdown",
   "id": "93dbd2b7-5075-470c-8964-8a0d9b0389c1",
   "metadata": {},
   "source": [
    "### Questions to Answer:\n",
    "\n",
    "1. What is the interpretation of β₁ in this context?\n",
    "\n",
    "\n",
    "```Write your answer here```\n",
    "\n",
    "\n",
    "2. Is the relationship between income and food expenditure statistically significant?\n",
    "\n",
    "\n",
    "```Write your answer here```\n",
    "\n",
    "3. What is the R-squared value and what does it tell us?\n",
    "\n",
    "`Write your answer here`"
   ]
  },
  {
   "cell_type": "markdown",
   "id": "96412c7b-7233-4894-971f-b281b1c6b926",
   "metadata": {},
   "source": [
    "## 6. Final Visualization\n",
    "\n",
    "Create a plot showing both the data points and the regression line."
   ]
  },
  {
   "cell_type": "code",
   "execution_count": 8,
   "id": "3e63a011-7d35-4407-a23d-32c31054d9bb",
   "metadata": {
    "tags": []
   },
   "outputs": [],
   "source": [
    "# Create a scatter plot with regression line\n",
    "# Hint: Use plt.scatter() for the data points\n",
    "# and plt.plot() for the regression line\n",
    "\n"
   ]
  },
  {
   "cell_type": "markdown",
   "id": "bba294ba-8d96-4d8a-9921-cc4b50b64dea",
   "metadata": {},
   "source": [
    "## Extra Challenge\n",
    "\n",
    "1. Calculate and interpret the confidence intervals for your coefficients."
   ]
  },
  {
   "cell_type": "code",
   "execution_count": 10,
   "id": "deea2a0e-15d0-451c-9f05-61df89905554",
   "metadata": {
    "tags": []
   },
   "outputs": [],
   "source": [
    "# Calculate confidence intervals\n"
   ]
  },
  {
   "cell_type": "markdown",
   "id": "6a36858a-4a23-4e6a-8193-ee663a8f2d60",
   "metadata": {},
   "source": [
    "2. Calculate the predicted food expenditure for a household with weekly income of $500."
   ]
  },
  {
   "cell_type": "code",
   "execution_count": 11,
   "id": "721a8fe8-8f3a-42bf-b3f3-3ee95de25e0b",
   "metadata": {
    "tags": []
   },
   "outputs": [],
   "source": [
    "# Make a prediction\n",
    "\n"
   ]
  },
  {
   "cell_type": "markdown",
   "id": "c138fabc-bfc4-4fc6-b4c4-7e8a2689ad87",
   "metadata": {},
   "source": [
    "### Tips for Success\n",
    "- Pay attention to units (income is in tens of dollars)\n",
    "- Always label your axes and title your plots\n",
    "- Remember to interpret results in the context of the problem\n",
    "- Check your model assumptions"
   ]
  },
  {
   "cell_type": "markdown",
   "id": "baccdd48-b965-4086-9d89-49bb151c1ad8",
   "metadata": {},
   "source": [
    "### Additional Resources\n",
    "- statsmodels documentation: https://www.statsmodels.org/\n",
    "- Principles of Econometrics textbook\n",
    "- Course lecture notes on simple linear regression\n",
    "\n",
    "Good luck! Remember to ask if you need any clarification."
   ]
  },
  {
   "cell_type": "code",
   "execution_count": null,
   "id": "65d3bbd1-b9d5-40fe-ba4e-ac033a63988e",
   "metadata": {},
   "outputs": [],
   "source": []
  }
 ],
 "metadata": {
  "kernelspec": {
   "display_name": "TF-GPU:2.16",
   "language": "python",
   "name": "tf-gpu"
  },
  "language_info": {
   "codemirror_mode": {
    "name": "ipython",
    "version": 3
   },
   "file_extension": ".py",
   "mimetype": "text/x-python",
   "name": "python",
   "nbconvert_exporter": "python",
   "pygments_lexer": "ipython3",
   "version": "3.11.0"
  }
 },
 "nbformat": 4,
 "nbformat_minor": 5
}

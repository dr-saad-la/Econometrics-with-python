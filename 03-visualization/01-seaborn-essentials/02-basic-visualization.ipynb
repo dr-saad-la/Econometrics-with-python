{
 "cells": [
  {
   "cell_type": "markdown",
   "metadata": {},
   "source": [
    "# Basic Economic Visualizations with Seaborn\n",
    "## Essential Plots for Economic Analysis\n",
    "\n",
    "In this notebook, we'll explore the fundamental visualization types using Seaborn, with focus on economic applications. We'll cover:\n",
    "* Line plots for time series data\n",
    "* Bar plots for comparisons\n",
    "* Scatter plots for relationships\n",
    "* Distribution plots for analysis\n",
    "\n",
    "First, let's import our libraries and set up our environment:"
   ]
  },
  {
   "cell_type": "code",
   "execution_count": 3,
   "metadata": {
    "tags": []
   },
   "outputs": [],
   "source": [
    "# Env Setup\n",
    "import numpy as np\n",
    "import pandas as pd\n",
    "import pandas\n",
    "import seaborn as sns\n",
    "import matplotlib.pyplot as plt"
   ]
  },
  {
   "cell_type": "code",
   "execution_count": 2,
   "metadata": {
    "tags": []
   },
   "outputs": [],
   "source": [
    "# Set style and figure size defaults\n",
    "sns.set_theme(style=\"whitegrid\")\n",
    "plt.rcParams['figure.figsize'] = [10, 6]"
   ]
  },
  {
   "cell_type": "code",
   "execution_count": 5,
   "metadata": {
    "tags": []
   },
   "outputs": [
    {
     "data": {
      "text/plain": [
       "DatetimeIndex(['2018-03-31', '2018-06-30', '2018-09-30', '2018-12-31',\n",
       "               '2019-03-31', '2019-06-30', '2019-09-30', '2019-12-31',\n",
       "               '2020-03-31', '2020-06-30', '2020-09-30', '2020-12-31',\n",
       "               '2021-03-31', '2021-06-30', '2021-09-30', '2021-12-31',\n",
       "               '2022-03-31', '2022-06-30', '2022-09-30', '2022-12-31'],\n",
       "              dtype='datetime64[ns]', freq='QE-DEC')"
      ]
     },
     "execution_count": 5,
     "metadata": {},
     "output_type": "execute_result"
    }
   ],
   "source": [
    "# Create sample economic data\n",
    "np.random.seed(42)    # to get the same results every time I run this cell\n",
    "\n",
    "# Time series data\n",
    "dates = pd.date_range(start='2018', end='2023', freq='QE')\n",
    "dates"
   ]
  },
  {
   "cell_type": "code",
   "execution_count": 6,
   "metadata": {
    "tags": []
   },
   "outputs": [
    {
     "data": {
      "text/plain": [
       "\u001b[0;31mDocstring:\u001b[0m\n",
       "normal(loc=0.0, scale=1.0, size=None)\n",
       "\n",
       "Draw random samples from a normal (Gaussian) distribution.\n",
       "\n",
       "The probability density function of the normal distribution, first\n",
       "derived by De Moivre and 200 years later by both Gauss and Laplace\n",
       "independently [2]_, is often called the bell curve because of\n",
       "its characteristic shape (see the example below).\n",
       "\n",
       "The normal distributions occurs often in nature.  For example, it\n",
       "describes the commonly occurring distribution of samples influenced\n",
       "by a large number of tiny, random disturbances, each with its own\n",
       "unique distribution [2]_.\n",
       "\n",
       ".. note::\n",
       "    New code should use the `~numpy.random.Generator.normal`\n",
       "    method of a `~numpy.random.Generator` instance instead;\n",
       "    please see the :ref:`random-quick-start`.\n",
       "\n",
       "Parameters\n",
       "----------\n",
       "loc : float or array_like of floats\n",
       "    Mean (\"centre\") of the distribution.\n",
       "scale : float or array_like of floats\n",
       "    Standard deviation (spread or \"width\") of the distribution. Must be\n",
       "    non-negative.\n",
       "size : int or tuple of ints, optional\n",
       "    Output shape.  If the given shape is, e.g., ``(m, n, k)``, then\n",
       "    ``m * n * k`` samples are drawn.  If size is ``None`` (default),\n",
       "    a single value is returned if ``loc`` and ``scale`` are both scalars.\n",
       "    Otherwise, ``np.broadcast(loc, scale).size`` samples are drawn.\n",
       "\n",
       "Returns\n",
       "-------\n",
       "out : ndarray or scalar\n",
       "    Drawn samples from the parameterized normal distribution.\n",
       "\n",
       "See Also\n",
       "--------\n",
       "scipy.stats.norm : probability density function, distribution or\n",
       "    cumulative density function, etc.\n",
       "random.Generator.normal: which should be used for new code.\n",
       "\n",
       "Notes\n",
       "-----\n",
       "The probability density for the Gaussian distribution is\n",
       "\n",
       ".. math:: p(x) = \\frac{1}{\\sqrt{ 2 \\pi \\sigma^2 }}\n",
       "                 e^{ - \\frac{ (x - \\mu)^2 } {2 \\sigma^2} },\n",
       "\n",
       "where :math:`\\mu` is the mean and :math:`\\sigma` the standard\n",
       "deviation. The square of the standard deviation, :math:`\\sigma^2`,\n",
       "is called the variance.\n",
       "\n",
       "The function has its peak at the mean, and its \"spread\" increases with\n",
       "the standard deviation (the function reaches 0.607 times its maximum at\n",
       ":math:`x + \\sigma` and :math:`x - \\sigma` [2]_).  This implies that\n",
       "normal is more likely to return samples lying close to the mean, rather\n",
       "than those far away.\n",
       "\n",
       "References\n",
       "----------\n",
       ".. [1] Wikipedia, \"Normal distribution\",\n",
       "       https://en.wikipedia.org/wiki/Normal_distribution\n",
       ".. [2] P. R. Peebles Jr., \"Central Limit Theorem\" in \"Probability,\n",
       "       Random Variables and Random Signal Principles\", 4th ed., 2001,\n",
       "       pp. 51, 51, 125.\n",
       "\n",
       "Examples\n",
       "--------\n",
       "Draw samples from the distribution:\n",
       "\n",
       ">>> mu, sigma = 0, 0.1 # mean and standard deviation\n",
       ">>> s = np.random.normal(mu, sigma, 1000)\n",
       "\n",
       "Verify the mean and the variance:\n",
       "\n",
       ">>> abs(mu - np.mean(s))\n",
       "0.0  # may vary\n",
       "\n",
       ">>> abs(sigma - np.std(s, ddof=1))\n",
       "0.1  # may vary\n",
       "\n",
       "Display the histogram of the samples, along with\n",
       "the probability density function:\n",
       "\n",
       ">>> import matplotlib.pyplot as plt\n",
       ">>> count, bins, ignored = plt.hist(s, 30, density=True)\n",
       ">>> plt.plot(bins, 1/(sigma * np.sqrt(2 * np.pi)) *\n",
       "...                np.exp( - (bins - mu)**2 / (2 * sigma**2) ),\n",
       "...          linewidth=2, color='r')\n",
       ">>> plt.show()\n",
       "\n",
       "Two-by-four array of samples from the normal distribution with\n",
       "mean 3 and standard deviation 2.5:\n",
       "\n",
       ">>> np.random.normal(3, 2.5, size=(2, 4))\n",
       "array([[-4.49401501,  4.00950034, -1.81814867,  7.29718677],   # random\n",
       "       [ 0.39924804,  4.68456316,  4.99394529,  4.84057254]])  # random\n",
       "\u001b[0;31mType:\u001b[0m      builtin_function_or_method"
      ]
     },
     "metadata": {},
     "output_type": "display_data"
    }
   ],
   "source": [
    "np.random.normal?"
   ]
  },
  {
   "cell_type": "code",
   "execution_count": null,
   "metadata": {
    "tags": []
   },
   "outputs": [],
   "source": [
    "np.random.seed(42)\n",
    "economic_data = pd.DataFrame({\n",
    "    'Date': dates,\n",
    "    'GDP_Growth': np.random.normal(2, 1, len(dates)),\n",
    "    'Inflation': np.random.normal(3, 0.5, len(dates)),\n",
    "    'Unemployment': np.random.normal(5, 0.8, len(dates)),\n",
    "    'Interest_Rate': np.random.normal(2.5, 0.3, len(dates))\n",
    "})"
   ]
  },
  {
   "cell_type": "markdown",
   "metadata": {
    "jupyter": {
     "source_hidden": true
    },
    "tags": []
   },
   "source": [
    "## 1. Line Plots for Time Series\n",
    "\n",
    "Line plots are essential for visualizing economic trends over time. Common applications include:\n",
    "* GDP growth trends\n",
    "* Inflation rates\n",
    "* Unemployment rates"
   ]
  },
  {
   "cell_type": "code",
   "execution_count": null,
   "metadata": {
    "jupyter": {
     "source_hidden": true
    },
    "tags": []
   },
   "outputs": [],
   "source": [
    "# Single line plot\n",
    "plt.figure()\n",
    "sns.lineplot(data=economic_data, x='Date', y='GDP_Growth')\n",
    "plt.title('GDP Growth Over Time')\n",
    "plt.ylabel('GDP Growth Rate (%)')\n",
    "plt.xticks(rotation=45)\n",
    "plt.show()\n",
    "\n",
    "# Multiple line plot\n",
    "plt.figure()\n",
    "# Plot multiple indicators\n",
    "for column in ['Inflation', 'Unemployment', 'Interest_Rate']:\n",
    "    sns.lineplot(data=economic_data, x='Date', y=column, label=column)\n",
    "plt.title('Economic Indicators Over Time')\n",
    "plt.ylabel('Rate (%)')\n",
    "plt.xticks(rotation=45)\n",
    "plt.legend()\n",
    "plt.show()"
   ]
  },
  {
   "cell_type": "markdown",
   "metadata": {
    "jupyter": {
     "source_hidden": true
    },
    "tags": []
   },
   "source": [
    "### Customizing Line Plots\n",
    "\n",
    "Let's add some professional touches to our line plots:"
   ]
  },
  {
   "cell_type": "code",
   "execution_count": null,
   "metadata": {
    "jupyter": {
     "source_hidden": true
    },
    "tags": []
   },
   "outputs": [],
   "source": [
    "plt.figure()\n",
    "# Create styled line plot\n",
    "sns.lineplot(data=economic_data, x='Date', y='GDP_Growth', \n",
    "            marker='o',    # Add markers\n",
    "            linewidth=2,   # Thicker line\n",
    "            color='blue'   # Specific color\n",
    "           )\n",
    "\n",
    "# Add confidence interval\n",
    "mean = economic_data['GDP_Growth'].mean()\n",
    "std = economic_data['GDP_Growth'].std()\n",
    "plt.axhline(y=mean, color='r', linestyle='--', alpha=0.5, label='Mean')\n",
    "plt.fill_between(economic_data['Date'],\n",
    "                 mean - std,\n",
    "                 mean + std,\n",
    "                 alpha=0.2,\n",
    "                 color='gray',\n",
    "                 label='±1 Std Dev')\n",
    "\n",
    "plt.title('GDP Growth with Statistical Bands', pad=20)\n",
    "plt.ylabel('GDP Growth Rate (%)')\n",
    "plt.xlabel('Year')\n",
    "plt.xticks(rotation=45)\n",
    "plt.legend()\n",
    "plt.tight_layout()\n",
    "plt.show()"
   ]
  },
  {
   "cell_type": "markdown",
   "metadata": {
    "jupyter": {
     "source_hidden": true
    },
    "tags": []
   },
   "source": [
    "## 2. Bar Plots for Comparisons\n",
    "\n",
    "Bar plots are excellent for comparing economic indicators across categories, such as:\n",
    "* GDP by country\n",
    "* Sector contributions to GDP\n",
    "* Regional economic comparisons"
   ]
  },
  {
   "cell_type": "code",
   "execution_count": null,
   "metadata": {
    "jupyter": {
     "source_hidden": true
    },
    "tags": []
   },
   "outputs": [],
   "source": [
    "# Create sample cross-sectional data\n",
    "countries = ['USA', 'China', 'Japan', 'Germany', 'UK', 'France', 'India', 'Italy']\n",
    "gdp_data = pd.DataFrame({\n",
    "    'Country': countries,\n",
    "    'GDP_Trillion': [23.0, 18.1, 4.9, 4.3, 3.1, 2.9, 3.5, 2.1],\n",
    "    'Growth_Rate': [2.1, 5.2, 1.0, 1.8, 1.2, 1.7, 6.1, 0.9]\n",
    "})\n",
    "\n",
    "# Basic bar plot\n",
    "plt.figure()\n",
    "sns.barplot(data=gdp_data, x='Country', y='GDP_Trillion')\n",
    "plt.title('GDP by Country (2023)')\n",
    "plt.ylabel('GDP (Trillion USD)')\n",
    "plt.xticks(rotation=45)\n",
    "plt.show()\n",
    "\n",
    "# Ordered bar plot with custom colors\n",
    "plt.figure()\n",
    "gdp_sorted = gdp_data.sort_values('Growth_Rate', ascending=False)\n",
    "sns.barplot(data=gdp_sorted,\n",
    "            x='Country',\n",
    "            y='Growth_Rate',\n",
    "            hue = 'Country',\n",
    "            legend = False,\n",
    "           palette='RdYlGn'  # Red to Green palette\n",
    "          )\n",
    "plt.title('Economic Growth Rates by Country')\n",
    "plt.ylabel('Growth Rate (%)')\n",
    "plt.xticks(rotation=45)\n",
    "plt.show()"
   ]
  },
  {
   "cell_type": "markdown",
   "metadata": {
    "jupyter": {
     "source_hidden": true
    },
    "tags": []
   },
   "source": [
    "## 3. Scatter Plots for Relationships\n",
    "\n",
    "Scatter plots help visualize relationships between economic variables, such as:\n",
    "* Phillips Curve (Inflation vs. Unemployment)\n",
    "* Income vs. Education\n",
    "* Investment vs. Growth"
   ]
  },
  {
   "cell_type": "code",
   "execution_count": null,
   "metadata": {
    "jupyter": {
     "source_hidden": true
    },
    "tags": []
   },
   "outputs": [],
   "source": [
    "# Basic scatter plot (Phillips Curve)\n",
    "plt.figure()\n",
    "sns.scatterplot(data=economic_data, \n",
    "                x='Unemployment', \n",
    "                y='Inflation',\n",
    "                alpha=0.6)\n",
    "plt.title('Phillips Curve')\n",
    "plt.xlabel('Unemployment Rate (%)')\n",
    "plt.ylabel('Inflation Rate (%)')\n",
    "plt.show()\n",
    "\n",
    "# Scatter plot with regression line\n",
    "plt.figure()\n",
    "sns.regplot(data=economic_data,\n",
    "           x='Interest_Rate',\n",
    "           y='GDP_Growth',\n",
    "           scatter_kws={'alpha':0.5},\n",
    "           line_kws={'color': 'red'})\n",
    "plt.title('GDP Growth vs. Interest Rate')\n",
    "plt.xlabel('Interest Rate (%)')\n",
    "plt.ylabel('GDP Growth Rate (%)')\n",
    "plt.show()"
   ]
  },
  {
   "cell_type": "markdown",
   "metadata": {
    "jupyter": {
     "source_hidden": true
    },
    "tags": []
   },
   "source": [
    "## 4. Distribution Plots\n",
    "\n",
    "Distribution plots help understand the spread and pattern of economic variables:"
   ]
  },
  {
   "cell_type": "code",
   "execution_count": null,
   "metadata": {
    "jupyter": {
     "source_hidden": true
    },
    "tags": []
   },
   "outputs": [],
   "source": [
    "# Histogram\n",
    "plt.figure()\n",
    "sns.histplot(data=economic_data, x='GDP_Growth', kde=True)\n",
    "plt.title('Distribution of GDP Growth Rates')\n",
    "plt.xlabel('GDP Growth Rate (%)')\n",
    "plt.show()\n",
    "\n",
    "# Multiple distributions\n",
    "plt.figure()\n",
    "sns.kdeplot(data=economic_data[['Inflation', 'Interest_Rate']])\n",
    "plt.title('Distribution of Inflation and Interest Rates')\n",
    "plt.xlabel('Rate (%)')\n",
    "plt.show()"
   ]
  },
  {
   "cell_type": "markdown",
   "metadata": {
    "jupyter": {
     "source_hidden": true
    },
    "tags": []
   },
   "source": [
    "## Practice Exercises\n",
    "\n",
    "1. Create a line plot showing:\n",
    "   * Multiple economic indicators\n",
    "   * Proper legend and labels\n",
    "   * Confidence intervals\n",
    "\n",
    "2. Create a bar plot comparing:\n",
    "   * GDP components across countries\n",
    "   * Order bars by value\n",
    "   * Add value labels on bars\n",
    "\n",
    "3. Create a scatter plot showing:\n",
    "   * GDP per capita vs. Education spending\n",
    "   * Add a regression line\n",
    "   * Color points by region\n",
    "\n",
    "## Key Takeaways\n",
    "\n",
    "* Line plots are best for time series trends\n",
    "* Bar plots work well for comparisons\n",
    "* Scatter plots reveal relationships\n",
    "* Distribution plots show data patterns\n",
    "\n",
    "## Next Steps\n",
    "\n",
    "In the next notebook, we'll cover:\n",
    "* Advanced statistical visualizations\n",
    "* Multiple variable relationships\n",
    "* Custom styles and themes"
   ]
  }
 ],
 "metadata": {
  "kernelspec": {
   "display_name": "ML-ENV-Py-3.12",
   "language": "python",
   "name": "mlenv"
  },
  "language_info": {
   "codemirror_mode": {
    "name": "ipython",
    "version": 3
   },
   "file_extension": ".py",
   "mimetype": "text/x-python",
   "name": "python",
   "nbconvert_exporter": "python",
   "pygments_lexer": "ipython3",
   "version": "3.12.2"
  }
 },
 "nbformat": 4,
 "nbformat_minor": 4
}

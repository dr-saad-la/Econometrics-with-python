{
 "cells": [
  {
   "cell_type": "code",
   "execution_count": 1,
   "id": "546eea67-1ef5-41cf-a995-15a9741527f3",
   "metadata": {
    "tags": []
   },
   "outputs": [],
   "source": [
    "# Introduction to Econometrics with statsmodels\n",
    "# ============================================\n",
    "\n",
    "# Table of Contents:\n",
    "# 1. Setup and Data Loading\n",
    "# 2. Data Preparation\n",
    "# 3. Simple Linear Regression\n",
    "# 4. Understanding Model Results\n",
    "# 5. Visualization\n"
   ]
  },
  {
   "cell_type": "code",
   "execution_count": 2,
   "id": "c160c152-8f88-450a-8d6a-20e2d00d25d1",
   "metadata": {
    "tags": []
   },
   "outputs": [],
   "source": [
    "# Environment Setup\n",
    "# -----------------\n",
    "import pandas as pd\n",
    "import numpy as np\n",
    "\n",
    "import matplotlib.pyplot as plt\n",
    "import seaborn as sns\n",
    "\n",
    "import statsmodels.api as sm\n",
    "from statsmodels.formula.api import ols\n",
    "\n",
    "# Set plotting style\n",
    "plt.style.use('seaborn-v0_8')\n",
    "sns.set_palette(\"deep\")"
   ]
  },
  {
   "cell_type": "code",
   "execution_count": 3,
   "id": "34d41b2f-f326-4595-a23f-53850c38dadd",
   "metadata": {},
   "outputs": [],
   "source": [
    "data_path = \"../../datasets/poe5csv/food.csv\"\n",
    "# 1. Load the data\n",
    "data = pd.read_csv(data_path)"
   ]
  },
  {
   "cell_type": "code",
   "execution_count": 4,
   "id": "8d1030b9-333a-4000-8364-dcb847cd8a96",
   "metadata": {},
   "outputs": [
    {
     "name": "stdout",
     "output_type": "stream",
     "text": [
      "\n",
      "Dataset Information:\n",
      "-------------------\n",
      "<class 'pandas.core.frame.DataFrame'>\n",
      "RangeIndex: 40 entries, 0 to 39\n",
      "Data columns (total 2 columns):\n",
      " #   Column    Non-Null Count  Dtype  \n",
      "---  ------    --------------  -----  \n",
      " 0   food_exp  40 non-null     float64\n",
      " 1   income    40 non-null     float64\n",
      "dtypes: float64(2)\n",
      "memory usage: 768.0 bytes\n",
      "None\n"
     ]
    }
   ],
   "source": [
    "# 2. Data Preparation\n",
    "# ------------------\n",
    "# Display basic information about the dataset\n",
    "print(\"\\nDataset Information:\")\n",
    "print(\"-------------------\")\n",
    "print(data.info())"
   ]
  },
  {
   "cell_type": "code",
   "execution_count": 5,
   "id": "7178d533-d040-4ad3-bb86-3b4b3bbd4c82",
   "metadata": {},
   "outputs": [
    {
     "name": "stdout",
     "output_type": "stream",
     "text": [
      "\n",
      "First few rows of the data:\n",
      "-------------------------\n",
      "   food_exp  income\n",
      "0    115.22    3.69\n",
      "1    135.98    4.39\n",
      "2    119.34    4.75\n",
      "3    114.96    6.03\n",
      "4    187.05   12.47\n"
     ]
    }
   ],
   "source": [
    "print(\"\\nFirst few rows of the data:\")\n",
    "print(\"-------------------------\")\n",
    "print(data.head())"
   ]
  },
  {
   "cell_type": "code",
   "execution_count": 6,
   "id": "252ff1b1-71bb-459e-88f5-415dd83f9c1a",
   "metadata": {},
   "outputs": [
    {
     "name": "stdout",
     "output_type": "stream",
     "text": [
      "\n",
      "Summary Statistics:\n",
      "------------------\n",
      "         food_exp     income\n",
      "count   40.000000  40.000000\n",
      "mean   283.573500  19.604750\n",
      "std    112.675181   6.847773\n",
      "min    109.710000   3.690000\n",
      "25%    200.377500  17.110000\n",
      "50%    264.480000  20.030000\n",
      "75%    363.325000  24.397500\n",
      "max    587.660000  33.400000\n"
     ]
    }
   ],
   "source": [
    "print(\"\\nSummary Statistics:\")\n",
    "print(\"------------------\")\n",
    "print(data.describe())"
   ]
  },
  {
   "cell_type": "code",
   "execution_count": 7,
   "id": "d78aeb54-ecaf-46c0-bfff-0cc2e6a31c52",
   "metadata": {},
   "outputs": [],
   "source": [
    "# 3. Simple Linear Regression\n",
    "# --------------------------"
   ]
  },
  {
   "cell_type": "markdown",
   "id": "89ae0fec-b571-4939-a327-9f611764f73a",
   "metadata": {},
   "source": [
    "- **Food expenditure as a function of income**\n",
    "\n",
    "We'll estimate: $$\\text{food_exp} = \\beta_0 + \\beta_1 \\times \\text{income} + \\varepsilon$$"
   ]
  },
  {
   "cell_type": "code",
   "execution_count": 8,
   "id": "952bc356-c034-4f43-88fd-b3e6983477d7",
   "metadata": {},
   "outputs": [],
   "source": [
    "# Add constant term for intercept\n",
    "X = sm.add_constant(data['income'])\n",
    "y = data['food_exp']"
   ]
  },
  {
   "cell_type": "code",
   "execution_count": 9,
   "id": "99422f84-f72d-47c4-b64f-ba6a89178d19",
   "metadata": {},
   "outputs": [],
   "source": [
    "# Fit the model\n",
    "model = sm.OLS(y, X)\n",
    "results = model.fit()"
   ]
  },
  {
   "cell_type": "code",
   "execution_count": 10,
   "id": "20b6c614-c50e-4c71-8df4-ba067a9d87b5",
   "metadata": {},
   "outputs": [
    {
     "name": "stdout",
     "output_type": "stream",
     "text": [
      "\n",
      "Regression Results:\n",
      "------------------\n",
      "                            OLS Regression Results                            \n",
      "==============================================================================\n",
      "Dep. Variable:               food_exp   R-squared:                       0.385\n",
      "Model:                            OLS   Adj. R-squared:                  0.369\n",
      "Method:                 Least Squares   F-statistic:                     23.79\n",
      "Date:                Sun, 23 Feb 2025   Prob (F-statistic):           1.95e-05\n",
      "Time:                        19:49:08   Log-Likelihood:                -235.51\n",
      "No. Observations:                  40   AIC:                             475.0\n",
      "Df Residuals:                      38   BIC:                             478.4\n",
      "Df Model:                           1                                         \n",
      "Covariance Type:            nonrobust                                         \n",
      "==============================================================================\n",
      "                 coef    std err          t      P>|t|      [0.025      0.975]\n",
      "------------------------------------------------------------------------------\n",
      "const         83.4160     43.410      1.922      0.062      -4.463     171.295\n",
      "income        10.2096      2.093      4.877      0.000       5.972      14.447\n",
      "==============================================================================\n",
      "Omnibus:                        0.277   Durbin-Watson:                   1.894\n",
      "Prob(Omnibus):                  0.870   Jarque-Bera (JB):                0.063\n",
      "Skew:                          -0.097   Prob(JB):                        0.969\n",
      "Kurtosis:                       2.989   Cond. No.                         63.7\n",
      "==============================================================================\n",
      "\n",
      "Notes:\n",
      "[1] Standard Errors assume that the covariance matrix of the errors is correctly specified.\n"
     ]
    }
   ],
   "source": [
    "# 4. Understanding Model Results\n",
    "# ----------------------------\n",
    "print(\"\\nRegression Results:\")\n",
    "print(\"------------------\")\n",
    "print(results.summary())"
   ]
  },
  {
   "cell_type": "code",
   "execution_count": 11,
   "id": "2750a438-34b4-4030-a855-bdac59006c4a",
   "metadata": {},
   "outputs": [
    {
     "name": "stdout",
     "output_type": "stream",
     "text": [
      "\n",
      "Key Findings:\n",
      "-------------\n",
      "R-squared: 0.3850\n",
      "Adjusted R-squared: 0.3688\n",
      "F-statistic: 23.7888\n",
      "F-statistic p-value: 0.0000\n",
      "\n",
      "Coefficients:\n",
      "Intercept (β₀): 83.4160\n",
      "Income coefficient (β₁): 10.2096\n"
     ]
    }
   ],
   "source": [
    "# Extract key statistics\n",
    "r_squared = results.rsquared\n",
    "adj_r_squared = results.rsquared_adj\n",
    "f_stat = results.fvalue\n",
    "f_pvalue = results.f_pvalue\n",
    "params = results.params\n",
    "std_errors = results.bse\n",
    "t_stats = results.tvalues\n",
    "p_values = results.pvalues\n",
    "\n",
    "# Print key findings\n",
    "print(\"\\nKey Findings:\")\n",
    "print(\"-------------\")\n",
    "print(f\"R-squared: {r_squared:.4f}\")\n",
    "print(f\"Adjusted R-squared: {adj_r_squared:.4f}\")\n",
    "print(f\"F-statistic: {f_stat:.4f}\")\n",
    "print(f\"F-statistic p-value: {f_pvalue:.4f}\")\n",
    "print(\"\\nCoefficients:\")\n",
    "print(f\"Intercept (β₀): {params.iloc[0]:.4f}\")\n",
    "print(f\"Income coefficient (β₁): {params.iloc[1]:.4f}\")"
   ]
  },
  {
   "cell_type": "code",
   "execution_count": 17,
   "id": "cdbabf0f-2264-4340-a400-a7be6547eaef",
   "metadata": {
    "tags": []
   },
   "outputs": [
    {
     "data": {
      "text/plain": [
       "array([121.08958457, 128.23633465, 131.91180612, 144.98014912,\n",
       "       210.73024983, 215.93716775, 228.39293217, 234.11033223,\n",
       "       239.82773229, 250.75205027, 260.55330752, 264.84135756,\n",
       "       266.47490044, 271.57972192, 272.80487908, 275.35728982,\n",
       "       275.45938625, 277.80760413, 279.64533987, 286.89418638,\n",
       "       288.93611497, 290.97804356, 291.38642928, 291.99900786,\n",
       "       302.41284369, 313.33716166, 313.64345095, 316.80844027,\n",
       "       330.48936185, 332.42919401, 332.7354833 , 340.69900482,\n",
       "       343.76189771, 355.0946014 , 356.01346927, 360.50571218,\n",
       "       360.70990503, 375.61598377, 383.57950528, 424.41807716])"
      ]
     },
     "execution_count": 17,
     "metadata": {},
     "output_type": "execute_result"
    }
   ],
   "source": [
    "results.predict()"
   ]
  },
  {
   "cell_type": "code",
   "execution_count": 12,
   "id": "308f4c2d-7d54-47a1-885d-fbf962d7d8f4",
   "metadata": {},
   "outputs": [
    {
     "data": {
      "image/png": "[encoded data removed]",
      "text/plain": [
       "<Figure size 1000x600 with 1 Axes>"
      ]
     },
     "metadata": {},
     "output_type": "display_data"
    }
   ],
   "source": [
    "# 5. Visualization\n",
    "# ---------------\n",
    "plt.figure(figsize=(10, 6))\n",
    "plt.scatter(data['income'],\n",
    "            data['food_exp'],\n",
    "            alpha=0.5)\n",
    "\n",
    "plt.plot(data['income'], \n",
    "         results.predict(),\n",
    "         'r',\n",
    "         label='Regression Line')\n",
    "\n",
    "plt.xlabel('Weekly Income (in $10s)')\n",
    "plt.ylabel('Weekly Food Expenditure (in $)')\n",
    "plt.title('Food Expenditure vs. Income')\n",
    "\n",
    "plt.legend()\n",
    "plt.grid(True, alpha=0.3)\n",
    "plt.tight_layout()\n",
    "\n",
    "plt.show()"
   ]
  },
  {
   "cell_type": "code",
   "execution_count": 13,
   "id": "fb547738-db31-41e0-8b3a-3a8a3057503e",
   "metadata": {},
   "outputs": [
    {
     "name": "stdout",
     "output_type": "stream",
     "text": [
      "\n",
      "Regression Table:\n",
      "----------------\n",
      "\n",
      "===============================\n",
      "               Food Expenditure\n",
      "-------------------------------\n",
      "const          83.4160*        \n",
      "               (43.4102)       \n",
      "income         10.2096***      \n",
      "               (2.0933)        \n",
      "R-squared      0.3850          \n",
      "R-squared Adj. 0.3688          \n",
      "N              40              \n",
      "R2             0.3850          \n",
      "Adj R2         0.3688          \n",
      "===============================\n",
      "Standard errors in parentheses.\n",
      "* p<.1, ** p<.05, ***p<.01\n"
     ]
    }
   ],
   "source": [
    "# Create a publication-quality regression table\n",
    "from statsmodels.iolib.summary2 import summary_col\n",
    "\n",
    "# Create a regression table\n",
    "reg_table = summary_col([results],\n",
    "                       model_names=['Food Expenditure'],\n",
    "                       stars=True,\n",
    "                       float_format='%0.4f',\n",
    "                       info_dict={\n",
    "                           'N':lambda x: \"{0:d}\".format(int(x.nobs)),\n",
    "                           'R2':lambda x: \"{:.4f}\".format(x.rsquared),\n",
    "                           'Adj R2':lambda x: \"{:.4f}\".format(x.rsquared_adj)\n",
    "                       })\n",
    "\n",
    "print(\"\\nRegression Table:\")\n",
    "print(\"----------------\")\n",
    "print(reg_table)"
   ]
  },
  {
   "cell_type": "code",
   "execution_count": 14,
   "id": "85b0c5b5-0e93-4851-9a3b-31db5b2010dd",
   "metadata": {},
   "outputs": [
    {
     "name": "stdout",
     "output_type": "stream",
     "text": [
      "\\begin{table}\n",
      "\\caption{}\n",
      "\\label{}\n",
      "\\begin{center}\n",
      "\\begin{tabular}{ll}\n",
      "\\hline\n",
      "               & Food Expenditure  \\\\\n",
      "\\hline\n",
      "const          & 83.4160*          \\\\\n",
      "               & (43.4102)         \\\\\n",
      "income         & 10.2096***        \\\\\n",
      "               & (2.0933)          \\\\\n",
      "R-squared      & 0.3850            \\\\\n",
      "R-squared Adj. & 0.3688            \\\\\n",
      "N              & 40                \\\\\n",
      "R2             & 0.3850            \\\\\n",
      "Adj R2         & 0.3688            \\\\\n",
      "\\hline\n",
      "\\end{tabular}\n",
      "\\end{center}\n",
      "\\end{table}\n",
      "\\bigskip\n",
      "Standard errors in parentheses. \\newline \n",
      "* p<.1, ** p<.05, ***p<.01\n"
     ]
    }
   ],
   "source": [
    "# convert the table to latex code\n",
    "print(reg_table.as_latex())"
   ]
  },
  {
   "cell_type": "code",
   "execution_count": 15,
   "id": "1daed2a6-6f50-4aca-8af7-65c85f9b1b3b",
   "metadata": {},
   "outputs": [
    {
     "name": "stdout",
     "output_type": "stream",
     "text": [
      "\n",
      "===============================\n",
      "               Food Expenditure\n",
      "-------------------------------\n",
      "const          83.4160*        \n",
      "               (43.4102)       \n",
      "income         10.2096***      \n",
      "               (2.0933)        \n",
      "R-squared      0.3850          \n",
      "R-squared Adj. 0.3688          \n",
      "N              40              \n",
      "R2             0.3850          \n",
      "Adj R2         0.3688          \n",
      "===============================\n",
      "Standard errors in parentheses.\n",
      "* p<.1, ** p<.05, ***p<.01\n"
     ]
    }
   ],
   "source": [
    "# convert the table to text \n",
    "print(reg_table.as_text())"
   ]
  },
  {
   "cell_type": "code",
   "execution_count": 16,
   "id": "b79eaa35-9c05-4630-8ea5-1f82ff0f11d4",
   "metadata": {},
   "outputs": [],
   "source": [
    "# save the results as text file\n",
    "with open('results.txt', 'w') as f:\n",
    "    f.write(reg_table.as_text())"
   ]
  },
  {
   "cell_type": "code",
   "execution_count": null,
   "id": "71a649b7-8b17-4da1-886a-428fc090ee03",
   "metadata": {},
   "outputs": [],
   "source": []
  }
 ],
 "metadata": {
  "kernelspec": {
   "display_name": "TF-GPU:2.16",
   "language": "python",
   "name": "tf-gpu"
  },
  "language_info": {
   "codemirror_mode": {
    "name": "ipython",
    "version": 3
   },
   "file_extension": ".py",
   "mimetype": "text/x-python",
   "name": "python",
   "nbconvert_exporter": "python",
   "pygments_lexer": "ipython3",
   "version": "3.11.0"
  }
 },
 "nbformat": 4,
 "nbformat_minor": 5
}

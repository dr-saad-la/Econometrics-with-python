{
 "cells": [
  {
   "cell_type": "code",
   "execution_count": 1,
   "id": "a570bd66-7c97-4dac-9351-995083b51566",
   "metadata": {},
   "outputs": [],
   "source": [
    "# ========================================================================\n",
    "#                   Advanced Econometrics with Python\n",
    "# ========================================================================\n",
    "#    Module: Data tools\n",
    "#    Topic: Understanding pandas-datareader\n",
    "#    \n",
    "#    Description:\n",
    "#    \n",
    "#    \n",
    "#    \n",
    "#    Contents:\n",
    "#    1. \n",
    "#    2. \n",
    "#\n",
    "#    Author: Dr. Saad Laouadi\n",
    "#    Version: 1.0\n",
    "#    \n",
    "# ========================================================================\n",
    "#  ®Copyright Dr. Saad Laouadi, 2025. All rights reserved.\n",
    "# ========================================================================"
   ]
  },
  {
   "cell_type": "code",
   "execution_count": 2,
   "id": "8ce315cb-a796-4051-a447-94603796a2f1",
   "metadata": {
    "tags": []
   },
   "outputs": [
    {
     "name": "stdout",
     "output_type": "stream",
     "text": [
      "****************************************************\n",
      "Author: Dr. Saad Laouadi\n",
      "\n",
      "Last updated: 2025-03-02\n",
      "\n",
      "----------------------------------------------------\n",
      "                The loaded packages                 \n",
      "----------------------------------------------------\n",
      "pandas_datareader: 0.10.0\n",
      "matplotlib       : 3.10.0\n",
      "seaborn          : 0.13.2\n",
      "numpy            : 1.26.4\n",
      "pandas           : 1.5.3\n",
      "\n",
      "****************************************************\n"
     ]
    }
   ],
   "source": [
    "# ============================================= #\n",
    "#           Setting Up Our Environment\n",
    "# ============================================= #\n",
    "\n",
    "import datetime\n",
    "\n",
    "import pandas as pd\n",
    "import numpy as np\n",
    "\n",
    "import matplotlib.pyplot as plt\n",
    "import seaborn as sns\n",
    "\n",
    "import pandas_datareader as pdr\n",
    "import pandas_datareader.data as web\n",
    "import pandas_datareader.wb as wb\n",
    "\n",
    "\n",
    "\n",
    "# Set pandas display options\n",
    "pd.set_option('display.max_columns', None)\n",
    "pd.set_option('display.width', 120)\n",
    "pd.set_option('display.precision', 3)\n",
    "\n",
    "# Set the default figure size for plots\n",
    "plt.rcParams['figure.figsize'] = [12, 6]\n",
    "\n",
    "plt.style.use('seaborn-v0_8')\n",
    "\n",
    "%reload_ext watermark\n",
    "\n",
    "print(\"*\"*52)\n",
    "%watermark -a \"Dr. Saad Laouadi\"\n",
    "%watermark -ud\n",
    "\n",
    "print(\"-\"*52)\n",
    "print(\"The loaded packages\".center(52))\n",
    "print(\"-\"*52)\n",
    "\n",
    "%watermark -iv\n",
    "\n",
    "print(\"*\"*52)"
   ]
  },
  {
   "cell_type": "markdown",
   "id": "c8fa6c22-1c53-4609-bb97-dcfc768d81f2",
   "metadata": {},
   "source": [
    "## Understanding the DataReader Function\n",
    "\n",
    "The core function in pandas-datareader is `DataReader()`, which handles retrieving data from various sources. Let's explore how this function works and its parameters in detail.\n",
    "\n",
    "### Importing the Data Module\n",
    "\n",
    "The most common way to import the data module is using the alias `web`:\n",
    "\n",
    "```python\n",
    "import pandas_datareader.data as web\n",
    "```\n",
    "\n",
    "This convention is widely used in the financial data analysis community and in the pandas-datareader documentation. The web alias provides a concise way to access the data module's functions."
   ]
  },
  {
   "cell_type": "markdown",
   "id": "0957d178-a740-4fd5-b852-a84e3e19f0b6",
   "metadata": {},
   "source": [
    "### DataReader Function Signature\n",
    "\n",
    "The complete function signature for DataReader is:\n",
    "\n",
    "```python\n",
    "DataReader(name, data_source=None, start=None, end=None, retry_count=3, pause=0.1, session=None, api_key=None)\n",
    "```\n",
    "\n",
    "## `DataReader` function Parameters in Details\n",
    "\n",
    "1. **name** (string or list of strings):\n",
    "    - Represents the dataset to fetch\n",
    "    - **For stock data**: ticker symbols (e.g., `'AAPL'`, `'MSFT'`)\n",
    "    - **For economic data**: series IDs (e.g., `'GDP'`, `'UNRATE'`)\n",
    "    - Can be a single string or a list of strings for multiple series\n",
    "    - **Example**: `'GDP'` for US GDP from FRED or `'AAPL'` for Apple stock prices\n",
    "\n",
    "2. **data_source** (string):\n",
    "    - The data source to fetch from\n",
    "    - Common values: `'fred'`, `'yahoo'`, `'wb'`, `'stooq'`, etc.\n",
    "    - Each source expects different formats for the `name` parameter\n",
    "    - **Example**: `'fred'` for Federal Reserve Economic Data\n",
    "\n",
    "3. **start (datetime or string)**:\n",
    "    - Starting date for the data\n",
    "    - Can be a `datetime` object or a string in `'YYYY-MM-DD'` format\n",
    "    - If `None`, fetches earliest available data (source dependent)\n",
    "    - **Example**: `datetime.datetime(2010, 1, 1)` or `'2010-01-01'`\n",
    "\n",
    "4. **end (datetime or string)**:\n",
    "    - Ending date for the data\n",
    "    - Can be a `datetime` object or a string in `'YYYY-MM-DD'` format\n",
    "    - If `None`, fetches most recent available data\n",
    "    - **Example**: `datetime.datetime(2023, 12, 31)` or `'2023-12-31'`\n",
    "\n",
    "5. **retry_count (int, default 3)**:\n",
    "    - Number of times to retry the request if it fails\n",
    "    - Useful for handling temporary API availability issues\n",
    "    - Higher values increase resilience to connection problems\n",
    "\n",
    "6. **pause (float, default 0.1)**:\n",
    "    - Time in seconds to pause between retried requests\n",
    "    - Helps avoid hitting rate limits when making multiple requests\n",
    "    - May need to be increased for some data sources with strict rate limiting\n",
    "\n",
    "7. **session (Session, default None)**:\n",
    "    - Requests session object to use for HTTP requests\n",
    "    - Can be used to customize headers, proxies, etc.\n",
    "    - Useful for more complex authentication scenarios\n",
    "\n",
    "8. **api_key (string, default None)**:\n",
    "    - API key for data sources that require authentication\n",
    "    - Used by sources like IEX, Tiingo, Alpha Vantage\n",
    "    - Not required for FRED, Yahoo Finance, or World Bank\n",
    "\n",
    "## Return Value\n",
    "The `DataReader` function returns data in the following formats:\n",
    "\n",
    "1. **For single series requests**:\n",
    "    - Returns a `pandas.DataFrame` with `DatetimeIndex`\n",
    "    - Columns depend on the data source and series requested\n",
    "\n",
    "2. **For multiple series requests (when `name` is a list)**:\n",
    "    - Returns a `DataFrame` with `DatetimeIndex`\n",
    "    - Each requested series becomes a column in the `DataFrame`"
   ]
  },
  {
   "cell_type": "markdown",
   "id": "d1c7a681-61c1-483f-93ee-5ab7f8dbfaf0",
   "metadata": {},
   "source": [
    "## Source-Specific Behaviors\n",
    "\n",
    "Different data sources have unique characteristics when used with DataReader:\n",
    "\n",
    "### FRED\n",
    "\n",
    "```python\n",
    "# Returns a DataFrame with DatetimeIndex and a single column named after the series ID\n",
    "gdp = web.DataReader('GDP', 'fred', start, end)\n",
    "# gdp has a column named 'GDP'\n",
    "```"
   ]
  },
  {
   "cell_type": "code",
   "execution_count": 3,
   "id": "c592b5ab-42c1-4f01-b26a-323eb79bfdb4",
   "metadata": {
    "tags": []
   },
   "outputs": [
    {
     "data": {
      "text/html": [
       "<div>\n",
       "<style scoped>\n",
       "    .dataframe tbody tr th:only-of-type {\n",
       "        vertical-align: middle;\n",
       "    }\n",
       "\n",
       "    .dataframe tbody tr th {\n",
       "        vertical-align: top;\n",
       "    }\n",
       "\n",
       "    .dataframe thead th {\n",
       "        text-align: right;\n",
       "    }\n",
       "</style>\n",
       "<table border=\"1\" class=\"dataframe\">\n",
       "  <thead>\n",
       "    <tr style=\"text-align: right;\">\n",
       "      <th></th>\n",
       "      <th>GDP</th>\n",
       "    </tr>\n",
       "    <tr>\n",
       "      <th>DATE</th>\n",
       "      <th></th>\n",
       "    </tr>\n",
       "  </thead>\n",
       "  <tbody>\n",
       "    <tr>\n",
       "      <th>2018-01-01</th>\n",
       "      <td>20328.553</td>\n",
       "    </tr>\n",
       "    <tr>\n",
       "      <th>2018-04-01</th>\n",
       "      <td>20580.912</td>\n",
       "    </tr>\n",
       "    <tr>\n",
       "      <th>2018-07-01</th>\n",
       "      <td>20798.730</td>\n",
       "    </tr>\n",
       "    <tr>\n",
       "      <th>2018-10-01</th>\n",
       "      <td>20917.867</td>\n",
       "    </tr>\n",
       "    <tr>\n",
       "      <th>2019-01-01</th>\n",
       "      <td>21111.600</td>\n",
       "    </tr>\n",
       "  </tbody>\n",
       "</table>\n",
       "</div>"
      ],
      "text/plain": [
       "                  GDP\n",
       "DATE                 \n",
       "2018-01-01  20328.553\n",
       "2018-04-01  20580.912\n",
       "2018-07-01  20798.730\n",
       "2018-10-01  20917.867\n",
       "2019-01-01  21111.600"
      ]
     },
     "execution_count": 3,
     "metadata": {},
     "output_type": "execute_result"
    }
   ],
   "source": [
    "# Returns a DataFrame with DatetimeIndex and a single column named after the series ID\n",
    "gdp = web.DataReader('GDP', 'fred', start=\"2018-1-1\", end = \"2023-12-31\")\n",
    "gdp.head()"
   ]
  },
  {
   "cell_type": "markdown",
   "id": "8ea82eee-5ce5-4749-b7d4-06efd3d9bf69",
   "metadata": {},
   "source": [
    "### World Bank (note: slightly different usage pattern)\n",
    "\n",
    "```python\n",
    "# Not typically used directly with DataReader, but through the wb.download function\n",
    "from pandas_datareader import wb\n",
    "wb_data = wb.download(indicator='NY.GDP.PCAP.CD', country=['US', 'JP'], start=2010, end=2020)\n",
    "```"
   ]
  },
  {
   "cell_type": "markdown",
   "id": "c78d1ed7-bbb3-401b-be22-8ba4f6cfc462",
   "metadata": {},
   "source": [
    "### Examples with Different Parameter Configurations\n",
    "\n",
    "#### Basic Usage"
   ]
  },
  {
   "cell_type": "code",
   "execution_count": 4,
   "id": "8639dd5c-17bd-425a-9a39-c1e1f29654a7",
   "metadata": {
    "tags": []
   },
   "outputs": [
    {
     "name": "stdout",
     "output_type": "stream",
     "text": [
      "                  GDP\n",
      "DATE                 \n",
      "2020-01-01  21727.657\n",
      "2020-04-01  19935.444\n",
      "2020-07-01  21684.551\n",
      "2020-10-01  22068.767\n",
      "2021-01-01  22656.793\n"
     ]
    }
   ],
   "source": [
    "import pandas_datareader.data as web\n",
    "import datetime\n",
    "\n",
    "start = datetime.datetime(2020, 1, 1)\n",
    "end = datetime.datetime(2022, 12, 31)\n",
    "\n",
    "# Get US GDP data from FRED\n",
    "gdp = web.DataReader('GDP', 'fred', start, end)\n",
    "print(gdp.head())"
   ]
  },
  {
   "cell_type": "markdown",
   "id": "59006f6f-f0dc-4d0e-9dd2-746516c54833",
   "metadata": {},
   "source": [
    "### Multiple Series"
   ]
  },
  {
   "cell_type": "code",
   "execution_count": 5,
   "id": "585649c1-6736-4fd6-ba81-e8be77954378",
   "metadata": {
    "tags": []
   },
   "outputs": [
    {
     "name": "stdout",
     "output_type": "stream",
     "text": [
      "                  GDP  UNRATE  CPIAUCSL\n",
      "DATE                                   \n",
      "2020-01-01  21727.657     3.6   259.127\n",
      "2020-02-01        NaN     3.5   259.250\n",
      "2020-03-01        NaN     4.4   258.076\n",
      "2020-04-01  19935.444    14.8   256.032\n",
      "2020-05-01        NaN    13.2   255.802\n"
     ]
    }
   ],
   "source": [
    "# Get multiple economic indicators in one call\n",
    "indicators = web.DataReader(['GDP', 'UNRATE', 'CPIAUCSL'], 'fred', start, end)\n",
    "print(indicators.head())"
   ]
  },
  {
   "cell_type": "markdown",
   "id": "8789dc1d-b021-4e05-bcae-2feb2b4ca3f8",
   "metadata": {},
   "source": [
    "### With Custom Session"
   ]
  },
  {
   "cell_type": "raw",
   "id": "06eb0d1d-efcc-41bf-91d2-425da8b7b4d1",
   "metadata": {
    "tags": []
   },
   "source": [
    "import requests\n",
    "\n",
    "# Create a custom session with specific headers\n",
    "session = requests.Session()\n",
    "session.headers.update({'User-Agent': 'MyDataApp/1.0'})\n",
    "\n",
    "# Use the custom session with DataReader\n",
    "data = web.DataReader('AAPL', 'yahoo', start, end, session=session)"
   ]
  },
  {
   "cell_type": "markdown",
   "id": "fa711409-87f0-46cd-b016-22ca6e18076a",
   "metadata": {},
   "source": [
    "### With Error Handling"
   ]
  },
  {
   "cell_type": "code",
   "execution_count": 6,
   "id": "4fc753dc-24f0-4c10-b1f9-9eecadddc3d7",
   "metadata": {
    "tags": []
   },
   "outputs": [
    {
     "name": "stdout",
     "output_type": "stream",
     "text": [
      "Error fetching data: 'NoneType' object has no attribute 'group'\n"
     ]
    }
   ],
   "source": [
    "try:\n",
    "    data = web.DataReader('AAPL', 'yahoo', start, end, retry_count=5, pause=0.5)\n",
    "except Exception as e:\n",
    "    print(f\"Error fetching data: {e}\")\n",
    "    # Fallback logic or error handling"
   ]
  },
  {
   "cell_type": "markdown",
   "id": "4c2a0290-061d-421a-93ac-f9f2f8df41fa",
   "metadata": {},
   "source": [
    "### Common Errors and Troubleshooting\n",
    "\n",
    "1. RemoteDataError: Raised when the requested data isn't available\n",
    "    - Check that the series ID or ticker symbol is correct\n",
    "    - Verify the date range is valid for the requested data\n",
    "    - Ensure the data source is operating normally\n",
    "\n",
    "\n",
    "2. HTTP 403 Forbidden: Often indicates rate limiting or access restrictions\n",
    "    - Increase the pause parameter\n",
    "    - Use a custom session with appropriate headers\n",
    "    - Check if the data source requires authentication\n",
    "\n",
    "\n",
    "3. Connection issues:\n",
    "    - Increase retry_count and pause parameters\n",
    "    - Verify internet connectivity\n",
    "    - Consider implementing exponential backoff for retries"
   ]
  },
  {
   "cell_type": "markdown",
   "id": "87445448-3d48-461e-9022-efd79d5ae866",
   "metadata": {},
   "source": [
    "### Alternatives to DataReader\n",
    "For more control or specialized access, pandas-datareader provides source-specific functions:    "
   ]
  },
  {
   "cell_type": "code",
   "execution_count": 7,
   "id": "f5c45cd4-9b95-45c2-b520-ced1c8453893",
   "metadata": {
    "tags": []
   },
   "outputs": [
    {
     "data": {
      "text/html": [
       "<div>\n",
       "<style scoped>\n",
       "    .dataframe tbody tr th:only-of-type {\n",
       "        vertical-align: middle;\n",
       "    }\n",
       "\n",
       "    .dataframe tbody tr th {\n",
       "        vertical-align: top;\n",
       "    }\n",
       "\n",
       "    .dataframe thead th {\n",
       "        text-align: right;\n",
       "    }\n",
       "</style>\n",
       "<table border=\"1\" class=\"dataframe\">\n",
       "  <thead>\n",
       "    <tr style=\"text-align: right;\">\n",
       "      <th></th>\n",
       "      <th>GDP</th>\n",
       "    </tr>\n",
       "    <tr>\n",
       "      <th>DATE</th>\n",
       "      <th></th>\n",
       "    </tr>\n",
       "  </thead>\n",
       "  <tbody>\n",
       "    <tr>\n",
       "      <th>2020-01-01</th>\n",
       "      <td>21727.657</td>\n",
       "    </tr>\n",
       "    <tr>\n",
       "      <th>2020-04-01</th>\n",
       "      <td>19935.444</td>\n",
       "    </tr>\n",
       "    <tr>\n",
       "      <th>2020-07-01</th>\n",
       "      <td>21684.551</td>\n",
       "    </tr>\n",
       "    <tr>\n",
       "      <th>2020-10-01</th>\n",
       "      <td>22068.767</td>\n",
       "    </tr>\n",
       "    <tr>\n",
       "      <th>2021-01-01</th>\n",
       "      <td>22656.793</td>\n",
       "    </tr>\n",
       "  </tbody>\n",
       "</table>\n",
       "</div>"
      ],
      "text/plain": [
       "                  GDP\n",
       "DATE                 \n",
       "2020-01-01  21727.657\n",
       "2020-04-01  19935.444\n",
       "2020-07-01  21684.551\n",
       "2020-10-01  22068.767\n",
       "2021-01-01  22656.793"
      ]
     },
     "execution_count": 7,
     "metadata": {},
     "output_type": "execute_result"
    }
   ],
   "source": [
    "# Instead of DataReader('GDP', 'fred', start, end)\n",
    "from pandas_datareader.fred import FredReader\n",
    "fred_reader = FredReader('GDP', start=start, end=end)\n",
    "data = fred_reader.read()\n",
    "\n",
    "data.head()"
   ]
  },
  {
   "cell_type": "code",
   "execution_count": null,
   "id": "b5e7733b-4dfa-4e22-a3b1-3c55257ff0f6",
   "metadata": {},
   "outputs": [],
   "source": []
  }
 ],
 "metadata": {
  "kernelspec": {
   "display_name": "TF-GPU:2.16",
   "language": "python",
   "name": "tf-gpu"
  },
  "language_info": {
   "codemirror_mode": {
    "name": "ipython",
    "version": 3
   },
   "file_extension": ".py",
   "mimetype": "text/x-python",
   "name": "python",
   "nbconvert_exporter": "python",
   "pygments_lexer": "ipython3",
   "version": "3.11.0"
  }
 },
 "nbformat": 4,
 "nbformat_minor": 5
}

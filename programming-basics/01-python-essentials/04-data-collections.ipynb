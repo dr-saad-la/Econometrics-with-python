{
 "cells": [
  {
   "cell_type": "markdown",
   "metadata": {},
   "source": [
    "# Python for Economists - Data Structures\n",
    "## Working with Economic Data Collections\n",
    "\n",
    "In this notebook, we'll learn how to work with collections of economic data. We'll cover:\n",
    "* Lists (for time series data)\n",
    "* Dictionaries (for organizing economic indicators)\n",
    "* Basic data operations\n",
    "* Introduction to working with economic datasets\n",
    "\n",
    "### Why Data Structures Matter in Economics\n",
    "* Store and analyze time series data\n",
    "* Organize cross-sectional economic data\n",
    "* Handle panel data efficiently\n",
    "* Process multiple economic indicators"
   ]
  },
  {
   "cell_type": "markdown",
   "metadata": {},
   "source": [
    "## 1. Lists in Python\n",
    "\n",
    "Lists are perfect for storing time series data or sequences of economic values. Think of them as columns in your economic data table."
   ]
  },
  {
   "cell_type": "code",
   "execution_count": null,
   "metadata": {},
   "outputs": [],
   "source": [
    "# Creating lists of economic data\n",
    "gdp_values = [20.94, 21.43, 22.99, 23.32]  # GDP in trillion USD\n",
    "years = [2019, 2020, 2021, 2022]\n",
    "unemployment_rates = [3.7, 8.1, 5.4, 3.6]  # in percentage\n",
    "\n",
    "# Accessing list elements\n",
    "print(f\"GDP in 2020: ${gdp_values[1]} trillion\")\n",
    "print(f\"Most recent unemployment rate: {unemployment_rates[-1]}%\")\n",
    "\n",
    "# List length\n",
    "print(f\"Number of years in the dataset: {len(years)}\")"
   ]
  },
  {
   "cell_type": "markdown",
   "metadata": {},
   "source": [
    "### Basic List Operations for Economic Analysis"
   ]
  },
  {
   "cell_type": "code",
   "execution_count": null,
   "metadata": {},
   "outputs": [],
   "source": [
    "# Calculate year-over-year GDP growth rates\n",
    "gdp_growth_rates = []\n",
    "for i in range(1, len(gdp_values)):\n",
    "    growth_rate = ((gdp_values[i] - gdp_values[i-1]) / gdp_values[i-1]) * 100\n",
    "    gdp_growth_rates.append(round(growth_rate, 2))\n",
    "\n",
    "print(\"GDP Growth Rates (%):\", gdp_growth_rates)\n",
    "\n",
    "# Basic statistical operations\n",
    "average_unemployment = sum(unemployment_rates) / len(unemployment_rates)\n",
    "max_unemployment = max(unemployment_rates)\n",
    "min_unemployment = min(unemployment_rates)\n",
    "\n",
    "print(f\"\\nUnemployment Statistics:\")\n",
    "print(f\"Average: {average_unemployment:.1f}%\")\n",
    "print(f\"Maximum: {max_unemployment}%\")\n",
    "print(f\"Minimum: {min_unemployment}%\")"
   ]
  },
  {
   "cell_type": "markdown",
   "metadata": {},
   "source": [
    "## 2. Dictionaries in Python\n",
    "\n",
    "Dictionaries are ideal for storing related economic indicators or cross-sectional data across countries/regions."
   ]
  },
  {
   "cell_type": "code",
   "execution_count": null,
   "metadata": {},
   "outputs": [],
   "source": [
    "# Economic indicators for different countries\n",
    "country_indicators = {\n",
    "    \"USA\": {\n",
    "        \"gdp\": 23.32,\n",
    "        \"unemployment\": 3.6,\n",
    "        \"inflation\": 8.0\n",
    "    },\n",
    "    \"Japan\": {\n",
    "        \"gdp\": 4.94,\n",
    "        \"unemployment\": 2.6,\n",
    "        \"inflation\": 3.8\n",
    "    },\n",
    "    \"Germany\": {\n",
    "        \"gdp\": 4.26,\n",
    "        \"unemployment\": 3.0,\n",
    "        \"inflation\": 7.5\n",
    "    }\n",
    "}\n",
    "\n",
    "# Accessing dictionary data\n",
    "print(f\"US GDP: ${country_indicators['USA']['gdp']} trillion\")\n",
    "print(f\"Japan Unemployment: {country_indicators['Japan']['unemployment']}%\")\n",
    "\n",
    "# Comparing inflation rates\n",
    "for country, data in country_indicators.items():\n",
    "    print(f\"{country} inflation rate: {data['inflation']}%\")"
   ]
  },
  {
   "cell_type": "markdown",
   "metadata": {},
   "source": [
    "### Working with Economic Time Series Data"
   ]
  },
  {
   "cell_type": "code",
   "execution_count": null,
   "metadata": {},
   "outputs": [],
   "source": [
    "# Creating a time series of quarterly GDP data\n",
    "quarterly_gdp = {\n",
    "    \"2022-Q1\": 24.386,\n",
    "    \"2022-Q2\": 24.899,\n",
    "    \"2022-Q3\": 25.725,\n",
    "    \"2022-Q4\": 25.462\n",
    "}\n",
    "\n",
    "# Calculate quarterly growth rates\n",
    "quarters = list(quarterly_gdp.keys())\n",
    "values = list(quarterly_gdp.values())\n",
    "\n",
    "print(\"Quarterly GDP Growth Rates:\")\n",
    "for i in range(1, len(quarters)):\n",
    "    growth = ((values[i] - values[i-1]) / values[i-1]) * 100\n",
    "    print(f\"{quarters[i]}: {growth:.1f}%\")"
   ]
  },
  {
   "cell_type": "markdown",
   "metadata": {},
   "source": [
    "## 3. Combining Lists and Dictionaries\n",
    "\n",
    "Let's create a more complex economic dataset combining both data structures."
   ]
  },
  {
   "cell_type": "code",
   "execution_count": null,
   "metadata": {},
   "outputs": [],
   "source": [
    "# Economic data for multiple countries over time\n",
    "economic_data = {\n",
    "    \"USA\": {\n",
    "        \"gdp\": [20.94, 21.43, 22.99, 23.32],\n",
    "        \"unemployment\": [3.7, 8.1, 5.4, 3.6],\n",
    "        \"years\": [2019, 2020, 2021, 2022]\n",
    "    },\n",
    "    \"Japan\": {\n",
    "        \"gdp\": [5.08, 4.92, 4.94, 4.23],\n",
    "        \"unemployment\": [2.4, 2.8, 2.8, 2.6],\n",
    "        \"years\": [2019, 2020, 2021, 2022]\n",
    "    }\n",
    "}\n",
    "\n",
    "# Analysis example: Compare GDP growth patterns\n",
    "for country, data in economic_data.items():\n",
    "    print(f\"\\n{country} GDP Growth Rates:\")\n",
    "    gdp_values = data['gdp']\n",
    "    years = data['years']\n",
    "    \n",
    "    for i in range(1, len(gdp_values)):\n",
    "        growth = ((gdp_values[i] - gdp_values[i-1]) / gdp_values[i-1]) * 100\n",
    "        print(f\"{years[i]}: {growth:.1f}%\")"
   ]
  },
  {
   "cell_type": "markdown",
   "metadata": {},
   "source": [
    "## 4. Basic Data Analysis Functions"
   ]
  },
  {
   "cell_type": "code",
   "execution_count": null,
   "metadata": {},
   "outputs": [],
   "source": [
    "def calculate_basic_statistics(data_list):\n",
    "    \"\"\"Calculate basic statistical measures for economic data\"\"\"\n",
    "    mean = sum(data_list) / len(data_list)\n",
    "    sorted_data = sorted(data_list)\n",
    "    n = len(sorted_data)\n",
    "    \n",
    "    # Calculate median\n",
    "    if n % 2 == 0:\n",
    "        median = (sorted_data[n//2 - 1] + sorted_data[n//2]) / 2\n",
    "    else:\n",
    "        median = sorted_data[n//2]\n",
    "    \n",
    "    # Calculate variance and standard deviation\n",
    "    variance = sum((x - mean) ** 2 for x in data_list) / (n - 1)\n",
    "    std_dev = variance ** 0.5\n",
    "    \n",
    "    return {\n",
    "        \"mean\": mean,\n",
    "        \"median\": median,\n",
    "        \"std_dev\": std_dev,\n",
    "        \"min\": min(data_list),\n",
    "        \"max\": max(data_list)\n",
    "    }\n",
    "\n",
    "# Example: Analyze unemployment rates\n",
    "us_unemployment = economic_data[\"USA\"][\"unemployment\"]\n",
    "stats = calculate_basic_statistics(us_unemployment)\n",
    "\n",
    "print(\"US Unemployment Statistics:\")\n",
    "for metric, value in stats.items():\n",
    "    print(f\"{metric}: {value:.2f}\")"
   ]
  },
  {
   "cell_type": "markdown",
   "metadata": {},
   "source": [
    "## Practice Exercises\n",
    "\n",
    "1. Create a list of monthly inflation rates for 2022 and calculate:\n",
    "   * Average inflation rate\n",
    "   * Number of months with inflation above 5%\n",
    "   * The month with highest inflation\n",
    "\n",
    "2. Create a dictionary of economic indicators for three countries and:\n",
    "   * Compare their GDP per capita\n",
    "   * Find the country with lowest unemployment\n",
    "   * Calculate average inflation across all countries\n",
    "\n",
    "3. Using the provided `calculate_basic_statistics` function:\n",
    "   * Analyze GDP growth rates for both USA and Japan\n",
    "   * Compare the volatility (standard deviation) of their growth rates\n",
    "\n",
    "## Key Takeaways\n",
    "\n",
    "* Lists are excellent for time series economic data\n",
    "* Dictionaries help organize complex economic indicators\n",
    "* Combining both allows for sophisticated data organization\n",
    "* Basic statistical analysis can be performed easily\n",
    "\n",
    "## Next Steps\n",
    "\n",
    "In the next notebook, we'll cover:\n",
    "* Introduction to Pandas for economic data analysis\n",
    "* Data visualization with Matplotlib\n",
    "* Importing and working with real economic datasets"
   ]
  }
 ],
 "metadata": {
  "kernelspec": {
   "display_name": "ML-ENV-Py-3.12",
   "language": "python",
   "name": "mlenv"
  },
  "language_info": {
   "codemirror_mode": {
    "name": "ipython",
    "version": 3
   },
   "file_extension": ".py",
   "mimetype": "text/x-python",
   "name": "python",
   "nbconvert_exporter": "python",
   "pygments_lexer": "ipython3",
   "version": "3.12.2"
  }
 },
 "nbformat": 4,
 "nbformat_minor": 4
}

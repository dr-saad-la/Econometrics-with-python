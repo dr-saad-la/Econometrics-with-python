{
 "cells": [
  {
   "cell_type": "markdown",
   "metadata": {},
   "source": [
    "# Introduction to Python for Econometricians"
   ]
  },
  {
   "cell_type": "markdown",
   "metadata": {},
   "source": [
    "## Getting Started with Python Programming\n",
    "\n",
    "Welcome to the introduction to Python programming for economic analysis! This notebook is designed specifically for economists and students of economics and econometrics who are new to programming. We'll start with the basics and gradually build up to concepts that are directly applicable to economic analysis."
   ]
  },
  {
   "cell_type": "markdown",
   "metadata": {},
   "source": [
    "### What is Python?\n",
    "\n",
    "Python is a powerful programming language that's particularly well-suited for:\n",
    "\n",
    " * Data analysis and manipulation\n",
    " * Statistical computations\n",
    " * Economic modeling\n",
    " * Creating visualizations\n",
    " * Machine learning and econometrics"
   ]
  },
  {
   "cell_type": "markdown",
   "metadata": {},
   "source": [
    "### Why Python for Economics?\n",
    "\n",
    "  * Easy to learn and read\n",
    "  * Extensive libraries for economic analysis\n",
    "  * Strong data handling capabilities\n",
    "  * Excellent visualization tools\n",
    "  * Free and open-source\n",
    "  * Large community support"
   ]
  },
  {
   "cell_type": "markdown",
   "metadata": {},
   "source": [
    "## 1. Basic Python Operations\n",
    "\n",
    "Let's start with some basic operations that economists frequently use. Python can work as a sophisticated calculator!"
   ]
  },
  {
   "cell_type": "code",
   "execution_count": null,
   "metadata": {},
   "outputs": [
    {
     "name": "stdout",
     "output_type": "stream",
     "text": [
      "Basic Arithmetic:\n",
      "\n",
      "Addition: 15\n",
      "Subtraction: 5\n",
      "Multiplication: 50\n",
      "Division: 2.0\n",
      "Percentage: 50.0\n",
      "\n",
      "end!\n"
     ]
    }
   ],
   "source": [
    "# Basic arithmetic operations\n",
    "# ==========================\n",
    "\n",
    "print(\"Basic Arithmetic:\")\n",
    "print()\n",
    "\n",
    "print(\"Addition:\", 10 + 5)\n",
    "print(\"Subtraction:\", 10 - 5)\n",
    "print(\"Multiplication:\", 10 * 5)\n",
    "print(\"Division:\", 10 / 5)\n",
    "print(\"Percentage:\", (5/100) * 1000)  # Calculate 5% of 1000\n",
    "\n",
    "print()\n",
    "print(\"end!\")"
   ]
  },
  {
   "cell_type": "markdown",
   "metadata": {},
   "source": [
    "# Python Print Statement Tutorial\n",
    "## For Econometrics Students"
   ]
  },
  {
   "cell_type": "markdown",
   "metadata": {},
   "source": [
    "### 1. Basic Print Statement\n",
    "The `print()` function is used to display information in Python. It's like writing output to your screen."
   ]
  },
  {
   "cell_type": "code",
   "execution_count": 4,
   "metadata": {
    "tags": []
   },
   "outputs": [
    {
     "name": "stdout",
     "output_type": "stream",
     "text": [
      "Welcome to Economics!\n",
      "42\n",
      "3.14\n"
     ]
    }
   ],
   "source": [
    "# Simple print statement\n",
    "print(\"Welcome to Economics!\")\n",
    "\n",
    "# Printing numbers\n",
    "print(42)\n",
    "print(3.14)"
   ]
  },
  {
   "cell_type": "markdown",
   "metadata": {},
   "source": [
    "### 2. Printing Variables\n",
    "We can print the contents of variables directly."
   ]
  },
  {
   "cell_type": "code",
   "execution_count": 5,
   "metadata": {
    "tags": []
   },
   "outputs": [
    {
     "name": "stdout",
     "output_type": "stream",
     "text": [
      "20500\n",
      "2.5\n",
      "France\n"
     ]
    }
   ],
   "source": [
    "# Economic variables\n",
    "gdp = 20500\n",
    "inflation_rate = 2.5\n",
    "country = \"France\"\n",
    "\n",
    "# Printing variables\n",
    "print(gdp)\n",
    "print(inflation_rate)\n",
    "print(country)"
   ]
  },
  {
   "cell_type": "markdown",
   "metadata": {},
   "source": [
    "### 3. Combining Text and Variables\n",
    "There are multiple ways to combine text and variables in print statements."
   ]
  },
  {
   "cell_type": "code",
   "execution_count": 6,
   "metadata": {
    "tags": []
   },
   "outputs": [
    {
     "name": "stdout",
     "output_type": "stream",
     "text": [
      "GDP value: 20500\n",
      "Inflation rate: 2.5\n",
      "Country: France\n",
      "The GDP is 20500 billion dollars\n",
      "The inflation rate is 2.5%\n",
      "The country being analyzed is France\n"
     ]
    }
   ],
   "source": [
    "# Using commas\n",
    "print(\"GDP value:\", gdp)\n",
    "print(\"Inflation rate:\", inflation_rate)\n",
    "print(\"Country:\", country)\n",
    "\n",
    "# Using f-strings (recommended method)\n",
    "print(f\"The GDP is {gdp} billion dollars\")\n",
    "print(f\"The inflation rate is {inflation_rate}%\")\n",
    "print(f\"The country being analyzed is {country}\")"
   ]
  },
  {
   "cell_type": "markdown",
   "metadata": {},
   "source": [
    "### 4. Formatting Numbers\n",
    "When working with economic data, we often need to format numbers nicely."
   ]
  },
  {
   "cell_type": "code",
   "execution_count": 7,
   "metadata": {
    "tags": []
   },
   "outputs": [
    {
     "name": "stdout",
     "output_type": "stream",
     "text": [
      "Price (2 decimals): 123.46\n",
      "GDP: $1,234,567.89\n"
     ]
    }
   ],
   "source": [
    "# Rounding numbers\n",
    "price = 123.45678\n",
    "print(f\"Price (2 decimals): {price:.2f}\")\n",
    "\n",
    "# Large numbers with commas\n",
    "large_gdp = 1234567.89\n",
    "print(f\"GDP: ${large_gdp:,.2f}\")"
   ]
  },
  {
   "cell_type": "markdown",
   "metadata": {},
   "source": [
    "### 5. Printing Multiple Lines\n",
    "For economic reports, we might want to print multiple lines of information."
   ]
  },
  {
   "cell_type": "code",
   "execution_count": 8,
   "metadata": {
    "tags": []
   },
   "outputs": [
    {
     "name": "stdout",
     "output_type": "stream",
     "text": [
      "\n",
      "Trade Statistics:\n",
      "Exports: $1500 million\n",
      "Imports: $1200 million\n",
      "Balance: $300 million\n",
      "\n"
     ]
    }
   ],
   "source": [
    "# Economic statistics\n",
    "exports = 1500\n",
    "imports = 1200\n",
    "trade_balance = exports - imports\n",
    "\n",
    "print(f\"\"\"\n",
    "Trade Statistics:\n",
    "Exports: ${exports} million\n",
    "Imports: ${imports} million\n",
    "Balance: ${trade_balance} million\n",
    "\"\"\")"
   ]
  },
  {
   "cell_type": "markdown",
   "metadata": {},
   "source": [
    "## Practice Exercises"
   ]
  },
  {
   "cell_type": "markdown",
   "metadata": {},
   "source": [
    "### Exercise 1: Basic Printing\n",
    "Create a variable called 'unemployment_rate' with value 5.7 and print it with descriptive text."
   ]
  },
  {
   "cell_type": "code",
   "execution_count": 9,
   "metadata": {
    "tags": []
   },
   "outputs": [
    {
     "name": "stdout",
     "output_type": "stream",
     "text": [
      "The unemployment rate is 5.7\n"
     ]
    }
   ],
   "source": [
    "# Your solution here:\n",
    "unemployment_rate = 5.7\n",
    "print(\"The unemployment rate is\", unemployment_rate)"
   ]
  },
  {
   "cell_type": "markdown",
   "metadata": {},
   "source": [
    "### Exercise 2: Multiple Variables\n",
    "Create and print economic indicators for a country."
   ]
  },
  {
   "cell_type": "code",
   "execution_count": 10,
   "metadata": {
    "tags": []
   },
   "outputs": [
    {
     "name": "stdout",
     "output_type": "stream",
     "text": [
      "Germany: Growth = 3.2%, Inflation = 2.1%\n"
     ]
    }
   ],
   "source": [
    "# Your solution here:\n",
    "gdp_growth = 3.2\n",
    "inflation = 2.1\n",
    "country = \"Germany\"\n",
    "print(f\"{country}: Growth = {gdp_growth}%, Inflation = {inflation}%\")"
   ]
  },
  {
   "cell_type": "markdown",
   "metadata": {},
   "source": [
    "### Exercise 3: Formatting Numbers\n",
    "Format a debt-to-GDP ratio with one decimal place."
   ]
  },
  {
   "cell_type": "code",
   "execution_count": 11,
   "metadata": {
    "tags": []
   },
   "outputs": [
    {
     "name": "stdout",
     "output_type": "stream",
     "text": [
      "Debt to GDP ratio: 78.9%\n"
     ]
    }
   ],
   "source": [
    "# Your solution here:\n",
    "debt_gdp_ratio = 78.93456\n",
    "print(f\"Debt to GDP ratio: {debt_gdp_ratio:.1f}%\")"
   ]
  },
  {
   "cell_type": "markdown",
   "metadata": {},
   "source": [
    "### Exercise 4: Economic Report\n",
    "Create a formatted economic report for a country."
   ]
  },
  {
   "cell_type": "code",
   "execution_count": 12,
   "metadata": {
    "tags": []
   },
   "outputs": [
    {
     "name": "stdout",
     "output_type": "stream",
     "text": [
      "\n",
      "Economic Report for Spain\n",
      "---------------------------\n",
      "GDP: $1,234.56 billion\n",
      "Unemployment: 6.7%\n",
      "Inflation Rate: 1.9%\n",
      "\n"
     ]
    }
   ],
   "source": [
    "# Your solution here:\n",
    "country_name = \"Spain\"\n",
    "gdp_value = 1234.56\n",
    "unemployment = 6.7\n",
    "inflation_rate = 1.9\n",
    "\n",
    "print(f\"\"\"\n",
    "Economic Report for {country_name}\n",
    "---------------------------\n",
    "GDP: ${gdp_value:,.2f} billion\n",
    "Unemployment: {unemployment}%\n",
    "Inflation Rate: {inflation_rate}%\n",
    "\"\"\")"
   ]
  },
  {
   "cell_type": "markdown",
   "metadata": {},
   "source": [
    "## Additional Practice Ideas\n",
    "Try these exercises to strengthen your understanding:\n",
    "\n",
    "1. Print quarterly GDP growth rates for a year\n",
    "2. Create a comparison report for two countries\n",
    "3. Format large numbers (millions/billions) with proper separators\n",
    "4. Make an inflation forecast report with multiple indicators"
   ]
  },
  {
   "cell_type": "code",
   "execution_count": null,
   "metadata": {},
   "outputs": [],
   "source": [
    "### Example Solution (Quarterly Growth)"
   ]
  },
  {
   "cell_type": "code",
   "execution_count": 13,
   "metadata": {
    "tags": []
   },
   "outputs": [
    {
     "name": "stdout",
     "output_type": "stream",
     "text": [
      "\n",
      "Quarterly Growth Rates:\n",
      "Q1: 2.3%\n",
      "Q2: 2.7%\n",
      "Q3: 1.9%\n",
      "Q4: 2.5%\n",
      "Average: 2.4%\n",
      "\n"
     ]
    }
   ],
   "source": [
    "q1_growth = 2.3\n",
    "q2_growth = 2.7\n",
    "q3_growth = 1.9\n",
    "q4_growth = 2.5\n",
    "\n",
    "print(f\"\"\"\n",
    "Quarterly Growth Rates:\n",
    "Q1: {q1_growth}%\n",
    "Q2: {q2_growth}%\n",
    "Q3: {q3_growth}%\n",
    "Q4: {q4_growth}%\n",
    "Average: {(q1_growth + q2_growth + q3_growth + q4_growth) / 4:.1f}%\n",
    "\"\"\")"
   ]
  },
  {
   "cell_type": "markdown",
   "metadata": {},
   "source": [
    "## Summary\n",
    "* Use `print()` to display information\n",
    "* f-strings make formatting easy: `f\"text {variable}\"`\n",
    "* Format numbers using `.2f` for 2 decimal places\n",
    "* Use triple quotes `\"\"\"` for multi-line output\n",
    "* Always add units (%, $, etc.) for clarity in economic data"
   ]
  },
  {
   "cell_type": "code",
   "execution_count": null,
   "metadata": {},
   "outputs": [],
   "source": []
  }
 ],
 "metadata": {
  "kernelspec": {
   "display_name": "TF-GPU:2.16",
   "language": "python",
   "name": "tf-gpu"
  },
  "language_info": {
   "codemirror_mode": {
    "name": "ipython",
    "version": 3
   },
   "file_extension": ".py",
   "mimetype": "text/x-python",
   "name": "python",
   "nbconvert_exporter": "python",
   "pygments_lexer": "ipython3",
   "version": "3.11.0"
  }
 },
 "nbformat": 4,
 "nbformat_minor": 4
}

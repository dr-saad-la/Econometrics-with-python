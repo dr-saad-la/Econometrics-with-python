{
 "cells": [
  {
   "cell_type": "markdown",
   "metadata": {},
   "source": [
    "# Python Setup for Econometricians"
   ]
  },
  {
   "cell_type": "markdown",
   "metadata": {},
   "source": [
    "## Setting Up Your Python Environment\n",
    "\n",
    "This guide will walk you through setting up Python and all necessary tools for economic analysis. We'll use the Anaconda distribution, which includes Python and most of the libraries we'll need."
   ]
  },
  {
   "cell_type": "markdown",
   "metadata": {},
   "source": [
    "## Step 1. Installing Anaconda\n",
    "\n",
    "### **Step 1: Choose and Install Python Distribution**\n",
    "You have two main options for installing Python with essential data science packages:\n",
    "\n",
    "### **Option A: Anaconda (Full Package)**\n",
    "- Go to [Anaconda Download](https://www.anaconda.com/download)\n",
    "- Download the latest version for your operating system (Windows, macOS, or Linux)\n",
    "- Choose **Python 3.x** version (not Python 2.x)\n",
    "\n",
    "#### **Advantages:**\n",
    "\n",
    "1. Comes with all common data science packages pre-installed  \n",
    "2. Includes **Anaconda Navigator** GUI  \n",
    "3. Best for beginners or those wanting everything ready to use  \n",
    "\n",
    "⚠ **Note:** Requires ~3GB of disk space\n",
    "\n",
    "---\n",
    "\n",
    "### **Option B: Miniconda (Minimal Install)**\n",
    "- Go to [Miniconda Download](https://docs.conda.io/en/latest/miniconda.html)\n",
    "- Download the latest version for your operating system\n",
    "- Choose **Python 3.x** version\n",
    "- After installation, open terminal/command prompt and install required packages:\n",
    "\n",
    "```bash\n",
    "conda install numpy pandas scipy matplotlib seaborn statsmodels jupyter\n",
    "```\n",
    "\n",
    "#### Advantages:\n",
    "\n",
    "1. Lightweight installation (~400MB)\n",
    "2. Install only what you need\n",
    "3. Better for limited disk space or experienced users\n",
    "4. Faster installation and updates"
   ]
  },
  {
   "cell_type": "markdown",
   "metadata": {},
   "source": [
    "## Step 2: Installation Instructions\n",
    "\n",
    "### Option A: Installing Anaconda\n",
    "\n",
    "#### Windows\n",
    "1. Double-click the downloaded `.exe` file\n",
    "2. Select \"Install for me only\" (recommended)\n",
    "3. Installation options:\n",
    "   - Keep default installation location\n",
    "   - Add Anaconda to PATH (recommended)\n",
    "   - Register Anaconda as default Python\n",
    "4. Wait for installation to complete (~15 minutes)"
   ]
  },
  {
   "cell_type": "markdown",
   "metadata": {},
   "source": [
    "#### macOS\n",
    "1. Double-click the downloaded `.pkg` file\n",
    "2. Installation options:\n",
    "   - Keep all default settings\n",
    "   - Install for \"Just Me\" (recommended)\n",
    "3. Follow the installation prompts\n",
    "4. Optional: Install command-line tools if prompted"
   ]
  },
  {
   "cell_type": "markdown",
   "metadata": {},
   "source": [
    "#### Linux\n",
    "1. Open terminal in download directory\n",
    "2. Make installer executable:\n",
    "   ```bash\n",
    "   chmod +x Anaconda3-xxxx.xx-Linux-x86_64.sh\n",
    "   ```\n",
    "3. Run installer:\n",
    "   ```bash\n",
    "   ./Anaconda3-xxxx.xx-Linux-x86_64.sh\n",
    "   ```\n",
    "4. Accept license and keep default options\n",
    "5. Choose yes to initialize Anaconda"
   ]
  },
  {
   "cell_type": "markdown",
   "metadata": {},
   "source": [
    "### Option B: Installing Miniconda\n",
    "\n",
    "#### Windows\n",
    "1. Double-click the downloaded `.exe` file\n",
    "2. Installation options:\n",
    "   - Choose \"Just Me\" (recommended)\n",
    "   - Add Miniconda to PATH\n",
    "3. Open Command Prompt and install packages:\n",
    "   ```bash\n",
    "   conda install numpy pandas scipy matplotlib seaborn statsmodels jupyter\n",
    "   ```"
   ]
  },
  {
   "cell_type": "markdown",
   "metadata": {},
   "source": [
    "#### macOS\n",
    "1. Open Terminal in download directory\n",
    "2. Make installer executable:\n",
    "   ```bash\n",
    "   chmod +x Miniconda3-latest-MacOSX-x86_64.sh\n",
    "   ```\n",
    "3. Run installer:\n",
    "   ```bash\n",
    "   ./Miniconda3-latest-MacOSX-x86_64.sh\n",
    "   ```\n",
    "4. Install required packages:\n",
    "   ```bash\n",
    "   conda install numpy pandas scipy matplotlib seaborn statsmodels jupyter\n",
    "   ```"
   ]
  },
  {
   "cell_type": "markdown",
   "metadata": {},
   "source": [
    "#### Linux\n",
    "1. Open terminal in download directory\n",
    "2. Make installer executable:\n",
    "   ```bash\n",
    "   chmod +x Miniconda3-latest-Linux-x86_64.sh\n",
    "   ```\n",
    "3. Run installer:\n",
    "   ```bash\n",
    "   ./Miniconda3-latest-Linux-x86_64.sh\n",
    "   ```\n",
    "4. Install required packages:\n",
    "   ```bash\n",
    "   conda install numpy pandas scipy matplotlib seaborn statsmodels jupyter\n",
    "   ```"
   ]
  },
  {
   "cell_type": "markdown",
   "metadata": {},
   "source": [
    "## Verifying Installation\n",
    "\n",
    "### For Anaconda:\n",
    "* **Windows**: \n",
    "  - Start Menu → Anaconda Navigator\n",
    "  - Or open Command Prompt and type: `conda --version`\n",
    "* **macOS**: \n",
    "  - Launchpad → Anaconda Navigator\n",
    "  - Or open Terminal and type: `conda --version`\n",
    "* **Linux**:\n",
    "  - Terminal → `anaconda-navigator`\n",
    "  - Or type: `conda --version`\n",
    "\n",
    "### For Miniconda:\n",
    "* Open Terminal/Command Prompt and verify:\n",
    "  ```bash\n",
    "  conda --version\n",
    "  python --version\n",
    "  jupyter notebook  # Should open notebook in browser\n",
    "  ```"
   ]
  },
  {
   "cell_type": "markdown",
   "metadata": {},
   "source": [
    "## Troubleshooting\n",
    "\n",
    "If you encounter any issues:\n",
    "1. Ensure PATH is set correctly\n",
    "2. Try closing and reopening Terminal/Command Prompt\n",
    "3. For Jupyter issues:\n",
    "   ```bash\n",
    "   conda install -f jupyter notebook\n",
    "   ```\n",
    "4. For package issues:\n",
    "   ```bash\n",
    "   conda update --all\n",
    "   ```"
   ]
  },
  {
   "cell_type": "markdown",
   "metadata": {},
   "source": [
    "## 3. Key Components\n",
    "\n",
    "### Jupyter Notebook\n",
    "* Interactive coding environment we'll use throughout the course\n",
    "* Launch from Anaconda Navigator\n",
    "* Creates files with .ipynb extension\n",
    "\n",
    "### Essential Libraries (Pre-installed with Anaconda)\n",
    "* pandas: Data analysis\n",
    "* numpy: Numerical computations\n",
    "* matplotlib: Plotting and visualization\n",
    "* statsmodels: Statistical analysis\n",
    "\n",
    "## 4. Creating Your First Notebook\n",
    "\n",
    "1. Launch Jupyter Notebook from Anaconda Navigator\n",
    "2. Navigate to your preferred folder\n",
    "3. Click 'New' → 'Python 3'\n",
    "4. Try the following code to verify everything works:\n",
    "\n",
    "```python\n",
    "print(\"Hello, Economics!\")\n",
    "```\n",
    "\n",
    "## 5. Folder Organization\n",
    "\n",
    "Recommended structure for course materials:\n",
    "```\n",
    "python_for_econometrics/\n",
    "    │\n",
    "    ├── notebooks/          # Jupyter notebooks\n",
    "    ├── data/              # Dataset files\n",
    "    └── scripts/           # Python scripts\n",
    "```"
   ]
  },
  {
   "cell_type": "markdown",
   "metadata": {},
   "source": [
    "## 6. Troubleshooting\n",
    "\n",
    "Common issues and solutions:\n",
    "\n",
    "1. **Anaconda not found**\n",
    "   * Restart your computer\n",
    "   * Reinstall Anaconda\n",
    "\n",
    "2. **Jupyter won't launch**\n",
    "   * Open Anaconda Prompt\n",
    "   * Run: `jupyter notebook`\n",
    "\n",
    "3. **Missing libraries**\n",
    "   * Open Anaconda Prompt\n",
    "   * Run: `conda install package_name`"
   ]
  },
  {
   "cell_type": "markdown",
   "metadata": {},
   "source": [
    "## Next Steps\n",
    "\n",
    "Once you have everything installed:\n",
    "1. Create a folder for course materials\n",
    "2. Launch Jupyter Notebook\n",
    "3. Create a test notebook\n",
    "4. Try the verification code above\n",
    "\n",
    "In the next notebook, we'll start with Python basics and essential concepts for economic analysis."
   ]
  },
  {
   "cell_type": "code",
   "execution_count": null,
   "metadata": {},
   "outputs": [],
   "source": []
  }
 ],
 "metadata": {
  "kernelspec": {
   "display_name": "Python@3.12",
   "language": "python",
   "name": "python3"
  },
  "language_info": {
   "codemirror_mode": {
    "name": "ipython",
    "version": 3
   },
   "file_extension": ".py",
   "mimetype": "text/x-python",
   "name": "python",
   "nbconvert_exporter": "python",
   "pygments_lexer": "ipython3",
   "version": "3.12.7"
  }
 },
 "nbformat": 4,
 "nbformat_minor": 4
}

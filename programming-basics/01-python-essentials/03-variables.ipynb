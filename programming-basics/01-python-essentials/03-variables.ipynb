{
 "cells": [
  {
   "cell_type": "markdown",
   "metadata": {},
   "source": [
    "# Python Basics for Econometricians"
   ]
  },
  {
   "cell_type": "markdown",
   "metadata": {},
   "source": [
    "## Variables and Essential Concepts\n",
    "\n",
    "In this notebook, we'll learn the fundamental concepts of Python programming using economic examples. We'll cover:\n",
    "\n",
    " * Variables and basic data types\n",
    " * Basic operations and calculations\n",
    " * String formatting for economic reporting\n",
    " * Simple economic calculations"
   ]
  },
  {
   "cell_type": "markdown",
   "metadata": {},
   "source": [
    "## 1. Variables in Python\n",
    "\n",
    "Variables in Python are like containers that store values, similar to how we use variables in economics. Just as we write:\n",
    "\n",
    "$$GDP = \\text{Consumption} + \\text{Investment} + \\text{Government} + \\text{NetExports}$$\n",
    "\n",
    "Or mathematically:\n",
    "\n",
    "$$Y = C + I + G + NX$$\n",
    "\n",
    "In Python, we can create variables easily: "
   ]
  },
  {
   "cell_type": "code",
   "execution_count": 1,
   "metadata": {
    "tags": []
   },
   "outputs": [],
   "source": [
    "gdp = 20000                 # A number (integer)\n",
    "growth_rate = 2.5           # A decimal number (float)\n",
    "country = \"Algeria\"         # Text variable (string)\n",
    "inflation = 2.5             # Inflation rate in percentage\n",
    "is_developed = True         # True/False (boolean)"
   ]
  },
  {
   "cell_type": "code",
   "execution_count": 2,
   "metadata": {
    "tags": []
   },
   "outputs": [
    {
     "name": "stdout",
     "output_type": "stream",
     "text": [
      "GDP: 20000 billion dollars\n",
      "Growth rate 2.5\n",
      "Inflation Rate: 2.5 %\n",
      "Country: Algeria\n",
      "Is it developed? True\n"
     ]
    }
   ],
   "source": [
    "# Print the values\n",
    "print(\"GDP:\", gdp, \"billion dollars\")\n",
    "print(\"Growth rate\", growth_rate)\n",
    "print(\"Inflation Rate:\", inflation, \"%\")\n",
    "print(\"Country:\", country)\n",
    "print(\"Is it developed?\", is_developed)"
   ]
  },
  {
   "cell_type": "markdown",
   "metadata": {},
   "source": [
    "### Variable Naming Rules\n",
    "\n",
    "* Must start with a letter or underscore\n",
    "* Can contain letters, numbers, and underscores\n",
    "* Case-sensitive (gdp ≠ GDP)\n",
    "* Cannot use Python reserved words\n",
    "\n",
    "Good economic variable names:"
   ]
  },
  {
   "cell_type": "code",
   "execution_count": 3,
   "metadata": {},
   "outputs": [],
   "source": [
    "gdp_growth = 3.2\n",
    "unemployment_rate = 5.7\n",
    "real_interest_rate = 2.1\n",
    "price_level_2020 = 102.5"
   ]
  },
  {
   "cell_type": "markdown",
   "metadata": {},
   "source": [
    "## 2. Basic Data Types\n",
    "\n",
    "Python has several basic data types that are useful for economic analysis:"
   ]
  },
  {
   "cell_type": "code",
   "execution_count": 4,
   "metadata": {},
   "outputs": [
    {
     "name": "stdout",
     "output_type": "stream",
     "text": [
      "Type of gdp_billions: <class 'int'>\n",
      "Type of inflation_rate: <class 'float'>\n",
      "Type of country: <class 'str'>\n",
      "Type of is_developed_economy: <class 'bool'>\n"
     ]
    }
   ],
   "source": [
    "# Numbers\n",
    "gdp_billions = 22000          # Integer (whole number)\n",
    "inflation_rate = 2.5          # Float (decimal number)\n",
    "population = 331_002_651      # Integer with underscore for readability\n",
    "\n",
    "# Text (String)\n",
    "country = \"Japan\"\n",
    "currency = \"USD\"\n",
    "\n",
    "# Boolean (True/False)\n",
    "is_developed_economy = True\n",
    "is_in_recession = False\n",
    "\n",
    "# Print variable types\n",
    "print(f\"Type of gdp_billions: {type(gdp_billions)}\")\n",
    "print(f\"Type of inflation_rate: {type(inflation_rate)}\")\n",
    "print(f\"Type of country: {type(country)}\")\n",
    "print(f\"Type of is_developed_economy: {type(is_developed_economy)}\")"
   ]
  },
  {
   "cell_type": "markdown",
   "metadata": {},
   "source": [
    "## 3. Basic Operations\n",
    "\n",
    "### Arithmetic Operations"
   ]
  },
  {
   "cell_type": "code",
   "execution_count": 5,
   "metadata": {},
   "outputs": [
    {
     "name": "stdout",
     "output_type": "stream",
     "text": [
      "GDP: $19000 billion\n",
      "\n",
      "GDP Components (% of GDP):\n",
      "Consumption: 63.2%\n",
      "Investment: 15.8%\n",
      "Government Spending: 23.7%\n",
      "Net Exports: -2.6%\n"
     ]
    }
   ],
   "source": [
    "# GDP components (in billions)\n",
    "consumption = 12000\n",
    "investment = 3000\n",
    "government_spending = 4500\n",
    "net_exports = -500\n",
    "\n",
    "# Calculate GDP\n",
    "gdp = consumption + investment + government_spending + net_exports\n",
    "print(f\"GDP: ${gdp} billion\")\n",
    "\n",
    "# Calculate percentage of GDP for each component\n",
    "consumption_pct = (consumption / gdp) * 100\n",
    "investment_pct = (investment / gdp) * 100\n",
    "govt_spending_pct = (government_spending / gdp) * 100\n",
    "net_exports_pct = (net_exports / gdp) * 100\n",
    "\n",
    "print(f\"\\nGDP Components (% of GDP):\")\n",
    "print(f\"Consumption: {consumption_pct:.1f}%\")\n",
    "print(f\"Investment: {investment_pct:.1f}%\")\n",
    "print(f\"Government Spending: {govt_spending_pct:.1f}%\")\n",
    "print(f\"Net Exports: {net_exports_pct:.1f}%\")"
   ]
  },
  {
   "cell_type": "markdown",
   "metadata": {},
   "source": [
    "### Economic Calculations"
   ]
  },
  {
   "cell_type": "code",
   "execution_count": 6,
   "metadata": {},
   "outputs": [
    {
     "name": "stdout",
     "output_type": "stream",
     "text": [
      "************************************************************************\n",
      "GDP Growth Rate: 4.3%\n",
      "Real Interest Rate: 3.0%\n",
      "GDP per capita: $72,507.55\n",
      "************************************************************************\n"
     ]
    }
   ],
   "source": [
    "# GDP Growth Rate\n",
    "print(\"*\"*72)\n",
    "gdp_2021 = 23000\n",
    "gdp_2022 = 24000\n",
    "\n",
    "gdp_growth = ((gdp_2022 - gdp_2021) / gdp_2021) * 100\n",
    "print(f\"GDP Growth Rate: {gdp_growth:.1f}%\")\n",
    "\n",
    "# Real Interest Rate (Fisher Equation)\n",
    "nominal_rate = 5.5\n",
    "inflation = 2.5\n",
    "real_rate = nominal_rate - inflation\n",
    "\n",
    "print(f\"Real Interest Rate: {real_rate}%\")\n",
    "\n",
    "# GDP per capita\n",
    "gdp_total = 24000000000000  # $24 trillion in dollars\n",
    "population = 331000000      # 331 million people\n",
    "gdp_per_capita = gdp_total / population\n",
    "\n",
    "print(f\"GDP per capita: ${gdp_per_capita:,.2f}\")\n",
    "print(\"*\"*72)"
   ]
  },
  {
   "cell_type": "markdown",
   "metadata": {},
   "source": [
    "## 4. String Formatting for Economic Reports\n",
    "\n",
    "Python provides several ways to format text for economic reports:"
   ]
  },
  {
   "cell_type": "code",
   "execution_count": 7,
   "metadata": {},
   "outputs": [
    {
     "name": "stdout",
     "output_type": "stream",
     "text": [
      "************************************************************************\n",
      "The USA's GDP is $24000 billion with 3.5% growth.\n",
      "Value: $1,234,567.89\n",
      "Percentage: 12.3%\n",
      "\n",
      "Economic Summary for USA:\n",
      "- GDP: $24,000 billion\n",
      "- Growth Rate: 3.5%\n",
      "- Share of World GDP: 12.3%\n",
      "\n",
      "************************************************************************\n"
     ]
    }
   ],
   "source": [
    "# F-strings (recommended method)\n",
    "print(\"*\"*72)\n",
    "gdp = 24000\n",
    "growth = 3.5\n",
    "country = \"USA\"\n",
    "\n",
    "# Basic formatting\n",
    "print(f\"The {country}'s GDP is ${gdp} billion with {growth}% growth.\")\n",
    "\n",
    "# Number formatting\n",
    "large_number = 1234567.89\n",
    "print(f\"Value: ${large_number:,.2f}\")  # With comma separator and 2 decimal places\n",
    "\n",
    "# Percentage formatting\n",
    "ratio = 0.1234\n",
    "print(f\"Percentage: {ratio:.1%}\")  # As percentage with 1 decimal place\n",
    "\n",
    "# Economic report example\n",
    "report = f\"\"\"\n",
    "Economic Summary for {country}:\n",
    "- GDP: ${gdp:,} billion\n",
    "- Growth Rate: {growth:.1f}%\n",
    "- Share of World GDP: {ratio:.1%}\n",
    "\"\"\"\n",
    "print(report)\n",
    "print(\"*\"*72)"
   ]
  },
  {
   "cell_type": "markdown",
   "metadata": {},
   "source": [
    "## 5. Practice Exercises\n",
    "\n",
    "Try these exercises to practice what you've learned:\n",
    "\n",
    "1. Calculate the unemployment rate given:\n",
    "   * Unemployed workers = 6 million\n",
    "   * Labor force = 164 million"
   ]
  },
  {
   "cell_type": "code",
   "execution_count": null,
   "metadata": {},
   "outputs": [],
   "source": []
  },
  {
   "cell_type": "markdown",
   "metadata": {},
   "source": [
    "2. Calculate real GDP given:\n",
    "   * Nominal GDP = $22 trillion\n",
    "   * GDP Deflator = 115 (base year = 100)"
   ]
  },
  {
   "cell_type": "code",
   "execution_count": null,
   "metadata": {},
   "outputs": [],
   "source": []
  },
  {
   "cell_type": "markdown",
   "metadata": {},
   "source": [
    "3. Create a formatted report showing:\n",
    "   * GDP growth rate\n",
    "   * Inflation rate\n",
    "   * Unemployment rate\n",
    "   * Use appropriate formatting for each measure"
   ]
  },
  {
   "cell_type": "code",
   "execution_count": null,
   "metadata": {},
   "outputs": [],
   "source": []
  },
  {
   "cell_type": "markdown",
   "metadata": {},
   "source": [
    "## Summary\n",
    "\n",
    "* Variables store values and make code readable\n",
    "* Different data types serve different purposes\n",
    "* Basic operations enable economic calculations\n",
    "* Proper formatting makes results presentable"
   ]
  },
  {
   "cell_type": "markdown",
   "metadata": {},
   "source": [
    "## Next Steps\n",
    "\n",
    "In the next notebook, we'll cover:\n",
    "* Lists and arrays for time series data\n",
    "* Dictionaries for organizing economic indicators\n",
    "* Basic control flow (if statements, loops)"
   ]
  }
 ],
 "metadata": {
  "kernelspec": {
   "display_name": "Python@3.12",
   "language": "python",
   "name": "python3"
  },
  "language_info": {
   "codemirror_mode": {
    "name": "ipython",
    "version": 3
   },
   "file_extension": ".py",
   "mimetype": "text/x-python",
   "name": "python",
   "nbconvert_exporter": "python",
   "pygments_lexer": "ipython3",
   "version": "3.12.7"
  }
 },
 "nbformat": 4,
 "nbformat_minor": 4
}

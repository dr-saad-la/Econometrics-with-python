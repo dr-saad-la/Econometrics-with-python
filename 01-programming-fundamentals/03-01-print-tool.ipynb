{
 "cells": [
  {
   "cell_type": "markdown",
   "metadata": {},
   "source": [
    "<blockquote style=\"\n",
    "    padding: 10px 15px;\n",
    "    border: 2px solid #360084;\n",
    "    border-radius: 8px;\n",
    "    margin: 20px 5px 15px 0;\n",
    "    background: #fafafa;\n",
    "    box-shadow: 2px 2px 10px rgba(0, 0, 0, 0.1);\n",
    "\">\n",
    "  <!-- Header Title -->\n",
    "  <p style=\"\n",
    "      padding: 12px;\n",
    "      font-size: 22pt;\n",
    "      font-weight: bold;\n",
    "      color: #fff;\n",
    "      background: linear-gradient(to right, #360084, #7a1fa2);\n",
    "      border-radius: 6px 6px 0 0;\n",
    "      text-align: center;\n",
    "      margin: -10px -15px 15px;\n",
    "  \">Python Essentials: Print Statement</p>\n",
    "  <!-- Course Details Section -->\n",
    "  <div style=\"\n",
    "      background-color: #f7f7f7;\n",
    "      padding: 15px;\n",
    "      border-radius: 6px;\n",
    "  \">\n",
    "    <div class=\"row\">\n",
    "      <div class=\"col-md-6\">\n",
    "        <strong>📚 Course:</strong> <span style=\"color:#360084;\">Python for Econometric Analysis</span><br/>\n",
    "        <strong>📖 Chapter:</strong> <span style=\"color:#360084;\">Basic Python Syntax</span> <br/>\n",
    "        <strong>🎯 Lesson:</strong> <span style=\"color:#360084;\">Print Function and Formatting</span><br/>\n",
    "        <strong>👨‍🏫 Author:</strong> <span style=\"color:#360084;\">Dr. Saad Laouadi</span>\n",
    "      </div>\n",
    "    </div>\n",
    "  </div>\n",
    "  <!-- Objectives Section -->\n",
    "  <div style=\"\n",
    "    background-color: #f8fafc;\n",
    "    padding: 20px;\n",
    "    border-radius: 8px;\n",
    "    border-left: 4px solid #0284c7;\n",
    "    box-shadow: 0 2px 4px rgba(0, 0, 0, 0.1);\n",
    "    margin: 20px 0;\n",
    "\">\n",
    "    <strong style=\"color: #0284c7; font-size: 18px;\">🎯 Learning Objectives</strong>\n",
    "    <ul style=\"padding-left: 20px; font-size: 16px; line-height: 1.6; margin-top: 12px;\">\n",
    "        <li>Master the basic print statement for displaying economic data</li>\n",
    "        <li>Learn to format numbers and currency values appropriately</li>\n",
    "        <li>Understand how to combine text and variables using f-strings</li>\n",
    "        <li>Create well-formatted economic reports with multi-line output</li>\n",
    "        <li>Practice proper formatting of economic statistics and indicators</li>\n",
    "    </ul>\n",
    "</div>\n",
    "  <!-- Footer -->\n",
    "  <p style=\"\n",
    "      text-align: center;\n",
    "      font-size: 14px;\n",
    "      font-style: italic;\n",
    "      color: #777;\n",
    "      margin-top: 15px;\n",
    "  \">© 2025 Dr. Saad Laouadi. All Rights Reserved.</p>\n",
    "</blockquote>"
   ]
  },
  {
   "cell_type": "markdown",
   "metadata": {},
   "source": [
    "---"
   ]
  },
  {
   "cell_type": "markdown",
   "metadata": {},
   "source": [
    "### 1. Basic Print Statement\n",
    "The `print()` function is used to display information in Python. It's like writing output to your screen."
   ]
  },
  {
   "cell_type": "code",
   "execution_count": 1,
   "metadata": {
    "tags": []
   },
   "outputs": [
    {
     "name": "stdout",
     "output_type": "stream",
     "text": [
      "Welcome to Economics!\n"
     ]
    }
   ],
   "source": [
    "# Simple print statement\n",
    "print(\"Welcome to Economics!\")"
   ]
  },
  {
   "cell_type": "code",
   "execution_count": 2,
   "metadata": {
    "tags": []
   },
   "outputs": [
    {
     "name": "stdout",
     "output_type": "stream",
     "text": [
      "Welcome to Econometric Training Course\n"
     ]
    }
   ],
   "source": [
    "print('Welcome to Econometric Training Course')"
   ]
  },
  {
   "cell_type": "code",
   "execution_count": 3,
   "metadata": {
    "tags": []
   },
   "outputs": [
    {
     "name": "stdout",
     "output_type": "stream",
     "text": [
      "7\n",
      "2.72\n"
     ]
    }
   ],
   "source": [
    "# Printing numbers\n",
    "print(7)\n",
    "print(2.72)"
   ]
  },
  {
   "cell_type": "code",
   "execution_count": 4,
   "metadata": {
    "tags": []
   },
   "outputs": [
    {
     "name": "stdout",
     "output_type": "stream",
     "text": [
      "The 1010 Econometric Analysis with Python 2025\n"
     ]
    }
   ],
   "source": [
    "# print mutliple things at once\n",
    "print(\"The\", 1010, \"Econometric\", \"Analysis\", \"with\", \"Python\", 2025)"
   ]
  },
  {
   "cell_type": "code",
   "execution_count": 5,
   "metadata": {
    "tags": []
   },
   "outputs": [
    {
     "name": "stdout",
     "output_type": "stream",
     "text": [
      "\n"
     ]
    }
   ],
   "source": [
    "# print with no arguments gives new line\n",
    "print()"
   ]
  },
  {
   "cell_type": "code",
   "execution_count": 6,
   "metadata": {
    "tags": []
   },
   "outputs": [
    {
     "name": "stdout",
     "output_type": "stream",
     "text": [
      "========================================================================\n"
     ]
    }
   ],
   "source": [
    "# print repeated characters \n",
    "print(\"=\"*72)"
   ]
  },
  {
   "cell_type": "code",
   "execution_count": 7,
   "metadata": {
    "tags": []
   },
   "outputs": [
    {
     "name": "stdout",
     "output_type": "stream",
     "text": [
      "************************************************************************\n",
      "\n",
      "\n",
      "************************************************************************\n"
     ]
    }
   ],
   "source": [
    "# Repeated characters with empty line\n",
    "print(\"*\"*72)\n",
    "print()\n",
    "print()\n",
    "print(\"*\"*72)"
   ]
  },
  {
   "cell_type": "markdown",
   "metadata": {},
   "source": [
    "### 2. Printing Variables\n",
    "We can print the contents of variables directly."
   ]
  },
  {
   "cell_type": "code",
   "execution_count": 8,
   "metadata": {
    "tags": []
   },
   "outputs": [
    {
     "name": "stdout",
     "output_type": "stream",
     "text": [
      "20500\n",
      "2.5\n",
      "France\n"
     ]
    }
   ],
   "source": [
    "# Economic variables\n",
    "gdp = 20500\n",
    "inflation_rate = 2.5\n",
    "country = \"France\"\n",
    "\n",
    "# Printing variables\n",
    "print(gdp)\n",
    "print(inflation_rate)\n",
    "print(country)"
   ]
  },
  {
   "cell_type": "markdown",
   "metadata": {},
   "source": [
    "### 3. Combining Text and Variables\n",
    "There are multiple ways to combine text and variables in print statements."
   ]
  },
  {
   "cell_type": "code",
   "execution_count": 9,
   "metadata": {
    "tags": []
   },
   "outputs": [
    {
     "name": "stdout",
     "output_type": "stream",
     "text": [
      "GDP value: 20500\n",
      "Inflation rate: 2.5\n",
      "Country: France\n"
     ]
    }
   ],
   "source": [
    "# Using commas\n",
    "print(\"GDP value:\", gdp)\n",
    "print(\"Inflation rate:\", inflation_rate)\n",
    "print(\"Country:\", country)"
   ]
  },
  {
   "cell_type": "code",
   "execution_count": 10,
   "metadata": {
    "tags": []
   },
   "outputs": [
    {
     "name": "stdout",
     "output_type": "stream",
     "text": [
      "The GDP is 20500 billion dollars\n",
      "The inflation rate is 2.5%\n",
      "The country being analyzed is France\n"
     ]
    }
   ],
   "source": [
    "# Using f-strings (recommended method)\n",
    "print(f\"The GDP is {gdp} billion dollars\")\n",
    "print(f\"The inflation rate is {inflation_rate}%\")\n",
    "print(f\"The country being analyzed is {country}\")"
   ]
  },
  {
   "cell_type": "markdown",
   "metadata": {},
   "source": [
    "### 4. Formatting Numbers\n",
    "When working with economic data, we often need to format numbers nicely."
   ]
  },
  {
   "cell_type": "code",
   "execution_count": 11,
   "metadata": {
    "tags": []
   },
   "outputs": [
    {
     "name": "stdout",
     "output_type": "stream",
     "text": [
      "Price (2 decimals): 123.46\n",
      "GDP: $1,234,567.89\n"
     ]
    }
   ],
   "source": [
    "# Rounding numbers\n",
    "price = 123.45678\n",
    "print(f\"Price (2 decimals): {price:.2f}\")\n",
    "\n",
    "# Large numbers with commas\n",
    "large_gdp = 1234567.89\n",
    "print(f\"GDP: ${large_gdp:,.2f}\")"
   ]
  },
  {
   "cell_type": "markdown",
   "metadata": {},
   "source": [
    "### 5. Printing Multiple Lines\n",
    "For economic reports, we might want to print multiple lines of information."
   ]
  },
  {
   "cell_type": "code",
   "execution_count": 12,
   "metadata": {
    "tags": []
   },
   "outputs": [
    {
     "name": "stdout",
     "output_type": "stream",
     "text": [
      "\n",
      "Trade Statistics:\n",
      "Exports: $1500 million\n",
      "Imports: $1200 million\n",
      "Balance: $300 million\n",
      "\n"
     ]
    }
   ],
   "source": [
    "# Economic statistics\n",
    "exports = 1500\n",
    "imports = 1200\n",
    "trade_balance = exports - imports\n",
    "\n",
    "print(f\"\"\"\n",
    "Trade Statistics:\n",
    "Exports: ${exports} million\n",
    "Imports: ${imports} million\n",
    "Balance: ${trade_balance} million\n",
    "\"\"\")"
   ]
  },
  {
   "cell_type": "markdown",
   "metadata": {},
   "source": [
    "## Summary\n",
    "* Use `print()` to display information\n",
    "* f-strings make formatting easy: `f\"text {variable}\"`\n",
    "* Format numbers using `.2f` for 2 decimal places\n",
    "* Use triple quotes `\"\"\"` for multi-line output\n",
    "* Always add units (%, $, etc.) for clarity in economic data"
   ]
  },
  {
   "cell_type": "code",
   "execution_count": null,
   "metadata": {},
   "outputs": [],
   "source": []
  }
 ],
 "metadata": {
  "kernelspec": {
   "display_name": "TF-GPU:2.16",
   "language": "python",
   "name": "tf-gpu"
  },
  "language_info": {
   "codemirror_mode": {
    "name": "ipython",
    "version": 3
   },
   "file_extension": ".py",
   "mimetype": "text/x-python",
   "name": "python",
   "nbconvert_exporter": "python",
   "pygments_lexer": "ipython3",
   "version": "3.11.0"
  }
 },
 "nbformat": 4,
 "nbformat_minor": 4
}

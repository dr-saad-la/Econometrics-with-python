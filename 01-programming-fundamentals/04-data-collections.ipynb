{
 "cells": [
  {
   "cell_type": "markdown",
   "metadata": {},
   "source": [
    "<blockquote style=\"\n",
    "    padding: 10px 15px;\n",
    "    border: 2px solid #360084;\n",
    "    border-radius: 8px;\n",
    "    margin: 20px 5px 15px 0;\n",
    "    background: #fafafa;\n",
    "    box-shadow: 2px 2px 10px rgba(0, 0, 0, 0.1);\n",
    "\">\n",
    "  <!-- Header Title -->\n",
    "  <p style=\"\n",
    "      padding: 12px;\n",
    "      font-size: 22pt;\n",
    "      font-weight: bold;\n",
    "      color: #fff;\n",
    "      background: linear-gradient(to right, #360084, #7a1fa2);\n",
    "      border-radius: 6px 6px 0 0;\n",
    "      text-align: center;\n",
    "      margin: -10px -15px 15px;\n",
    "  \">Python for Econometricians</p>\n",
    "  <!-- Course Details Section -->\n",
    "  <div style=\"\n",
    "      background-color: #f7f7f7;\n",
    "      padding: 15px;\n",
    "      border-radius: 6px;\n",
    "  \">\n",
    "    <div class=\"row\">\n",
    "      <div class=\"col-md-6\">\n",
    "        <strong>📚 Course:</strong> <span style=\"color:#360084;\">Python for Econometric Analysis</span><br/>\n",
    "        <strong>📖 Chapter:</strong> <span style=\"color:#360084;\">Data Structures</span> <br/>\n",
    "        <strong>🎯 Lesson:</strong> <span style=\"color:#360084;\">Working with Economic Data Collections</span><br/>\n",
    "        <strong>👨‍🏫 Author:</strong> <span style=\"color:#360084;\">Dr. Saad Laouadi</span>\n",
    "      </div>\n",
    "    </div>\n",
    "  </div>\n",
    "  <!-- Objectives Section -->\n",
    "  <div style=\"\n",
    "    background-color: #f8fafc;\n",
    "    padding: 20px;\n",
    "    border-radius: 8px;\n",
    "    border-left: 4px solid #0284c7;\n",
    "    box-shadow: 0 2px 4px rgba(0, 0, 0, 0.1);\n",
    "    margin: 20px 0;\n",
    "\">\n",
    "    <strong style=\"color: #0284c7; font-size: 18px;\">🎯 Learning Objectives</strong>\n",
    "    <ul style=\"padding-left: 20px; font-size: 16px; line-height: 1.6; margin-top: 12px;\">\n",
    "        <li>Master lists for handling time series economic data</li>\n",
    "        <li>Use dictionaries to organize economic indicators across countries</li>\n",
    "        <li>Perform basic statistical analysis on economic datasets</li>\n",
    "        <li>Combine lists and dictionaries for complex economic data structures</li>\n",
    "        <li>Apply data structures to analyze real-world economic scenarios</li>\n",
    "    </ul>\n",
    "</div>\n",
    "  <!-- Footer -->\n",
    "  <p style=\"\n",
    "      text-align: center;\n",
    "      font-size: 14px;\n",
    "      font-style: italic;\n",
    "      color: #777;\n",
    "      margin-top: 15px;\n",
    "  \">© 2025 Dr. Saad Laouadi. All Rights Reserved.</p>\n",
    "</blockquote>"
   ]
  },
  {
   "cell_type": "markdown",
   "metadata": {
    "tags": []
   },
   "source": [
    "In this notebook, we'll learn how to work with collections of economic data. We'll cover:\n",
    "\n",
    "* Lists (for time series data)\n",
    "* Dictionaries (for organizing economic indicators)\n",
    "* Basic data operations\n",
    "* Introduction to working with economic datasets\n",
    "\n",
    "### Why Data Structures Matter in Economics\n",
    "* Store and analyze time series data\n",
    "* Organize cross-sectional economic data\n",
    "* Handle panel data efficiently\n",
    "* Process multiple economic indicators"
   ]
  },
  {
   "cell_type": "markdown",
   "metadata": {
    "tags": []
   },
   "source": [
    "## 1. Lists in Python\n",
    "\n",
    "Lists are perfect for storing time series data or sequences of economic values. Think of them as columns in your economic data table."
   ]
  },
  {
   "cell_type": "code",
   "execution_count": 1,
   "metadata": {
    "tags": []
   },
   "outputs": [],
   "source": [
    "# Creating lists of economic data\n",
    "gdp_values = [20.94, 21.43, 22.99, 23.32]      # GDP in trillion USD\n",
    "years = [2019, 2020, 2021, 2022]\n",
    "unemployment_rates = [3.7, 8.1, 5.4, 3.6]      # in percentage"
   ]
  },
  {
   "cell_type": "code",
   "execution_count": 2,
   "metadata": {
    "tags": []
   },
   "outputs": [
    {
     "name": "stdout",
     "output_type": "stream",
     "text": [
      "************************************************************************\n",
      "[20.94, 21.43, 22.99, 23.32]\n",
      "[2019, 2020, 2021, 2022]\n",
      "[3.7, 8.1, 5.4, 3.6]\n",
      "************************************************************************\n"
     ]
    }
   ],
   "source": [
    "print(\"*\"*72)\n",
    "print(gdp_values)\n",
    "print(years)\n",
    "print(unemployment_rates)\n",
    "print(\"*\"*72)"
   ]
  },
  {
   "cell_type": "code",
   "execution_count": 3,
   "metadata": {
    "tags": []
   },
   "outputs": [
    {
     "name": "stdout",
     "output_type": "stream",
     "text": [
      "<class 'list'>\n"
     ]
    }
   ],
   "source": [
    "print(type(years))"
   ]
  },
  {
   "cell_type": "code",
   "execution_count": 4,
   "metadata": {},
   "outputs": [
    {
     "name": "stdout",
     "output_type": "stream",
     "text": [
      "Variable             Type    Data/Info\n",
      "--------------------------------------\n",
      "gdp_values           list    n=4\n",
      "unemployment_rates   list    n=4\n",
      "years                list    n=4\n"
     ]
    }
   ],
   "source": [
    "# Display a summary of all variables in the current session (name, type, and size)\n",
    "%whos"
   ]
  },
  {
   "cell_type": "code",
   "execution_count": 5,
   "metadata": {
    "tags": []
   },
   "outputs": [
    {
     "name": "stdout",
     "output_type": "stream",
     "text": [
      "GDP in 2020: $21.43 trillion\n"
     ]
    }
   ],
   "source": [
    "# Accessing list elements\n",
    "print(f\"GDP in 2020: ${gdp_values[1]} trillion\")"
   ]
  },
  {
   "cell_type": "code",
   "execution_count": 6,
   "metadata": {
    "tags": []
   },
   "outputs": [
    {
     "name": "stdout",
     "output_type": "stream",
     "text": [
      "GDP in 2020:                   $21.43 trillion\n"
     ]
    }
   ],
   "source": [
    "# Accessing list elements\n",
    "print(f\"{'GDP in 2020:':<30} ${gdp_values[1]} trillion\")"
   ]
  },
  {
   "cell_type": "code",
   "execution_count": 7,
   "metadata": {
    "tags": []
   },
   "outputs": [
    {
     "name": "stdout",
     "output_type": "stream",
     "text": [
      "Most recent unemployment rate: 3.6%\n"
     ]
    }
   ],
   "source": [
    "print(f\"Most recent unemployment rate: {unemployment_rates[-1]}%\")"
   ]
  },
  {
   "cell_type": "code",
   "execution_count": 8,
   "metadata": {
    "tags": []
   },
   "outputs": [
    {
     "name": "stdout",
     "output_type": "stream",
     "text": [
      "Number of years in the dataset: 4 years.\n"
     ]
    }
   ],
   "source": [
    "# List length (len) gives the number of elements in a list\n",
    "print(f\"Number of years in the dataset: {len(years)} years.\")"
   ]
  },
  {
   "cell_type": "code",
   "execution_count": 10,
   "metadata": {
    "tags": []
   },
   "outputs": [
    {
     "name": "stdout",
     "output_type": "stream",
     "text": [
      "[2019, 2020, 2021, 2022]\n"
     ]
    }
   ],
   "source": [
    "print(years)"
   ]
  },
  {
   "cell_type": "code",
   "execution_count": 11,
   "metadata": {
    "tags": []
   },
   "outputs": [],
   "source": [
    "years.append(2023)"
   ]
  },
  {
   "cell_type": "code",
   "execution_count": 12,
   "metadata": {
    "tags": []
   },
   "outputs": [
    {
     "name": "stdout",
     "output_type": "stream",
     "text": [
      "[2019, 2020, 2021, 2022, 2023]\n"
     ]
    }
   ],
   "source": [
    "print(years)"
   ]
  },
  {
   "cell_type": "code",
   "execution_count": 13,
   "metadata": {
    "tags": []
   },
   "outputs": [
    {
     "name": "stdout",
     "output_type": "stream",
     "text": [
      "[2019, 2020, 2021, 2022, 2023, 2024]\n"
     ]
    }
   ],
   "source": [
    "years.append(2024)\n",
    "print(years)"
   ]
  },
  {
   "cell_type": "code",
   "execution_count": 14,
   "metadata": {
    "tags": []
   },
   "outputs": [
    {
     "data": {
      "text/plain": [
       "[0, 1, 2, 3, 4]"
      ]
     },
     "execution_count": 14,
     "metadata": {},
     "output_type": "execute_result"
    }
   ],
   "source": [
    "list(range(5))"
   ]
  },
  {
   "cell_type": "code",
   "execution_count": 15,
   "metadata": {
    "tags": []
   },
   "outputs": [
    {
     "name": "stdout",
     "output_type": "stream",
     "text": [
      "<class 'list'>\n",
      "[]\n"
     ]
    }
   ],
   "source": [
    "empty_list = []\n",
    "print(type(empty_list))\n",
    "print(empty_list)"
   ]
  },
  {
   "cell_type": "code",
   "execution_count": 16,
   "metadata": {
    "tags": []
   },
   "outputs": [
    {
     "name": "stdout",
     "output_type": "stream",
     "text": [
      "1\n",
      "2\n",
      "3\n"
     ]
    }
   ],
   "source": [
    "for i in range(1, len(gdp_values)):\n",
    "    print(i)"
   ]
  },
  {
   "cell_type": "markdown",
   "metadata": {
    "tags": []
   },
   "source": [
    "### Basic List Operations for Economic Analysis"
   ]
  },
  {
   "cell_type": "code",
   "execution_count": 17,
   "metadata": {
    "tags": []
   },
   "outputs": [
    {
     "name": "stdout",
     "output_type": "stream",
     "text": [
      "GDP Growth Rates (%): [2.34, 7.2795, 1.4354]\n"
     ]
    }
   ],
   "source": [
    "# Calculate year-over-year GDP growth rates\n",
    "gdp_growth_rates = []\n",
    "\n",
    "for i in range(1, len(gdp_values)):\n",
    "    growth_rate = ((gdp_values[i] - gdp_values[i-1]) / gdp_values[i-1]) * 100\n",
    "    gdp_growth_rates.append(round(growth_rate, 4))\n",
    "\n",
    "print(\"GDP Growth Rates (%):\", gdp_growth_rates)"
   ]
  },
  {
   "cell_type": "code",
   "execution_count": 18,
   "metadata": {
    "tags": []
   },
   "outputs": [
    {
     "data": {
      "text/plain": [
       "[3.7, 8.1, 5.4, 3.6]"
      ]
     },
     "execution_count": 18,
     "metadata": {},
     "output_type": "execute_result"
    }
   ],
   "source": [
    "unemployment_rates"
   ]
  },
  {
   "cell_type": "code",
   "execution_count": 19,
   "metadata": {
    "tags": []
   },
   "outputs": [
    {
     "data": {
      "text/plain": [
       "20.8"
      ]
     },
     "execution_count": 19,
     "metadata": {},
     "output_type": "execute_result"
    }
   ],
   "source": [
    "sum(unemployment_rates)"
   ]
  },
  {
   "cell_type": "code",
   "execution_count": 20,
   "metadata": {
    "tags": []
   },
   "outputs": [
    {
     "name": "stdout",
     "output_type": "stream",
     "text": [
      "\n",
      "Unemployment Statistics:\n",
      "\n",
      "--------------------------------\n",
      "Average: \t5.200%\n",
      "Maximum: \t8.1%\n",
      "Minimum: \t3.6%\n",
      "--------------------------------\n"
     ]
    }
   ],
   "source": [
    "# Basic statistical operations\n",
    "average_unemployment = sum(unemployment_rates) / len(unemployment_rates)\n",
    "max_unemployment = max(unemployment_rates)\n",
    "min_unemployment = min(unemployment_rates)\n",
    "\n",
    "print(f\"\\nUnemployment Statistics:\\n\")\n",
    "print('-'*32)\n",
    "print(f\"Average: \\t{average_unemployment:.3f}%\")\n",
    "print(f\"Maximum: \\t{max_unemployment}%\")\n",
    "print(f\"Minimum: \\t{min_unemployment}%\")\n",
    "print('-'*32)"
   ]
  },
  {
   "cell_type": "markdown",
   "metadata": {
    "tags": []
   },
   "source": [
    "## 2. Dictionaries in Python\n",
    "\n",
    "Dictionaries are ideal for storing related economic indicators or cross-sectional data across countries/regions.\n",
    "\n",
    "### 1. Basic Dictionary Structure\n",
    "A dictionary is like a container that stores data using pairs of keys and values. Think of it like a word dictionary where each word (key) has its definition (value).\n"
   ]
  },
  {
   "cell_type": "code",
   "execution_count": 21,
   "metadata": {},
   "outputs": [],
   "source": [
    "health_files = {\n",
    "    \"file\" : \"path\",\n",
    "    \n",
    "    # ...\n",
    "    \n",
    "    \"file_20\": \"path\"\n",
    "}"
   ]
  },
  {
   "cell_type": "code",
   "execution_count": 22,
   "metadata": {
    "tags": []
   },
   "outputs": [
    {
     "name": "stdout",
     "output_type": "stream",
     "text": [
      "{'USA': 332, 'Japan': 125, 'Germany': 83}\n"
     ]
    }
   ],
   "source": [
    "# Country populations (in millions)\n",
    "country_population = {\n",
    "    \"USA\": 332,\n",
    "    \"Japan\": 125,\n",
    "    \"Germany\": 83\n",
    "}\n",
    "\n",
    "# Print the entire dictionary\n",
    "print(country_population)"
   ]
  },
  {
   "cell_type": "markdown",
   "metadata": {
    "tags": []
   },
   "source": [
    "### 2. Accessing Dictionary Values\n",
    "We can access values using their keys:"
   ]
  },
  {
   "cell_type": "code",
   "execution_count": 23,
   "metadata": {
    "tags": []
   },
   "outputs": [
    {
     "name": "stdout",
     "output_type": "stream",
     "text": [
      "USA population: 332 million\n",
      "Japan population: 125 million\n"
     ]
    }
   ],
   "source": [
    "# Get population for USA\n",
    "usa_population = country_population[\"USA\"]\n",
    "print(\"USA population:\", usa_population, \"million\")\n",
    "\n",
    "# Get population for Japan\n",
    "japan_population = country_population[\"Japan\"]\n",
    "print(\"Japan population:\", japan_population, \"million\")"
   ]
  },
  {
   "cell_type": "markdown",
   "metadata": {
    "tags": []
   },
   "source": [
    "### 3. Adding and Modifying Values\n",
    "Dictionaries are mutable - we can change their contents:"
   ]
  },
  {
   "cell_type": "code",
   "execution_count": 24,
   "metadata": {
    "tags": []
   },
   "outputs": [
    {
     "name": "stdout",
     "output_type": "stream",
     "text": [
      "After adding France: {'USA': 332, 'Japan': 125, 'Germany': 83, 'France': 67}\n",
      "{'USA': 332, 'Japan': 125, 'Germany': 83, 'France': 67}\n"
     ]
    }
   ],
   "source": [
    "# Add a new country\n",
    "country_population[\"France\"] = 67\n",
    "print(\"After adding France:\", country_population)\n",
    "print(country_population)"
   ]
  },
  {
   "cell_type": "code",
   "execution_count": 25,
   "metadata": {
    "tags": []
   },
   "outputs": [
    {
     "name": "stdout",
     "output_type": "stream",
     "text": [
      "After updating USA: {'USA': 333, 'Japan': 125, 'Germany': 83, 'France': 67}\n"
     ]
    }
   ],
   "source": [
    "# Modify existing value\n",
    "country_population[\"USA\"] = 333\n",
    "print(\"After updating USA:\", country_population)"
   ]
  },
  {
   "cell_type": "markdown",
   "metadata": {
    "tags": []
   },
   "source": [
    "### 4. Simple Economic Example\n",
    "Let's store GDP values for countries:"
   ]
  },
  {
   "cell_type": "code",
   "execution_count": 26,
   "metadata": {
    "tags": []
   },
   "outputs": [
    {
     "name": "stdout",
     "output_type": "stream",
     "text": [
      "USA GDP: ** 23.0 ** trillion USD\n",
      "Japan GDP: 4.9 trillion USD\n"
     ]
    }
   ],
   "source": [
    "# GDP values (in trillion USD)\n",
    "country_gdp = {\n",
    "    \"USA\": 23.0,\n",
    "    \"Japan\": 4.9,\n",
    "    \"Germany\": 4.2,\n",
    "    \"France\": 2.9\n",
    "}\n",
    "\n",
    "# Print specific country's GDP\n",
    "print(\"USA GDP:\", country_gdp[\"USA\"], \"trillion USD\", sep = \" ** \")\n",
    "print(\"Japan GDP:\", country_gdp[\"Japan\"], \"trillion USD\")"
   ]
  },
  {
   "cell_type": "code",
   "execution_count": 27,
   "metadata": {
    "tags": []
   },
   "outputs": [
    {
     "data": {
      "text/plain": [
       "dict_keys(['USA', 'Japan', 'Germany', 'France'])"
      ]
     },
     "execution_count": 27,
     "metadata": {},
     "output_type": "execute_result"
    }
   ],
   "source": [
    "country_gdp.keys()"
   ]
  },
  {
   "cell_type": "code",
   "execution_count": 28,
   "metadata": {
    "tags": []
   },
   "outputs": [
    {
     "data": {
      "text/plain": [
       "dict_values([23.0, 4.9, 4.2, 2.9])"
      ]
     },
     "execution_count": 28,
     "metadata": {},
     "output_type": "execute_result"
    }
   ],
   "source": [
    "country_gdp.values()"
   ]
  },
  {
   "cell_type": "code",
   "execution_count": 29,
   "metadata": {
    "tags": []
   },
   "outputs": [
    {
     "data": {
      "text/plain": [
       "dict_items([('USA', 23.0), ('Japan', 4.9), ('Germany', 4.2), ('France', 2.9)])"
      ]
     },
     "execution_count": 29,
     "metadata": {},
     "output_type": "execute_result"
    }
   ],
   "source": [
    "country_gdp.items()"
   ]
  },
  {
   "cell_type": "markdown",
   "metadata": {},
   "source": [
    "---"
   ]
  },
  {
   "cell_type": "markdown",
   "metadata": {
    "tags": []
   },
   "source": [
    "## Dictionaries: Practice Example"
   ]
  },
  {
   "cell_type": "code",
   "execution_count": 30,
   "metadata": {
    "tags": []
   },
   "outputs": [
    {
     "name": "stdout",
     "output_type": "stream",
     "text": [
      "{'USA': {'gdp': 23.32, 'unemployment': 3.6, 'inflation': 8.0}, 'Japan': {'gdp': 4.94, 'unemployment': 2.6, 'inflation': 3.8}, 'Germany': {'gdp': 4.26, 'unemployment': 3.0, 'inflation': 7.5}}\n"
     ]
    }
   ],
   "source": [
    "# Economic indicators for different countries\n",
    "country_indicators = {\n",
    "    \"USA\": {\n",
    "        \"gdp\": 23.32,\n",
    "        \"unemployment\": 3.6,\n",
    "        \"inflation\": 8.0\n",
    "    },\n",
    "    \"Japan\": {\n",
    "        \"gdp\": 4.94,\n",
    "        \"unemployment\": 2.6,\n",
    "        \"inflation\": 3.8\n",
    "    },\n",
    "    \"Germany\": {\n",
    "        \"gdp\": 4.26,\n",
    "        \"unemployment\": 3.0,\n",
    "        \"inflation\": 7.5\n",
    "    }\n",
    "}\n",
    "\n",
    "# print the dictionary\n",
    "print(country_indicators)"
   ]
  },
  {
   "cell_type": "code",
   "execution_count": 31,
   "metadata": {
    "tags": []
   },
   "outputs": [
    {
     "name": "stdout",
     "output_type": "stream",
     "text": [
      "{'gdp': 4.94, 'unemployment': 2.6, 'inflation': 3.8}\n"
     ]
    }
   ],
   "source": [
    "japan = country_indicators['Japan']\n",
    "print(japan)"
   ]
  },
  {
   "cell_type": "code",
   "execution_count": 32,
   "metadata": {
    "tags": []
   },
   "outputs": [
    {
     "data": {
      "text/plain": [
       "3.8"
      ]
     },
     "execution_count": 32,
     "metadata": {},
     "output_type": "execute_result"
    }
   ],
   "source": [
    "japan['inflation']"
   ]
  },
  {
   "cell_type": "code",
   "execution_count": 33,
   "metadata": {},
   "outputs": [
    {
     "data": {
      "text/plain": [
       "3.8"
      ]
     },
     "execution_count": 33,
     "metadata": {},
     "output_type": "execute_result"
    }
   ],
   "source": [
    "country_indicators['Japan']['inflation'] # chain operators "
   ]
  },
  {
   "cell_type": "code",
   "execution_count": 34,
   "metadata": {
    "tags": []
   },
   "outputs": [
    {
     "name": "stdout",
     "output_type": "stream",
     "text": [
      "{'Germany': {'gdp': 4.26, 'inflation': 7.5, 'unemployment': 3.0},\n",
      " 'Japan': {'gdp': 4.94, 'inflation': 3.8, 'unemployment': 2.6},\n",
      " 'USA': {'gdp': 23.32, 'inflation': 8.0, 'unemployment': 3.6}}\n"
     ]
    }
   ],
   "source": [
    "# for pretty printing use `pprint` from pprint module (you need to import it first)\n",
    "from pprint import pprint\n",
    "pprint(country_indicators)"
   ]
  },
  {
   "cell_type": "markdown",
   "metadata": {
    "tags": []
   },
   "source": [
    "### Check Dictionaries Components\n",
    "\n",
    "1. Keys: You can access the keys using the `keys()` methods\n",
    "2. Values: Use the `values()` method to access them.\n",
    "3. Item: To access both keys and values use `items()` methods."
   ]
  },
  {
   "cell_type": "code",
   "execution_count": 35,
   "metadata": {
    "tags": []
   },
   "outputs": [
    {
     "name": "stdout",
     "output_type": "stream",
     "text": [
      "dict_keys(['USA', 'Japan', 'Germany'])\n"
     ]
    }
   ],
   "source": [
    "# print the country_indicators dictionary keys\n",
    "print(country_indicators.keys())"
   ]
  },
  {
   "cell_type": "code",
   "execution_count": 36,
   "metadata": {
    "tags": []
   },
   "outputs": [
    {
     "name": "stdout",
     "output_type": "stream",
     "text": [
      "dict_values([{'gdp': 23.32, 'unemployment': 3.6, 'inflation': 8.0}, {'gdp': 4.94, 'unemployment': 2.6, 'inflation': 3.8}, {'gdp': 4.26, 'unemployment': 3.0, 'inflation': 7.5}])\n"
     ]
    }
   ],
   "source": [
    "# print the country_indicators dictionary values\n",
    "print(country_indicators.values())"
   ]
  },
  {
   "cell_type": "code",
   "execution_count": 37,
   "metadata": {
    "tags": []
   },
   "outputs": [
    {
     "name": "stdout",
     "output_type": "stream",
     "text": [
      "dict_items([('USA', {'gdp': 23.32, 'unemployment': 3.6, 'inflation': 8.0}), ('Japan', {'gdp': 4.94, 'unemployment': 2.6, 'inflation': 3.8}), ('Germany', {'gdp': 4.26, 'unemployment': 3.0, 'inflation': 7.5})])\n"
     ]
    }
   ],
   "source": [
    "# print the country_indicators dictionary items\n",
    "print(country_indicators.items())"
   ]
  },
  {
   "cell_type": "code",
   "execution_count": 38,
   "metadata": {
    "tags": []
   },
   "outputs": [
    {
     "name": "stdout",
     "output_type": "stream",
     "text": [
      "US GDP: $23.32 trillion\n",
      "Japan Unemployment: 2.6%\n"
     ]
    }
   ],
   "source": [
    "# Accessing dictionary data\n",
    "print(f\"US GDP: ${country_indicators['USA']['gdp']} trillion\")\n",
    "print(f\"Japan Unemployment: {country_indicators['Japan']['unemployment']}%\")"
   ]
  },
  {
   "cell_type": "code",
   "execution_count": 39,
   "metadata": {
    "tags": []
   },
   "outputs": [
    {
     "name": "stdout",
     "output_type": "stream",
     "text": [
      "USA inflation rate: 8.0%\n",
      "USA GDP Value: 23.32%\n",
      "\n",
      "Japan inflation rate: 3.8%\n",
      "Japan GDP Value: 4.94%\n",
      "\n",
      "Germany inflation rate: 7.5%\n",
      "Germany GDP Value: 4.26%\n",
      "\n"
     ]
    }
   ],
   "source": [
    "# Comparing inflation rates\n",
    "for country, data in country_indicators.items():\n",
    "    # print(f\"The data is: {data} and has type {type(data)}\")\n",
    "    print(f\"{country} inflation rate: {data['inflation']}%\")\n",
    "    print(f\"{country} GDP Value: {data['gdp']}%\")\n",
    "    print()\n",
    "    "
   ]
  },
  {
   "cell_type": "markdown",
   "metadata": {
    "tags": []
   },
   "source": [
    "### Working with Economic Time Series Data"
   ]
  },
  {
   "cell_type": "code",
   "execution_count": 40,
   "metadata": {
    "tags": []
   },
   "outputs": [
    {
     "name": "stdout",
     "output_type": "stream",
     "text": [
      "Quarterly GDP Growth Rates:\n",
      "2022-Q2: 2.1%\n",
      "2022-Q3: 3.3%\n",
      "2022-Q4: -1.0%\n"
     ]
    }
   ],
   "source": [
    "# Creating a time series of quarterly GDP data\n",
    "quarterly_gdp = {\n",
    "    \"2022-Q1\": 24.386,\n",
    "    \"2022-Q2\": 24.899,\n",
    "    \"2022-Q3\": 25.725,\n",
    "    \"2022-Q4\": 25.462\n",
    "}\n",
    "\n",
    "# Calculate quarterly growth rates\n",
    "quarters = list(quarterly_gdp.keys())\n",
    "values = list(quarterly_gdp.values())\n",
    "\n",
    "print(\"Quarterly GDP Growth Rates:\")\n",
    "for i in range(1, len(quarters)):\n",
    "    growth = ((values[i] - values[i-1]) / values[i-1]) * 100\n",
    "    print(f\"{quarters[i]}: {growth:.1f}%\")"
   ]
  },
  {
   "cell_type": "markdown",
   "metadata": {
    "tags": []
   },
   "source": [
    "## 3. Combining Lists and Dictionaries\n",
    "\n",
    "Let's create a more complex economic dataset combining both data structures."
   ]
  },
  {
   "cell_type": "code",
   "execution_count": 41,
   "metadata": {
    "tags": []
   },
   "outputs": [
    {
     "name": "stdout",
     "output_type": "stream",
     "text": [
      "\n",
      "USA GDP Growth Rates:\n",
      "2020: 2.3%\n",
      "2021: 7.3%\n",
      "2022: 1.4%\n",
      "\n",
      "Japan GDP Growth Rates:\n",
      "2020: -3.1%\n",
      "2021: 0.4%\n",
      "2022: -14.4%\n"
     ]
    }
   ],
   "source": [
    "# Economic data for multiple countries over time\n",
    "economic_data = {\n",
    "    \"USA\": {\n",
    "        \"gdp\": [20.94, 21.43, 22.99, 23.32],\n",
    "        \"unemployment\": [3.7, 8.1, 5.4, 3.6],\n",
    "        \"years\": [2019, 2020, 2021, 2022]\n",
    "    },\n",
    "    \"Japan\": {\n",
    "        \"gdp\": [5.08, 4.92, 4.94, 4.23],\n",
    "        \"unemployment\": [2.4, 2.8, 2.8, 2.6],\n",
    "        \"years\": [2019, 2020, 2021, 2022]\n",
    "    }\n",
    "}\n",
    "\n",
    "# Analysis example: Compare GDP growth patterns\n",
    "for country, data in economic_data.items():\n",
    "    print(f\"\\n{country} GDP Growth Rates:\")\n",
    "    gdp_values = data['gdp']\n",
    "    years = data['years']\n",
    "    \n",
    "    for i in range(1, len(gdp_values)):\n",
    "        growth = ((gdp_values[i] - gdp_values[i-1]) / gdp_values[i-1]) * 100\n",
    "        print(f\"{years[i]}: {growth:.1f}%\")"
   ]
  },
  {
   "cell_type": "markdown",
   "metadata": {
    "tags": []
   },
   "source": [
    "## 4. Basic Data Analysis Functions"
   ]
  },
  {
   "cell_type": "code",
   "execution_count": 42,
   "metadata": {
    "tags": []
   },
   "outputs": [
    {
     "name": "stdout",
     "output_type": "stream",
     "text": [
      "US Unemployment Statistics:\n",
      "mean: 5.20\n",
      "median: 4.55\n",
      "std_dev: 2.10\n",
      "min: 3.60\n",
      "max: 8.10\n"
     ]
    }
   ],
   "source": [
    "def calculate_basic_statistics(data_list):\n",
    "    \"\"\"Calculate basic statistical measures for economic data\"\"\"\n",
    "    mean = sum(data_list) / len(data_list)\n",
    "    sorted_data = sorted(data_list)\n",
    "    n = len(sorted_data)\n",
    "    \n",
    "    # Calculate median\n",
    "    if n % 2 == 0:\n",
    "        median = (sorted_data[n//2 - 1] + sorted_data[n//2]) / 2\n",
    "    else:\n",
    "        median = sorted_data[n//2]\n",
    "    \n",
    "    # Calculate variance and standard deviation\n",
    "    variance = sum((x - mean) ** 2 for x in data_list) / (n - 1)\n",
    "    std_dev = variance ** 0.5\n",
    "    \n",
    "    return {\n",
    "        \"mean\": mean,\n",
    "        \"median\": median,\n",
    "        \"std_dev\": std_dev,\n",
    "        \"min\": min(data_list),\n",
    "        \"max\": max(data_list)\n",
    "    }\n",
    "\n",
    "# Example: Analyze unemployment rates\n",
    "us_unemployment = economic_data[\"USA\"][\"unemployment\"]\n",
    "stats = calculate_basic_statistics(us_unemployment)\n",
    "\n",
    "print(\"US Unemployment Statistics:\")\n",
    "for metric, value in stats.items():\n",
    "    print(f\"{metric}: {value:.2f}\")"
   ]
  },
  {
   "cell_type": "markdown",
   "metadata": {
    "tags": []
   },
   "source": [
    "## Practice Exercises\n",
    "\n",
    "1. Create a list of monthly inflation rates for 2022 and calculate:\n",
    "   * Average inflation rate\n",
    "   * Number of months with inflation above 5%\n",
    "   * The month with highest inflation\n",
    "\n",
    "2. Create a dictionary of economic indicators for three countries and:\n",
    "   * Compare their GDP per capita\n",
    "   * Find the country with lowest unemployment\n",
    "   * Calculate average inflation across all countries\n",
    "\n",
    "3. Using the provided `calculate_basic_statistics` function:\n",
    "   * Analyze GDP growth rates for both USA and Japan\n",
    "   * Compare the volatility (standard deviation) of their growth rates"
   ]
  },
  {
   "cell_type": "markdown",
   "metadata": {
    "tags": []
   },
   "source": [
    "## Summary Points\n",
    "\n",
    "* Lists are excellent for time series economic data\n",
    "* Dictionaries help organize complex economic indicators\n",
    "* Combining both allows for sophisticated data organization\n",
    "* Basic statistical analysis can be performed easily"
   ]
  },
  {
   "cell_type": "code",
   "execution_count": null,
   "metadata": {},
   "outputs": [],
   "source": []
  },
  {
   "cell_type": "code",
   "execution_count": null,
   "metadata": {},
   "outputs": [],
   "source": []
  },
  {
   "cell_type": "code",
   "execution_count": null,
   "metadata": {},
   "outputs": [],
   "source": []
  },
  {
   "cell_type": "code",
   "execution_count": null,
   "metadata": {},
   "outputs": [],
   "source": []
  },
  {
   "cell_type": "code",
   "execution_count": null,
   "metadata": {},
   "outputs": [],
   "source": []
  },
  {
   "cell_type": "code",
   "execution_count": null,
   "metadata": {},
   "outputs": [],
   "source": []
  },
  {
   "cell_type": "code",
   "execution_count": null,
   "metadata": {},
   "outputs": [],
   "source": []
  },
  {
   "cell_type": "code",
   "execution_count": null,
   "metadata": {},
   "outputs": [],
   "source": []
  },
  {
   "cell_type": "code",
   "execution_count": null,
   "metadata": {},
   "outputs": [],
   "source": []
  },
  {
   "cell_type": "code",
   "execution_count": null,
   "metadata": {},
   "outputs": [],
   "source": []
  },
  {
   "cell_type": "code",
   "execution_count": null,
   "metadata": {},
   "outputs": [],
   "source": []
  },
  {
   "cell_type": "code",
   "execution_count": null,
   "metadata": {},
   "outputs": [],
   "source": []
  },
  {
   "cell_type": "code",
   "execution_count": null,
   "metadata": {},
   "outputs": [],
   "source": []
  },
  {
   "cell_type": "code",
   "execution_count": null,
   "metadata": {},
   "outputs": [],
   "source": []
  },
  {
   "cell_type": "code",
   "execution_count": null,
   "metadata": {},
   "outputs": [],
   "source": []
  },
  {
   "cell_type": "code",
   "execution_count": null,
   "metadata": {},
   "outputs": [],
   "source": []
  },
  {
   "cell_type": "code",
   "execution_count": null,
   "metadata": {},
   "outputs": [],
   "source": []
  },
  {
   "cell_type": "code",
   "execution_count": null,
   "metadata": {},
   "outputs": [],
   "source": []
  },
  {
   "cell_type": "code",
   "execution_count": null,
   "metadata": {},
   "outputs": [],
   "source": []
  },
  {
   "cell_type": "code",
   "execution_count": 43,
   "metadata": {
    "tags": []
   },
   "outputs": [
    {
     "name": "stdout",
     "output_type": "stream",
     "text": [
      "Exercise 1 Results:\n",
      "Average inflation rate in 2022: 8.02%\n",
      "Months with inflation above 5%: 12\n",
      "Month with highest inflation: Jun (9.1%)\n",
      "\n"
     ]
    }
   ],
   "source": [
    "# Exercise 1: Monthly Inflation Rates\n",
    "# -----------------------------------\n",
    "inflation_2022 = [7.5, 7.9, 8.5, 8.3, 8.6, 9.1, 8.5, 8.3, 8.2, 7.7, 7.1, 6.5]  # Monthly inflation rates for 2022\n",
    "months = ['Jan', 'Feb', 'Mar', 'Apr', 'May', 'Jun', 'Jul', 'Aug', 'Sep', 'Oct', 'Nov', 'Dec']\n",
    "\n",
    "# Calculate average inflation\n",
    "average_inflation = sum(inflation_2022) / len(inflation_2022)\n",
    "\n",
    "# Count months with inflation above 5%\n",
    "high_inflation_months = sum(1 for rate in inflation_2022 if rate > 5)\n",
    "\n",
    "# Find month with highest inflation\n",
    "highest_inflation = max(inflation_2022)\n",
    "highest_inflation_month = months[inflation_2022.index(highest_inflation)]\n",
    "\n",
    "print(\"Exercise 1 Results:\")\n",
    "print(f\"Average inflation rate in 2022: {average_inflation:.2f}%\")\n",
    "print(f\"Months with inflation above 5%: {high_inflation_months}\")\n",
    "print(f\"Month with highest inflation: {highest_inflation_month} ({highest_inflation}%)\")\n",
    "print()"
   ]
  },
  {
   "cell_type": "code",
   "execution_count": 45,
   "metadata": {
    "tags": []
   },
   "outputs": [
    {
     "name": "stdout",
     "output_type": "stream",
     "text": [
      "Exercise 2 Results:\n",
      "Country with highest GDP per capita: USA ($69,287.50)\n",
      "Country with lowest unemployment: Japan (2.6%)\n",
      "Average inflation across all countries: 6.00%\n",
      "\n"
     ]
    }
   ],
   "source": [
    "# Exercise 2: Economic Indicators Dictionary\n",
    "# -----------------------------------------\n",
    "economic_indicators = {\n",
    "    'USA': {\n",
    "        'GDP_per_capita': 69287.5,\n",
    "        'unemployment': 3.6,\n",
    "        'inflation': 8.0\n",
    "    },\n",
    "    'Germany': {\n",
    "        'GDP_per_capita': 51203.6,\n",
    "        'unemployment': 5.3,\n",
    "        'inflation': 7.5\n",
    "    },\n",
    "    'Japan': {\n",
    "        'GDP_per_capita': 39312.7,\n",
    "        'unemployment': 2.6,\n",
    "        'inflation': 2.5\n",
    "    }\n",
    "}\n",
    "\n",
    "# Compare GDP per capita\n",
    "highest_gdp_country = max(\n",
    "    economic_indicators.keys(), key=lambda country: economic_indicators[country]['GDP_per_capita']\n",
    ")\n",
    "\n",
    "highest_gdp = economic_indicators[highest_gdp_country]['GDP_per_capita']\n",
    "\n",
    "# Find country with lowest unemployment\n",
    "lowest_unemployment_country = min(\n",
    "    economic_indicators.keys(), key=lambda country: economic_indicators[country]['unemployment']\n",
    ")\n",
    "\n",
    "lowest_unemployment = economic_indicators[lowest_unemployment_country]['unemployment']\n",
    "\n",
    "# Calculate average inflation across all countries\n",
    "total_inflation = sum(country_data['inflation'] for country_data in economic_indicators.values())\n",
    "average_inflation_all = total_inflation / len(economic_indicators)\n",
    "\n",
    "print(\"Exercise 2 Results:\")\n",
    "print(f\"Country with highest GDP per capita: {highest_gdp_country} (${highest_gdp:,.2f})\")\n",
    "print(f\"Country with lowest unemployment: {lowest_unemployment_country} ({lowest_unemployment}%)\")\n",
    "print(f\"Average inflation across all countries: {average_inflation_all:.2f}%\")\n",
    "print()"
   ]
  },
  {
   "cell_type": "code",
   "execution_count": 46,
   "metadata": {
    "tags": []
   },
   "outputs": [
    {
     "name": "stdout",
     "output_type": "stream",
     "text": [
      "Exercise 3 Results:\n",
      "GDP Growth Rate Statistics:\n",
      "USA - Average: 2.16%, Std Dev: 2.02\n",
      "Japan - Average: 0.52%, Std Dev: 1.79\n",
      "Growth Rate Difference (USA - Japan): 1.64%\n",
      "Volatility Comparison: USA has higher volatility\n"
     ]
    }
   ],
   "source": [
    "# Exercise 3: Using calculate_basic_statistics function\n",
    "# ----------------------------------------------------\n",
    "def calculate_basic_statistics(data):\n",
    "    \"\"\"Calculate basic statistics for a list of numeric values.\"\"\"\n",
    "    if not data:\n",
    "        return None\n",
    "    \n",
    "    n = len(data)\n",
    "    mean = sum(data) / n\n",
    "    sorted_data = sorted(data)\n",
    "    \n",
    "    # Calculate median\n",
    "    if n % 2 == 0:\n",
    "        median = (sorted_data[n//2 - 1] + sorted_data[n//2]) / 2\n",
    "    else:\n",
    "        median = sorted_data[n//2]\n",
    "    \n",
    "    # Calculate standard deviation\n",
    "    variance = sum((x - mean) ** 2 for x in data) / n\n",
    "    std_dev = variance ** 0.5\n",
    "    \n",
    "    return {\n",
    "        'mean': mean,\n",
    "        'median': median,\n",
    "        'min': min(data),\n",
    "        'max': max(data),\n",
    "        'std_dev': std_dev\n",
    "    }\n",
    "\n",
    "# GDP growth rates (in percentages)\n",
    "usa_gdp_growth = [2.3, 1.7, 2.3, 2.9, 2.3, 3.2, 2.2, -2.8, 5.9, 1.6]\n",
    "japan_gdp_growth = [1.4, 0.5, 1.7, 0.8, 0.3, 0.6, -0.2, -4.1, 3.3, 0.9]\n",
    "\n",
    "# Analyze growth rates using our function\n",
    "usa_stats = calculate_basic_statistics(usa_gdp_growth)\n",
    "japan_stats = calculate_basic_statistics(japan_gdp_growth)\n",
    "\n",
    "print(\"Exercise 3 Results:\")\n",
    "print(\"GDP Growth Rate Statistics:\")\n",
    "print(f\"USA - Average: {usa_stats['mean']:.2f}%, Std Dev: {usa_stats['std_dev']:.2f}\")\n",
    "print(f\"Japan - Average: {japan_stats['mean']:.2f}%, Std Dev: {japan_stats['std_dev']:.2f}\")\n",
    "print(f\"Growth Rate Difference (USA - Japan): {usa_stats['mean'] - japan_stats['mean']:.2f}%\")\n",
    "print(f\"Volatility Comparison: {'USA' if usa_stats['std_dev'] > japan_stats['std_dev'] else 'Japan'} has higher volatility\")"
   ]
  },
  {
   "cell_type": "code",
   "execution_count": null,
   "metadata": {},
   "outputs": [],
   "source": []
  }
 ],
 "metadata": {
  "kernelspec": {
   "display_name": "ML-ENV-Py-3.12",
   "language": "python",
   "name": "mlenv"
  },
  "language_info": {
   "codemirror_mode": {
    "name": "ipython",
    "version": 3
   },
   "file_extension": ".py",
   "mimetype": "text/x-python",
   "name": "python",
   "nbconvert_exporter": "python",
   "pygments_lexer": "ipython3",
   "version": "3.12.2"
  }
 },
 "nbformat": 4,
 "nbformat_minor": 4
}

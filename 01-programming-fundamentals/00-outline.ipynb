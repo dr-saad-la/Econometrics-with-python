{
 "cells": [
  {
   "cell_type": "markdown",
   "metadata": {},
   "source": [
    "<blockquote style=\"\n",
    "    padding: 10px 15px;\n",
    "    border: 2px solid #360084;\n",
    "    border-radius: 8px;\n",
    "    margin: 20px 5px 15px 0;\n",
    "    background: #fafafa;\n",
    "    box-shadow: 2px 2px 10px rgba(0, 0, 0, 0.1);\n",
    "\">\n",
    "  <!-- Header Title -->\n",
    "  <p style=\"\n",
    "      padding: 12px;\n",
    "      font-size: 22pt;\n",
    "      font-weight: bold;\n",
    "      color: #fff;\n",
    "      background: linear-gradient(to right, #360084, #7a1fa2);\n",
    "      border-radius: 6px 6px 0 0;\n",
    "      text-align: center;\n",
    "      margin: -10px -15px 15px;\n",
    "  \">Introduction to Python for Econometricians</p>\n",
    "  <!-- Course Details Section -->\n",
    "  <div style=\"\n",
    "      background-color: #f7f7f7;\n",
    "      padding: 15px;\n",
    "      border-radius: 6px;\n",
    "  \">\n",
    "    <div class=\"row\">\n",
    "      <div class=\"col-md-6\">\n",
    "        <strong>📚 Course:</strong> <span style=\"color:#360084;\">Python for Econometric Analysis</span><br/>\n",
    "        <strong>📖 Chapter:</strong> <span style=\"color:#360084;\">Introduction</span> <br/>\n",
    "        <strong>🎯 Lesson:</strong> <span style=\"color:#360084;\">Course Overview</span><br/>\n",
    "        <strong>👨‍🏫 Author:</strong> <span style=\"color:#360084;\">Dr. Saad Laouadi</span>\n",
    "      </div>\n",
    "    </div>\n",
    "  </div>\n",
    "  <!-- Objectives Section -->\n",
    "  <div style=\"\n",
    "    background-color: #f8fafc;\n",
    "    padding: 20px;\n",
    "    border-radius: 8px;\n",
    "    border-left: 4px solid #0284c7;\n",
    "    box-shadow: 0 2px 4px rgba(0, 0, 0, 0.1);\n",
    "    margin: 20px 0;\n",
    "\">\n",
    "    <strong style=\"color: #0284c7; font-size: 18px;\">🎯 Learning Objectives</strong>\n",
    "    <ul style=\"padding-left: 20px; font-size: 16px; line-height: 1.6; margin-top: 12px;\">\n",
    "        <li>Write basic Python programs for economic analysis</li>\n",
    "        <li>Learn to handle and analyze economic data effectively</li>\n",
    "        <li>Create simple visualizations for economic data</li>\n",
    "        <li>Understand Python's role in econometric analysis</li>\n",
    "        <li>Set up a proper Python environment for econometrics</li>\n",
    "    </ul>\n",
    "</div>\n",
    "  <!-- Footer -->\n",
    "  <p style=\"\n",
    "      text-align: center;\n",
    "      font-size: 14px;\n",
    "      font-style: italic;\n",
    "      color: #777;\n",
    "      margin-top: 15px;\n",
    "  \">© 2025 Dr. Saad Laouadi. All Rights Reserved.</p>\n",
    "</blockquote>"
   ]
  },
  {
   "cell_type": "markdown",
   "metadata": {},
   "source": [
    "# Introduction to Python for Econometricians"
   ]
  },
  {
   "cell_type": "markdown",
   "metadata": {},
   "source": [
    "## A Primer Course for Econometrics Students\n",
    "\n",
    "This course is specifically designed for econometrics students and professionals who are new to programming but need to use Python for econometric analysis."
   ]
  },
  {
   "cell_type": "markdown",
   "metadata": {},
   "source": [
    "## Why Python for Econometrics?\n",
    "\n",
    "Python has become an essential tool in economic research and analysis because:\n",
    "\n",
    "* **User-Friendly**: Easy to learn and read, even for beginners\n",
    "* **Powerful Analysis**: Excellent tools for statistical and econometric analysis\n",
    "* **Data Handling**: Efficient processing of large economic datasets\n",
    "* **Visualization**: Professional-quality charts and graphs\n",
    "* **Free and Open**: No cost barriers to entry"
   ]
  },
  {
   "cell_type": "markdown",
   "metadata": {},
   "source": [
    "## Course Structure\n",
    "\n",
    "1. **Python Setup and Installation**\n",
    "   * Installing Python and Anaconda\n",
    "   * Introduction to Jupyter Notebooks\n",
    "   * Setting up your working environment\n",
    "\n",
    "2. **Python Fundamentals**\n",
    "   * Variables and data types\n",
    "   * Basic operations\n",
    "   * Working with economic calculations\n",
    "\n",
    "3. **Data Structures**\n",
    "   * Lists for time series data\n",
    "   * Dictionaries for economic indicators\n",
    "   * Working with tables of data\n",
    "\n",
    "4. **Data Analysis and Visualization**\n",
    "   * Introduction to Pandas\n",
    "   * Basic data analysis\n",
    "   * Creating economic charts"
   ]
  },
  {
   "cell_type": "markdown",
   "metadata": {},
   "source": [
    "## Prerequisites\n",
    "\n",
    "* Basic computer skills (file management, web browsing)\n",
    "* No prior programming experience required\n",
    "* Understanding of basic economic concepts\n",
    "\n",
    "## Learning Approach\n",
    "\n",
    "This course is designed to be:\n",
    "* **Practical**: Focus on real economic applications\n",
    "* **Step-by-Step**: Building from basics to more complex concepts\n",
    "* **Hands-On**: Learn by doing with economic examples\n",
    "* **Focused**: Covering only what economists need to know\n",
    "\n",
    "## What You'll Learn\n",
    "\n",
    "By the end of this course, you'll be able to:\n",
    "* Write basic Python programs for economic analysis\n",
    "* Handle and analyze economic data\n",
    "* Create simple visualizations\n",
    "* Use Python for econometric analysis"
   ]
  },
  {
   "cell_type": "markdown",
   "metadata": {},
   "source": [
    "## Next Steps\n",
    "\n",
    "We'll begin with Python setup and installation in the next notebook. Make sure you have administrator access to your computer for the installation process."
   ]
  }
 ],
 "metadata": {
  "kernelspec": {
   "display_name": "Python@3.12",
   "language": "python",
   "name": "python3"
  },
  "language_info": {
   "codemirror_mode": {
    "name": "ipython",
    "version": 3
   },
   "file_extension": ".py",
   "mimetype": "text/x-python",
   "name": "python",
   "nbconvert_exporter": "python",
   "pygments_lexer": "ipython3",
   "version": "3.12.7"
  }
 },
 "nbformat": 4,
 "nbformat_minor": 4
}

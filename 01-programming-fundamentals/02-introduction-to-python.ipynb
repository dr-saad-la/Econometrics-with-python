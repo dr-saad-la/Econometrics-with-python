{
 "cells": [
  {
   "cell_type": "markdown",
   "metadata": {},
   "source": [
    "<blockquote style=\"\n",
    "    padding: 10px 15px;\n",
    "    border: 2px solid #360084;\n",
    "    border-radius: 8px;\n",
    "    margin: 20px 5px 15px 0;\n",
    "    background: #fafafa;\n",
    "    box-shadow: 2px 2px 10px rgba(0, 0, 0, 0.1);\n",
    "\">\n",
    "  <!-- Header Title -->\n",
    "  <p style=\"\n",
    "      padding: 12px;\n",
    "      font-size: 22pt;\n",
    "      font-weight: bold;\n",
    "      color: #fff;\n",
    "      background: linear-gradient(to right, #360084, #7a1fa2);\n",
    "      border-radius: 6px 6px 0 0;\n",
    "      text-align: center;\n",
    "      margin: -10px -15px 15px;\n",
    "  \">Introduction to Python for Econometricians</p>\n",
    "  <!-- Course Details Section -->\n",
    "  <div style=\"\n",
    "      background-color: #f7f7f7;\n",
    "      padding: 15px;\n",
    "      border-radius: 6px;\n",
    "  \">\n",
    "    <div class=\"row\">\n",
    "      <div class=\"col-md-6\">\n",
    "        <strong>📚 Course:</strong> <span style=\"color:#360084;\">Python for Econometric Analysis</span><br/>\n",
    "        <strong>📖 Chapter:</strong> <span style=\"color:#360084;\">Python Basics</span> <br/>\n",
    "        <strong>🎯 Lesson:</strong> <span style=\"color:#360084;\">Basic Operations</span><br/>\n",
    "        <strong>👨‍🏫 Author:</strong> <span style=\"color:#360084;\">Dr. Saad Laouadi</span>\n",
    "      </div>\n",
    "    </div>\n",
    "  </div>\n",
    "  <!-- Objectives Section -->\n",
    "  <div style=\"\n",
    "    background-color: #f8fafc;\n",
    "    padding: 20px;\n",
    "    border-radius: 8px;\n",
    "    border-left: 4px solid #0284c7;\n",
    "    box-shadow: 0 2px 4px rgba(0, 0, 0, 0.1);\n",
    "    margin: 20px 0;\n",
    "\">\n",
    "    <strong style=\"color: #0284c7; font-size: 18px;\">🎯 Learning Objectives</strong>\n",
    "    <ul style=\"padding-left: 20px; font-size: 16px; line-height: 1.6; margin-top: 12px;\">\n",
    "        <li>Understand what Python is and its relevance to economic analysis</li>\n",
    "        <li>Learn to perform basic arithmetic operations in Python</li>\n",
    "        <li>Practice using Python as a calculator for economic calculations</li>\n",
    "        <li>Understand order of operations and use of parentheses</li>\n",
    "        <li>Get familiar with basic output and mathematical expressions</li>\n",
    "    </ul>\n",
    "</div>\n",
    "  <!-- Footer -->\n",
    "  <p style=\"\n",
    "      text-align: center;\n",
    "      font-size: 14px;\n",
    "      font-style: italic;\n",
    "      color: #777;\n",
    "      margin-top: 15px;\n",
    "  \">© 2025 Dr. Saad Laouadi. All Rights Reserved.</p>\n",
    "</blockquote>"
   ]
  },
  {
   "cell_type": "markdown",
   "metadata": {},
   "source": [
    "## Getting Started with Python Programming\n",
    "\n",
    "Welcome to the introduction to Python programming for economic analysis! This notebook is designed specifically for economists and students of economics and econometrics who are new to programming. We'll start with the basics and gradually build up to concepts that are directly applicable to economic analysis."
   ]
  },
  {
   "cell_type": "markdown",
   "metadata": {},
   "source": [
    "### What is Python?\n",
    "\n",
    "Python is a powerful programming language that's particularly well-suited for:\n",
    "\n",
    " * Data analysis and manipulation\n",
    " * Statistical computations\n",
    " * Economic modeling\n",
    " * Creating visualizations\n",
    " * Machine learning and econometrics"
   ]
  },
  {
   "cell_type": "markdown",
   "metadata": {},
   "source": [
    "### Why Python for Econometrics?\n",
    "\n",
    "  * Easy to learn and read\n",
    "  * Extensive libraries for economic analysis\n",
    "  * Strong data handling capabilities\n",
    "  * Excellent visualization tools\n",
    "  * Free and open-source\n",
    "  * Large community support"
   ]
  },
  {
   "cell_type": "markdown",
   "metadata": {},
   "source": [
    "## 1. Basic Python Operations\n",
    "\n",
    "Let's start with some basic operations that economists frequently use. Python can work as a sophisticated calculator!"
   ]
  },
  {
   "cell_type": "code",
   "execution_count": 1,
   "metadata": {},
   "outputs": [],
   "source": [
    "# Basic arithmetic operations\n",
    "# =========================="
   ]
  },
  {
   "cell_type": "code",
   "execution_count": 2,
   "metadata": {
    "tags": []
   },
   "outputs": [
    {
     "data": {
      "text/plain": [
       "102"
      ]
     },
     "execution_count": 2,
     "metadata": {},
     "output_type": "execute_result"
    }
   ],
   "source": [
    "# addition\n",
    "10 + 92"
   ]
  },
  {
   "cell_type": "code",
   "execution_count": 3,
   "metadata": {
    "tags": []
   },
   "outputs": [
    {
     "data": {
      "text/plain": [
       "24"
      ]
     },
     "execution_count": 3,
     "metadata": {},
     "output_type": "execute_result"
    }
   ],
   "source": [
    "# Subtraction\n",
    "47 - 23"
   ]
  },
  {
   "cell_type": "code",
   "execution_count": 4,
   "metadata": {
    "tags": []
   },
   "outputs": [
    {
     "data": {
      "text/plain": [
       "70"
      ]
     },
     "execution_count": 4,
     "metadata": {},
     "output_type": "execute_result"
    }
   ],
   "source": [
    "# Multiplication\n",
    "7 * 10"
   ]
  },
  {
   "cell_type": "code",
   "execution_count": 5,
   "metadata": {
    "tags": []
   },
   "outputs": [
    {
     "data": {
      "text/plain": [
       "2.3333333333333335"
      ]
     },
     "execution_count": 5,
     "metadata": {},
     "output_type": "execute_result"
    }
   ],
   "source": [
    "# Division\n",
    "7/3"
   ]
  },
  {
   "cell_type": "code",
   "execution_count": 6,
   "metadata": {
    "tags": []
   },
   "outputs": [
    {
     "data": {
      "text/plain": [
       "8"
      ]
     },
     "execution_count": 6,
     "metadata": {},
     "output_type": "execute_result"
    }
   ],
   "source": [
    "# Exponentiation\n",
    "2**3"
   ]
  },
  {
   "cell_type": "code",
   "execution_count": 7,
   "metadata": {
    "tags": []
   },
   "outputs": [
    {
     "data": {
      "text/plain": [
       "0.5"
      ]
     },
     "execution_count": 7,
     "metadata": {},
     "output_type": "execute_result"
    }
   ],
   "source": [
    "# Using parenthesis  \n",
    "(2 * 4) - (3 * 2.5)"
   ]
  },
  {
   "cell_type": "markdown",
   "metadata": {},
   "source": [
    "---"
   ]
  },
  {
   "cell_type": "code",
   "execution_count": 8,
   "metadata": {},
   "outputs": [
    {
     "name": "stdout",
     "output_type": "stream",
     "text": [
      "Basic Arithmetic:\n",
      "\n",
      "Addition: 15\n",
      "Subtraction: 5\n",
      "Multiplication: 50\n",
      "Division: 2.0\n",
      "Percentage: 50.0\n",
      "\n",
      "end!\n"
     ]
    }
   ],
   "source": [
    "# Using print statement (It will be discussed in the next lesson)\n",
    "print(\"Basic Arithmetic:\")\n",
    "print()\n",
    "\n",
    "print(\"Addition:\", 10 + 5)\n",
    "print(\"Subtraction:\", 10 - 5)\n",
    "print(\"Multiplication:\", 10 * 5)\n",
    "print(\"Division:\", 10 / 5)\n",
    "print(\"Percentage:\", (5/100) * 1000)  # Calculate 5% of 1000\n",
    "\n",
    "print()\n",
    "print(\"end!\")"
   ]
  },
  {
   "cell_type": "code",
   "execution_count": null,
   "metadata": {},
   "outputs": [],
   "source": []
  }
 ],
 "metadata": {
  "kernelspec": {
   "display_name": "TF-GPU:2.16",
   "language": "python",
   "name": "tf-gpu"
  },
  "language_info": {
   "codemirror_mode": {
    "name": "ipython",
    "version": 3
   },
   "file_extension": ".py",
   "mimetype": "text/x-python",
   "name": "python",
   "nbconvert_exporter": "python",
   "pygments_lexer": "ipython3",
   "version": "3.11.0"
  }
 },
 "nbformat": 4,
 "nbformat_minor": 4
}

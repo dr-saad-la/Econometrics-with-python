{
 "cells": [
  {
   "cell_type": "markdown",
   "metadata": {},
   "source": [
    "<blockquote style=\"\n",
    "    padding: 10px 15px;\n",
    "    border: 2px solid #360084;\n",
    "    border-radius: 8px;\n",
    "    margin: 20px 5px 15px 0;\n",
    "    background: #fafafa;\n",
    "    box-shadow: 2px 2px 10px rgba(0, 0, 0, 0.1);\n",
    "\">\n",
    "  <p style=\"\n",
    "      padding: 12px;\n",
    "      font-size: 22pt;\n",
    "      font-weight: bold;\n",
    "      color: #fff;\n",
    "      background: linear-gradient(to right, #360084, #7a1fa2);\n",
    "      border-radius: 6px 6px 0 0;\n",
    "      text-align: center;\n",
    "      margin: -10px -15px 15px;\n",
    "  \">Control Flow In Python</p>\n",
    "  <div style=\"\n",
    "      background-color: #f7f7f7;\n",
    "      padding: 15px;\n",
    "      border-radius: 6px;\n",
    "  \">\n",
    "    <div class=\"row\">\n",
    "      <div class=\"col-md-6\">\n",
    "        <strong>📚 Course:</strong> <span style=\"color:#360084;\">Python for Econometric Analysis</span><br/>\n",
    "        <strong>📖 Chapter:</strong> <span style=\"color:#360084;\">Control Flow</span> <br/>\n",
    "        <strong>🎯 Lesson:</strong> <span style=\"color:#360084;\">Conditional Statements and Loops</span><br/>\n",
    "        <strong>👨‍🏫 Author:</strong> <span style=\"color:#360084;\">Dr. Saad Laouadi</span>\n",
    "      </div>\n",
    "    </div>\n",
    "  </div>\n",
    "  <div style=\"\n",
    "    background-color: #f8fafc;\n",
    "    padding: 20px;\n",
    "    border-radius: 8px;\n",
    "    border-left: 4px solid #0284c7;\n",
    "    box-shadow: 0 2px 4px rgba(0, 0, 0, 0.1);\n",
    "    margin: 20px 0;\n",
    "\">\n",
    "    <strong style=\"color: #0284c7; font-size: 18px;\">🎯 Learning Objectives</strong>\n",
    "    <ul style=\"padding-left: 20px; font-size: 16px; line-height: 1.6; margin-top: 12px;\">\n",
    "        <li>Master conditional statements for economic decision-making</li>\n",
    "        <li>Use loops to process time series and economic data efficiently</li>\n",
    "        <li>Implement economic threshold analysis using control flow</li>\n",
    "        <li>Create data validation and filtering systems</li>\n",
    "        <li>Build practical economic analysis tools using Python control structures</li>\n",
    "    </ul>\n",
    "</div>\n",
    "  <p style=\"\n",
    "      text-align: center;\n",
    "      font-size: 14px;\n",
    "      font-style: italic;\n",
    "      color: #777;\n",
    "      margin-top: 15px;\n",
    "  \">© 2025 Dr. Saad Laouadi. All Rights Reserved.</p>\n",
    "</blockquote>"
   ]
  },
  {
   "cell_type": "markdown",
   "metadata": {},
   "source": [
    "## 1. Conditional Statements in Economic Analysis\n",
    "\n",
    "Conditional statements are essential for implementing economic decision rules and classification systems.\n",
    "\n",
    "### Basic Economic Classification Example"
   ]
  },
  {
   "cell_type": "code",
   "execution_count": 1,
   "metadata": {
    "tags": []
   },
   "outputs": [
    {
     "name": "stdout",
     "output_type": "stream",
     "text": [
      "Moderate Growth\n"
     ]
    }
   ],
   "source": [
    "# Example 1: Economic Growth Classification\n",
    "gdp_growth = 2.5\n",
    "\n",
    "if gdp_growth < 0:\n",
    "    print(\"Recession\")\n",
    "elif gdp_growth < 2:\n",
    "    print(\"Slow Growth\")\n",
    "elif gdp_growth < 4:\n",
    "    print(\"Moderate Growth\")\n",
    "else:\n",
    "    print(\"High Growth\")"
   ]
  },
  {
   "cell_type": "markdown",
   "metadata": {},
   "source": [
    "### Advanced Economic Classifications"
   ]
  },
  {
   "cell_type": "code",
   "execution_count": 2,
   "metadata": {
    "tags": []
   },
   "outputs": [
    {
     "name": "stdout",
     "output_type": "stream",
     "text": [
      "Economic Status:\n",
      "Growth: Healthy Growth\n",
      "Inflation: Moderate Inflation\n",
      "Employment: Moderate Unemployment\n"
     ]
    }
   ],
   "source": [
    "def analyze_economy(gdp_growth, inflation, unemployment):\n",
    "    \"\"\"Comprehensive economic analysis function\"\"\"\n",
    "    \n",
    "    # Growth analysis\n",
    "    if gdp_growth < 0:\n",
    "        growth_status = \"Recession\"\n",
    "    elif gdp_growth < 2:\n",
    "        growth_status = \"Slow Growth\"\n",
    "    else:\n",
    "        growth_status = \"Healthy Growth\"\n",
    "    \n",
    "    # Inflation analysis\n",
    "    if inflation < 0:\n",
    "        inflation_status = \"Deflation\"\n",
    "    elif inflation < 2:\n",
    "        inflation_status = \"Low Inflation\"\n",
    "    elif inflation < 5:\n",
    "        inflation_status = \"Moderate Inflation\"\n",
    "    else:\n",
    "        inflation_status = \"High Inflation\"\n",
    "    \n",
    "    # Employment analysis\n",
    "    if unemployment < 4:\n",
    "        employment_status = \"Full Employment\"\n",
    "    elif unemployment < 6:\n",
    "        employment_status = \"Moderate Unemployment\"\n",
    "    else:\n",
    "        employment_status = \"High Unemployment\"\n",
    "    \n",
    "    return growth_status, inflation_status, employment_status\n",
    "\n",
    "# Example usage\n",
    "growth, inflation, employment = analyze_economy(2.5, 3.2, 4.5)\n",
    "print(f\"Economic Status:\\nGrowth: {growth}\\nInflation: {inflation}\\nEmployment: {employment}\")"
   ]
  },
  {
   "cell_type": "markdown",
   "metadata": {},
   "source": [
    "## 2. Loops for Economic Data Processing\n",
    "\n",
    "### For Loops with Time Series Data"
   ]
  },
  {
   "cell_type": "code",
   "execution_count": 3,
   "metadata": {
    "tags": []
   },
   "outputs": [
    {
     "name": "stdout",
     "output_type": "stream",
     "text": [
      "Moving Average Growth Rates: [2.6, 2.7, 2.83, 2.8, 2.83, 2.87]\n"
     ]
    }
   ],
   "source": [
    "# Calculate moving average of GDP growth\n",
    "gdp_growth_rates = [2.5, 2.2, 3.1, 2.8, 2.6, 3.0, 2.9, 2.7]\n",
    "window_size = 3\n",
    "\n",
    "def calculate_moving_average(data, window):\n",
    "    moving_averages = []\n",
    "    for i in range(len(data) - window + 1):\n",
    "        window_average = sum(data[i:i+window]) / window\n",
    "        moving_averages.append(round(window_average, 2))\n",
    "    return moving_averages\n",
    "\n",
    "ma_growth = calculate_moving_average(gdp_growth_rates, window_size)\n",
    "print(\"Moving Average Growth Rates:\", ma_growth)"
   ]
  },
  {
   "cell_type": "markdown",
   "metadata": {},
   "source": [
    "### While Loops for Economic Convergence"
   ]
  },
  {
   "cell_type": "code",
   "execution_count": 4,
   "metadata": {
    "tags": []
   },
   "outputs": [
    {
     "name": "stdout",
     "output_type": "stream",
     "text": [
      "Year 5: GDP = $6,381\n",
      "Year 10: GDP = $8,144\n",
      "Year 15: GDP = $10,395\n",
      "Year 20: GDP = $13,266\n",
      "Year 25: GDP = $16,932\n",
      "Year 30: GDP = $21,610\n",
      "Year 35: GDP = $27,580\n",
      "Year 40: GDP = $35,200\n",
      "Year 45: GDP = $44,925\n",
      "\n",
      "Years to reach target: 48\n",
      "Final GDP: $52,006\n"
     ]
    }
   ],
   "source": [
    "def calculate_years_to_convergence(initial_gdp, target_gdp, growth_rate):\n",
    "    \"\"\"Calculate years needed for economic convergence\"\"\"\n",
    "    current_gdp = initial_gdp\n",
    "    years = 0\n",
    "    \n",
    "    while current_gdp < target_gdp and years < 100:\n",
    "        current_gdp *= (1 + growth_rate/100)\n",
    "        years += 1\n",
    "        \n",
    "        if years % 5 == 0:  # Print progress every 5 years\n",
    "            print(f\"Year {years}: GDP = ${current_gdp:,.0f}\")\n",
    "    \n",
    "    return years, current_gdp\n",
    "\n",
    "# Example: Convergence calculation\n",
    "years, final_gdp = calculate_years_to_convergence(5000, 50000, 5)\n",
    "print(f\"\\nYears to reach target: {years}\")\n",
    "print(f\"Final GDP: ${final_gdp:,.0f}\")"
   ]
  },
  {
   "cell_type": "markdown",
   "metadata": {},
   "source": [
    "## 3. Nested Control Structures\n",
    "\n",
    "### Economic Data Filtering and Analysis"
   ]
  },
  {
   "cell_type": "code",
   "execution_count": 5,
   "metadata": {
    "tags": []
   },
   "outputs": [
    {
     "name": "stdout",
     "output_type": "stream",
     "text": [
      "Stable Economies: ['USA']\n",
      "\n",
      "Economies with Concerns:\n",
      "Japan: low growth\n",
      "Germany: high inflation\n",
      "France: high unemployment\n"
     ]
    }
   ],
   "source": [
    "# Economic data for multiple countries\n",
    "economic_data = [\n",
    "    {\"country\": \"USA\", \"gdp_growth\": 2.5, \"inflation\": 3.2, \"unemployment\": 3.8},\n",
    "    {\"country\": \"Japan\", \"gdp_growth\": 1.2, \"inflation\": 1.5, \"unemployment\": 2.6},\n",
    "    {\"country\": \"Germany\", \"gdp_growth\": 1.8, \"inflation\": 4.1, \"unemployment\": 3.2},\n",
    "    {\"country\": \"France\", \"gdp_growth\": 1.6, \"inflation\": 3.8, \"unemployment\": 7.2}\n",
    "]\n",
    "\n",
    "def analyze_countries(data):\n",
    "    \"\"\"Analyze economic conditions across countries\"\"\"\n",
    "    stable_economies = []\n",
    "    concerns = []\n",
    "    \n",
    "    for country in data:\n",
    "        issues = []\n",
    "        \n",
    "        # Check various economic conditions\n",
    "        if country[\"gdp_growth\"] < 1.5:\n",
    "            issues.append(\"low growth\")\n",
    "        if country[\"inflation\"] > 4:\n",
    "            issues.append(\"high inflation\")\n",
    "        if country[\"unemployment\"] > 5:\n",
    "            issues.append(\"high unemployment\")\n",
    "        \n",
    "        if not issues:\n",
    "            stable_economies.append(country[\"country\"])\n",
    "        else:\n",
    "            concerns.append({\n",
    "                \"country\": country[\"country\"],\n",
    "                \"issues\": issues\n",
    "            })\n",
    "    \n",
    "    return stable_economies, concerns\n",
    "\n",
    "stable, issues = analyze_countries(economic_data)\n",
    "print(\"Stable Economies:\", stable)\n",
    "print(\"\\nEconomies with Concerns:\")\n",
    "for economy in issues:\n",
    "    print(f\"{economy['country']}: {', '.join(economy['issues'])}\")"
   ]
  },
  {
   "cell_type": "markdown",
   "metadata": {},
   "source": [
    "## Practice Exercises\n",
    "\n",
    "1. Create a function that identifies business cycles using GDP growth data\n",
    "2. Implement a debt sustainability analysis using various economic indicators\n",
    "3. Develop a market classification system (emerging vs. developed) using multiple criteria"
   ]
  },
  {
   "cell_type": "markdown",
   "metadata": {},
   "source": [
    "## Summary\n",
    "\n",
    "* Conditional statements enable economic decision-making\n",
    "* Loops facilitate efficient processing of economic data\n",
    "* Combined control structures allow complex economic analysis\n",
    "* Control flow is essential for implementing economic models"
   ]
  },
  {
   "cell_type": "code",
   "execution_count": null,
   "metadata": {},
   "outputs": [],
   "source": []
  }
 ],
 "metadata": {
  "kernelspec": {
   "display_name": "Python@3.12",
   "language": "python",
   "name": "python3"
  },
  "language_info": {
   "codemirror_mode": {
    "name": "ipython",
    "version": 3
   },
   "file_extension": ".py",
   "mimetype": "text/x-python",
   "name": "python",
   "nbconvert_exporter": "python",
   "pygments_lexer": "ipython3",
   "version": "3.12.7"
  }
 },
 "nbformat": 4,
 "nbformat_minor": 4
}

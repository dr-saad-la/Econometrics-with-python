{
 "cells": [
  {
   "cell_type": "markdown",
   "id": "f235d7f7-1581-405a-b34d-ed88d323d21e",
   "metadata": {},
   "source": [
    "<blockquote style=\"\n",
    "    padding: 10px 15px;\n",
    "    border: 2px solid #360084;\n",
    "    border-radius: 8px;\n",
    "    margin: 20px 5px 15px 0;\n",
    "    background: #fafafa;\n",
    "    box-shadow: 2px 2px 10px rgba(0, 0, 0, 0.1);\n",
    "\">\n",
    "\n",
    "  <!-- Header Title -->\n",
    "  <p style=\"\n",
    "      padding: 12px;\n",
    "      font-size: 22pt;\n",
    "      font-weight: bold;\n",
    "      color: #fff;\n",
    "      background: linear-gradient(to right, #360084, #7a1fa2);\n",
    "      border-radius: 6px 6px 0 0;\n",
    "      text-align: center;\n",
    "      margin: -10px -15px 15px;\n",
    "  \">Pandas Fundamentals for Econometricians</p>\n",
    "\n",
    "  <!-- Course Details Section -->\n",
    "  <div style=\"\n",
    "      background-color: #f7f7f7;\n",
    "      padding: 15px;\n",
    "      border-radius: 6px;\n",
    "  \">\n",
    "    <div class=\"row\">\n",
    "      <div class=\"col-md-6\">\n",
    "        <!-- <strong>📚 Course:</strong> <span style=\"color:#360084;\"></span><br/> -->\n",
    "        <strong>📖 Chapter:</strong> <span style=\"color:#360084;\">Data Frames</span> <br/>\n",
    "        <strong>🎯 Lesson:</strong> <span style=\"color:#360084;\">Introduction to Data Frames</span><br/>\n",
    "        <strong>👨‍🏫 Author:</strong> <span style=\"color:#360084;\">Dr. Saad Laouadi</span>\n",
    "      </div>\n",
    "    </div>\n",
    "  </div>\n",
    "\n",
    "  <!-- Objectives Section -->\n",
    "  <div style=\"\n",
    "    background-color: #f8fafc;\n",
    "    padding: 20px;\n",
    "    border-radius: 8px;\n",
    "    border-left: 4px solid #0284c7;\n",
    "    box-shadow: 0 2px 4px rgba(0, 0, 0, 0.1);\n",
    "    margin: 20px 0;\n",
    "\">\n",
    "    <strong style=\"color: #0284c7; font-size: 18px;\">🎯 Learning Objectives</strong>\n",
    "    <ul style=\"padding-left: 20px; font-size: 16px; line-height: 1.6; margin-top: 12px;\">\n",
    "        <li>Understand what Pandas is and why it's essential for economic data analysis</li>\n",
    "        <li>Create and manipulate DataFrames with economic data</li>\n",
    "        <li>Use basic DataFrame methods (info(), describe()) to explore economic datasets</li>\n",
    "        <li>Access DataFrame attributes (index, columns, dtypes) to understand data structure</li>\n",
    "        <li>Apply basic data exploration techniques to real-world economic indicators</li>\n",
    "    </ul>\n",
    "</div>\n",
    "\n",
    "  <!-- Footer -->\n",
    "  <p style=\"\n",
    "      text-align: center;\n",
    "      font-size: 14px;\n",
    "      font-style: italic;\n",
    "      color: #777;\n",
    "      margin-top: 15px;\n",
    "  \">© 2025 Dr. Saad Laouadi. All Rights Reserved.</p>\n",
    "\n",
    "</blockquote>"
   ]
  },
  {
   "cell_type": "markdown",
   "id": "86f0061a-5615-49c4-96df-47e8c448bcc1",
   "metadata": {},
   "source": [
    "## Understanding Pandas Library\n",
    "\n",
    "<div style=\"\n",
    "    background: linear-gradient(to right, #f0f9ff, #e0f2fe);\n",
    "    padding: 10px;\n",
    "    border-radius: 10px;\n",
    "    border-left: 5px solid #0369a1;\n",
    "    margin: 20px;\n",
    "    box-shadow: 0 4px 6px rgba(0, 0, 0, 0.1);\n",
    "    font-family: Arial, sans-serif;\n",
    "    line-height: 1.6;\n",
    "    color: #1e293b;\n",
    "\">\n",
    "    <h3 style=\"color: #0369a1; margin-bottom: 15px; font-size: 1.5em;\">What is Pandas?</h3>\n",
    "    <p>Pandas is a powerful Python library for data manipulation and analysis. It provides fast, flexible, and expressive data structures designed to make working with tabular and time series data as intuitive as working with a spreadsheet.</p>\n",
    "</div>"
   ]
  },
  {
   "cell_type": "markdown",
   "id": "4eab04c7-0b5b-4cc8-8ff4-729aaf9c9037",
   "metadata": {},
   "source": [
    "### Simple Analogy\n",
    "\n",
    "If Excel is like a calculator, Pandas is like a supercomputer for data analysis. It takes the familiar spreadsheet concept and supercharges it with programming capabilities.\n",
    "\n",
    "### What This Means in Practice\n",
    "\n",
    "Think of Pandas as an andvanced Excel application! It helps you:\n",
    "\n",
    "1. **Work with Familiar Table Formats**\n",
    "   - Organize data in rows and columns, just like Excel\n",
    "   - Each row represents an observation (e.g., a country, a time period)\n",
    "   - Each column represents a variable (e.g., GDP, inflation rate)\n",
    "\n",
    "2. **Handle Economic Data Efficiently**\n",
    "   - Perfect for time series data (quarterly GDP, monthly inflation)\n",
    "   - Great for cross-sectional data (comparing different countries)\n",
    "   - Excellent for panel data (multiple countries over time)\n",
    "\n",
    "3. **Data Organization Examples**\n",
    "   - Time Series: Track inflation rates over months\n",
    "   - Cross-Section: Compare GDP across countries\n",
    "   - Panel Data: Analyze unemployment rates across countries over years"
   ]
  },
  {
   "cell_type": "markdown",
   "id": "7436c950-020c-44b2-9175-7f8d1c51c89f",
   "metadata": {},
   "source": [
    "### Key features that make pandas essential for economic analysis:\n",
    "  - Efficient handling of large datasets\n",
    "  - Built-in time series functionality\n",
    "  - Powerful data aggregation and transformation tools\n",
    "  - Easy handling of missing data\n",
    "  - Intuitive merging and joining of datasets"
   ]
  },
  {
   "cell_type": "markdown",
   "id": "b8723fe2-839b-4e01-92a5-30caf3af8973",
   "metadata": {},
   "source": [
    "## Why Pandas for Economic Data Analysis?\n",
    "\n",
    "For economists and econometricians, pandas offers several crucial advantages:\n",
    "\n",
    "1. **Familiar Format**: Works like Excel but with more power\n",
    "2. **Data Import**: Easily read data from various sources (CSV, Excel, databases)\n",
    "3. **Data Cleaning**: Powerful tools for handling missing values and outliers\n",
    "4. **Analysis Ready**: Seamlessly connects with statistical tools like statsmodels\n",
    "5. **Large Datasets**: Efficiently handles large economic datasets\n",
    "6. **Time Series Handling**: Built-in support for dates, periods, and time-based operations\n",
    "7. **Panel Data**: Excellent tools for working with cross-sectional and longitudinal data\n",
    "8. **Data Integration**: Easy to combine data from different sources (e.g., World Bank, IMF, FRED)\n",
    "9. **Statistical Tools**: Built-in methods for descriptive statistics and basic analysis"
   ]
  },
  {
   "cell_type": "markdown",
   "id": "cf27021e-991f-477d-a7ab-f13d2ed3ee98",
   "metadata": {},
   "source": [
    "## Setting Up Your Environment\n",
    "\n",
    "First, let's make sure we have pandas installed and import the necessary libraries:"
   ]
  },
  {
   "cell_type": "code",
   "execution_count": 1,
   "id": "ecd90b7e-e13f-44cf-9461-304c888d7f61",
   "metadata": {},
   "outputs": [
    {
     "name": "stdout",
     "output_type": "stream",
     "text": [
      "Pandas version: 2.2.2\n"
     ]
    }
   ],
   "source": [
    "# Import essential libraries\n",
    "import pandas as pd\n",
    "import numpy as np\n",
    "\n",
    "# Check pandas version\n",
    "print(f\"Pandas version: {pd.__version__}\")"
   ]
  },
  {
   "cell_type": "markdown",
   "id": "54e27699-df65-47a1-86a5-07ca669a9a2c",
   "metadata": {},
   "source": [
    "## Reading Your First Economic Dataset\n",
    "\n",
    "Let's start by creating a simple economic dataset and then learn how to read external data."
   ]
  },
  {
   "cell_type": "code",
   "execution_count": 2,
   "id": "97fa6038-88fa-4427-b0e8-0ec2fcf26169",
   "metadata": {},
   "outputs": [
    {
     "name": "stdout",
     "output_type": "stream",
     "text": [
      "\n",
      "Our Economic Dataset:\n",
      "   Country  GDP_Growth_2022  Inflation_2022  Unemployment_2022\n",
      "0      USA              2.1             8.0                3.7\n",
      "1       UK              1.8             9.1                3.8\n",
      "2    Japan              1.6             2.5                2.6\n",
      "3  Germany              1.9             8.7                3.0\n",
      "4   France              2.5             5.9                7.1\n"
     ]
    }
   ],
   "source": [
    "# Create a simple economic dataset\n",
    "data = {\n",
    "    'Country': ['USA', 'UK', 'Japan', 'Germany', 'France'],\n",
    "    'GDP_Growth_2022': [2.1, 1.8, 1.6, 1.9, 2.5],\n",
    "    'Inflation_2022': [8.0, 9.1, 2.5, 8.7, 5.9],\n",
    "    'Unemployment_2022': [3.7, 3.8, 2.6, 3.0, 7.1]\n",
    "}\n",
    "\n",
    "# Create a DataFrame\n",
    "df = pd.DataFrame(data)\n",
    "\n",
    "# Display the first few rows\n",
    "print(\"\\nOur Economic Dataset:\")\n",
    "print(df)"
   ]
  },
  {
   "cell_type": "markdown",
   "id": "1a352e3c-6bb2-49a9-be69-08086f502236",
   "metadata": {},
   "source": [
    "## Basic DataFrame Overview\n",
    "\n",
    "Let's explore the basic operations and information we can get from our DataFrame:\n",
    "\n",
    "1. `info()` method:\n",
    "    - Provides a concise summary of your DataFrame\n",
    "    - Shows number of rows, columns, data types, and memory usage\n",
    "    - Indicates missing values (null counts)"
   ]
  },
  {
   "cell_type": "code",
   "execution_count": 3,
   "id": "6405700d-c700-4c6f-827c-608392d5e1aa",
   "metadata": {},
   "outputs": [
    {
     "name": "stdout",
     "output_type": "stream",
     "text": [
      "\n",
      "DataFrame Info:\n",
      "<class 'pandas.core.frame.DataFrame'>\n",
      "RangeIndex: 5 entries, 0 to 4\n",
      "Data columns (total 4 columns):\n",
      " #   Column             Non-Null Count  Dtype  \n",
      "---  ------             --------------  -----  \n",
      " 0   Country            5 non-null      object \n",
      " 1   GDP_Growth_2022    5 non-null      float64\n",
      " 2   Inflation_2022     5 non-null      float64\n",
      " 3   Unemployment_2022  5 non-null      float64\n",
      "dtypes: float64(3), object(1)\n",
      "memory usage: 288.0+ bytes\n",
      "None\n"
     ]
    }
   ],
   "source": [
    "# Basic information about the DataFrame\n",
    "print(\"\\nDataFrame Info:\")\n",
    "print(df.info())"
   ]
  },
  {
   "cell_type": "markdown",
   "id": "67cc0aea-d01f-4d25-a63c-da00ddd00d0e",
   "metadata": {},
   "source": [
    "2. `describe()` method:\n",
    "    - Generates descriptive statistics of numerical columns\n",
    "    - Shows count, mean, std, min, 25%, 50%, 75%, max\n",
    "    - Perfect for quick statistical overview of your data"
   ]
  },
  {
   "cell_type": "code",
   "execution_count": 4,
   "id": "5da8e60d-5fcd-450d-a031-adbf31e59052",
   "metadata": {},
   "outputs": [
    {
     "name": "stdout",
     "output_type": "stream",
     "text": [
      "\n",
      "Summary Statistics:\n",
      "       GDP_Growth_2022  Inflation_2022  Unemployment_2022\n",
      "count         5.000000        5.000000           5.000000\n",
      "mean          1.980000        6.840000           4.040000\n",
      "std           0.342053        2.721764           1.781292\n",
      "min           1.600000        2.500000           2.600000\n",
      "25%           1.800000        5.900000           3.000000\n",
      "50%           1.900000        8.000000           3.700000\n",
      "75%           2.100000        8.700000           3.800000\n",
      "max           2.500000        9.100000           7.100000\n"
     ]
    }
   ],
   "source": [
    "# Summary statistics\n",
    "print(\"\\nSummary Statistics:\")\n",
    "print(df.describe())"
   ]
  },
  {
   "cell_type": "code",
   "execution_count": 5,
   "id": "0cdc2cef-4b82-4beb-b301-0b7e2a5e1826",
   "metadata": {},
   "outputs": [
    {
     "name": "stdout",
     "output_type": "stream",
     "text": [
      "\n",
      "Columns in our dataset:\n",
      "['Country', 'GDP_Growth_2022', 'Inflation_2022', 'Unemployment_2022']\n"
     ]
    }
   ],
   "source": [
    "# Column names\n",
    "print(\"\\nColumns in our dataset:\")\n",
    "print(df.columns.to_list(), sep=\"\")"
   ]
  },
  {
   "cell_type": "markdown",
   "id": "9c24c766-ac3a-490e-a39f-fff362f4bf85",
   "metadata": {},
   "source": [
    "### DataFrame Attributes:\n",
    "\n",
    "1. `index`: Row labels of your DataFrame"
   ]
  },
  {
   "cell_type": "code",
   "execution_count": 6,
   "id": "de5c296e-e932-49a7-a91e-bfca75ced24d",
   "metadata": {},
   "outputs": [
    {
     "name": "stdout",
     "output_type": "stream",
     "text": [
      "The dataframe index:           RangeIndex(start=0, stop=5, step=1)\n",
      "The dataframe index values:    [0 1 2 3 4]\n"
     ]
    }
   ],
   "source": [
    "# Index\n",
    "print(f\"{'The dataframe index:':<30} {df.index}\")\n",
    "print(f\"{'The dataframe index values:':<30} {df.index.values}\")"
   ]
  },
  {
   "cell_type": "markdown",
   "id": "234217fb-ef74-479a-b3c8-4da3717a7221",
   "metadata": {},
   "source": [
    "2. `columns`: Column names of your DataFrame"
   ]
  },
  {
   "cell_type": "code",
   "execution_count": 7,
   "id": "99cbf951-c2fe-4c1c-a844-bacb3667f722",
   "metadata": {},
   "outputs": [
    {
     "name": "stdout",
     "output_type": "stream",
     "text": [
      "'The dataframe column names:\n",
      "\n",
      "['Country', 'GDP_Growth_2022', 'Inflation_2022', 'Unemployment_2022']\n"
     ]
    }
   ],
   "source": [
    "print(\"'The dataframe column names:\\n\")\n",
    "print(df.columns.tolist())"
   ]
  },
  {
   "cell_type": "markdown",
   "id": "efafcb31-7172-4315-8673-1945d994e83c",
   "metadata": {},
   "source": [
    "3. `dtypes`: Data types of each column"
   ]
  },
  {
   "cell_type": "code",
   "execution_count": 8,
   "id": "60174308-a12b-43c0-a87f-f43218c222cd",
   "metadata": {},
   "outputs": [
    {
     "name": "stdout",
     "output_type": "stream",
     "text": [
      "\n",
      "Data types:\n",
      "Country               object\n",
      "GDP_Growth_2022      float64\n",
      "Inflation_2022       float64\n",
      "Unemployment_2022    float64\n",
      "dtype: object\n"
     ]
    }
   ],
   "source": [
    "# Data types of each column\n",
    "print(\"\\nData types:\")\n",
    "print(df.dtypes)"
   ]
  },
  {
   "cell_type": "code",
   "execution_count": null,
   "id": "dcd3f153-2d64-43ae-b14d-cbb9668c1b7a",
   "metadata": {},
   "outputs": [],
   "source": []
  },
  {
   "cell_type": "markdown",
   "id": "88e6026a-ae42-4698-9701-a793a91a47b2",
   "metadata": {},
   "source": [
    "---"
   ]
  },
  {
   "cell_type": "markdown",
   "id": "5b0f3d9c-5814-48de-bca7-6f232aa2f8ac",
   "metadata": {},
   "source": [
    "## Practice Exercise: Exploring Latin American Economic Indicators\n",
    "\n",
    "Now it's your turn! Let's practice the DataFrame operations we learned using a different economic dataset focusing on Latin American economies."
   ]
  },
  {
   "cell_type": "code",
   "execution_count": 9,
   "id": "a02a0dcb-0afd-4288-bb9d-1b623b6ddb0a",
   "metadata": {},
   "outputs": [],
   "source": [
    "# Latin American economic dataset is provided for you\n",
    "latam_data = {\n",
    "    'Country': ['Brazil', 'Mexico', 'Argentina', 'Chile', 'Colombia', 'Peru'],\n",
    "    'GDP_Billions_2022': [1608.1, 1322.4, 487.2, 301.5, 343.1, 242.6],\n",
    "    'Inflation_2022': [5.8, 7.9, 94.8, 11.6, 10.2, 8.5],\n",
    "    'FDI_Billions': [61.4, 35.9, 15.1, 17.1, 16.8, 8.4],\n",
    "    'Debt_to_GDP': [75.8, 57.1, 83.7, 36.3, 64.5, 35.8]\n",
    "}"
   ]
  },
  {
   "cell_type": "code",
   "execution_count": 10,
   "id": "125662ae-cab7-45ca-bd58-b0b1a9075a75",
   "metadata": {},
   "outputs": [],
   "source": [
    "# 1. Create a DataFrame from latam_data\n",
    "\n"
   ]
  },
  {
   "cell_type": "code",
   "execution_count": 11,
   "id": "6fab0492-e16c-4bcf-bb1c-e733fd3b243c",
   "metadata": {},
   "outputs": [],
   "source": [
    "# 2. Display the first few rows using .head()\n",
    "\n"
   ]
  },
  {
   "cell_type": "code",
   "execution_count": 12,
   "id": "ff5cacb9-b609-4d98-8517-67d0c461241e",
   "metadata": {},
   "outputs": [],
   "source": [
    "# 3. Get basic information about the DataFrame using .info()\n",
    "\n"
   ]
  },
  {
   "cell_type": "code",
   "execution_count": 13,
   "id": "edfc45dd-99d2-47dc-9091-6f2caaf8f3b5",
   "metadata": {},
   "outputs": [],
   "source": [
    "# 4. Generate descriptive statistics using .describe()\n",
    "\n"
   ]
  },
  {
   "cell_type": "code",
   "execution_count": 14,
   "id": "46150f33-ce6c-49d0-8ced-9cda5e03a120",
   "metadata": {},
   "outputs": [],
   "source": [
    "# 5. Check the column names and data types\n",
    "\n"
   ]
  },
  {
   "cell_type": "code",
   "execution_count": 15,
   "id": "7aca47d9-f5a4-4198-9ac8-d1225be3b2d7",
   "metadata": {},
   "outputs": [],
   "source": [
    "# 6. Calculate the mean FDI for all countries\n",
    "\n"
   ]
  },
  {
   "cell_type": "code",
   "execution_count": 16,
   "id": "1d2a75be-6ea4-4270-bf9f-0b4c092aea19",
   "metadata": {},
   "outputs": [],
   "source": [
    "# 7. Find the country with the highest and lowest inflation rate\n",
    "\n"
   ]
  },
  {
   "cell_type": "markdown",
   "id": "c0ff5d38-309a-476e-bba2-d68b701adb72",
   "metadata": {},
   "source": [
    "### Questions to Consider:\n",
    "\n",
    "1. How does the economic situation vary across these Latin American countries?\n",
    "2. What patterns do you notice in the relationship between GDP and Debt-to-GDP ratio?\n",
    "3. Is there any relationship between FDI and GDP?\n",
    "4. Why might Argentina's inflation rate be significantly different from its neighbors?\n",
    "\n",
    "### Bonus Challenge:\n",
    "\n",
    "Try creating a new column that calculates the GDP per billion of FDI (GDP_Billions_2022 / FDI_Billions) to see which country gets the most GDP \"bang for their buck\" from foreign investment!"
   ]
  },
  {
   "cell_type": "markdown",
   "id": "9870542b-dd56-4e0f-8212-a1422842bfda",
   "metadata": {},
   "source": [
    "## Summary\n",
    "\n",
    "1. Pandas provides powerful tools for handling economic data\n",
    "2. DataFrames are the main data structure in pandas\n",
    "3. Basic operations include:\n",
    "   - Reading data\n",
    "   - Accessing data information\n",
    "   - Accessing columns and rows\n",
    "   - Get basic descriptive statistics"
   ]
  },
  {
   "cell_type": "markdown",
   "id": "aef2c26c-c65f-4481-82c3-6dafa3bb859d",
   "metadata": {},
   "source": [
    "## Next Steps\n",
    "\n",
    "In the next notebook, we'll dive deeper into importing different types of economic data and handling various file formats commonly used in economic research."
   ]
  },
  {
   "cell_type": "markdown",
   "id": "abe244dd-434c-406e-a41e-0bd75574aeed",
   "metadata": {},
   "source": [
    "## Additional Resources\n",
    "\n",
    "- [Pandas Official Documentation](https://pandas.pydata.org/docs/)\n",
    "- [Pandas Cheat Sheet](https://pandas.pydata.org/Pandas_Cheat_Sheet.pdf)\n",
    "- [World Bank Data with Pandas Tutorial](https://pandas-datareader.readthedocs.io/en/latest/readers/world-bank.html)"
   ]
  },
  {
   "cell_type": "code",
   "execution_count": null,
   "id": "f4a94b54-cdf0-4a83-a088-e4952930a14c",
   "metadata": {},
   "outputs": [],
   "source": []
  },
  {
   "cell_type": "code",
   "execution_count": null,
   "id": "07ce959c-ad67-4177-8cca-2b9fbe4dfe72",
   "metadata": {},
   "outputs": [],
   "source": []
  },
  {
   "cell_type": "code",
   "execution_count": null,
   "id": "a9329216-efa9-49b2-afe5-4f82e2946588",
   "metadata": {},
   "outputs": [],
   "source": []
  },
  {
   "cell_type": "code",
   "execution_count": null,
   "id": "073c4491-d44c-4664-9301-9fc6d3ea1a80",
   "metadata": {},
   "outputs": [],
   "source": []
  },
  {
   "cell_type": "code",
   "execution_count": null,
   "id": "ef45789f-1cbb-48ac-a906-7d074282b248",
   "metadata": {},
   "outputs": [],
   "source": []
  },
  {
   "cell_type": "code",
   "execution_count": null,
   "id": "fe45012d-3f5a-4366-8d24-cc67b867c5ee",
   "metadata": {},
   "outputs": [],
   "source": []
  },
  {
   "cell_type": "code",
   "execution_count": null,
   "id": "877a07a8-efdd-43de-8810-36f1a2ae1c45",
   "metadata": {},
   "outputs": [],
   "source": []
  },
  {
   "cell_type": "code",
   "execution_count": null,
   "id": "f3765d72-8ce5-4fcc-8df3-a121b0470658",
   "metadata": {},
   "outputs": [],
   "source": []
  },
  {
   "cell_type": "code",
   "execution_count": null,
   "id": "c1cd48d5-95f7-4c44-83d0-4d3b233a1854",
   "metadata": {},
   "outputs": [],
   "source": []
  },
  {
   "cell_type": "code",
   "execution_count": null,
   "id": "e2d61191-0aba-4ee3-8cac-ee045ab2d130",
   "metadata": {},
   "outputs": [],
   "source": []
  },
  {
   "cell_type": "code",
   "execution_count": null,
   "id": "30bc055f-a91b-4c73-9d6c-8c49dff33133",
   "metadata": {},
   "outputs": [],
   "source": []
  },
  {
   "cell_type": "code",
   "execution_count": null,
   "id": "99c636c8-12b0-46db-9547-ff82ad121140",
   "metadata": {},
   "outputs": [],
   "source": []
  },
  {
   "cell_type": "code",
   "execution_count": null,
   "id": "0817dad3-f6ad-48ab-b4b6-b14828859b04",
   "metadata": {},
   "outputs": [],
   "source": []
  },
  {
   "cell_type": "code",
   "execution_count": null,
   "id": "b611f340-5c05-4d41-9eef-85ae1d44e74a",
   "metadata": {},
   "outputs": [],
   "source": []
  },
  {
   "cell_type": "code",
   "execution_count": null,
   "id": "3c33c5cd-385d-4fdb-b12f-7e0c861d5f66",
   "metadata": {},
   "outputs": [],
   "source": []
  },
  {
   "cell_type": "code",
   "execution_count": null,
   "id": "b5687aab-2c99-43b8-933c-ab4a1d72d3a7",
   "metadata": {},
   "outputs": [],
   "source": []
  },
  {
   "cell_type": "code",
   "execution_count": null,
   "id": "169e7622-f359-4380-beaf-5773c94c22e4",
   "metadata": {},
   "outputs": [],
   "source": []
  },
  {
   "cell_type": "code",
   "execution_count": null,
   "id": "4c01c024-c8f5-43cf-8c53-94e3408785ea",
   "metadata": {},
   "outputs": [],
   "source": []
  },
  {
   "cell_type": "code",
   "execution_count": 17,
   "id": "66ca8a16-e7dd-4789-81aa-9158377162de",
   "metadata": {},
   "outputs": [
    {
     "name": "stdout",
     "output_type": "stream",
     "text": [
      "\n",
      "Latin American Economic Dataset:\n",
      "     Country  GDP_Billions_2022  Inflation_2022  FDI_Billions  Debt_to_GDP\n",
      "0     Brazil             1608.1             5.8          61.4         75.8\n",
      "1     Mexico             1322.4             7.9          35.9         57.1\n",
      "2  Argentina              487.2            94.8          15.1         83.7\n",
      "3      Chile              301.5            11.6          17.1         36.3\n",
      "4   Colombia              343.1            10.2          16.8         64.5\n",
      "\n",
      "Dataset Information:\n",
      "<class 'pandas.core.frame.DataFrame'>\n",
      "RangeIndex: 6 entries, 0 to 5\n",
      "Data columns (total 5 columns):\n",
      " #   Column             Non-Null Count  Dtype  \n",
      "---  ------             --------------  -----  \n",
      " 0   Country            6 non-null      object \n",
      " 1   GDP_Billions_2022  6 non-null      float64\n",
      " 2   Inflation_2022     6 non-null      float64\n",
      " 3   FDI_Billions       6 non-null      float64\n",
      " 4   Debt_to_GDP        6 non-null      float64\n",
      "dtypes: float64(4), object(1)\n",
      "memory usage: 368.0+ bytes\n",
      "None\n",
      "\n",
      "Summary Statistics:\n",
      "       GDP_Billions_2022  Inflation_2022  FDI_Billions  Debt_to_GDP\n",
      "count           6.000000        6.000000      6.000000     6.000000\n",
      "mean          717.483333       23.133333     25.783333    58.866667\n",
      "std           591.755326       35.165419     19.714504    19.897806\n",
      "min           242.600000        5.800000      8.400000    35.800000\n",
      "25%           311.900000        8.050000     15.525000    41.500000\n",
      "50%           415.150000        9.350000     16.950000    60.800000\n",
      "75%          1113.600000       11.250000     31.200000    72.975000\n",
      "max          1608.100000       94.800000     61.400000    83.700000\n",
      "\n",
      "Columns:\n",
      "Index(['Country', 'GDP_Billions_2022', 'Inflation_2022', 'FDI_Billions',\n",
      "       'Debt_to_GDP'],\n",
      "      dtype='object')\n",
      "\n",
      "Data Types:\n",
      "Country               object\n",
      "GDP_Billions_2022    float64\n",
      "Inflation_2022       float64\n",
      "FDI_Billions         float64\n",
      "Debt_to_GDP          float64\n",
      "dtype: object\n",
      "\n",
      "Average FDI: $25.78 billion\n",
      "\n",
      "Highest Inflation: Argentina (94.8%)\n",
      "Lowest Inflation: Brazil (5.8%)\n"
     ]
    }
   ],
   "source": [
    "### Solution Template (try it yourself first!) ###\n",
    "\n",
    "# 1. Create DataFrame\n",
    "df_latam = pd.DataFrame(latam_data)\n",
    "\n",
    "# 2. Display first rows\n",
    "print(\"\\nLatin American Economic Dataset:\")\n",
    "print(df_latam.head())\n",
    "\n",
    "# 3. Basic information\n",
    "print(\"\\nDataset Information:\")\n",
    "print(df_latam.info())\n",
    "\n",
    "# 4. Descriptive statistics\n",
    "print(\"\\nSummary Statistics:\")\n",
    "print(df_latam.describe())\n",
    "\n",
    "# 5. Column names and types\n",
    "print(\"\\nColumns:\")\n",
    "print(df_latam.columns)\n",
    "print(\"\\nData Types:\")\n",
    "print(df_latam.dtypes)\n",
    "\n",
    "# 6. Mean FDI\n",
    "mean_fdi = df_latam['FDI_Billions'].mean()\n",
    "print(f\"\\nAverage FDI: ${mean_fdi:.2f} billion\")\n",
    "\n",
    "# 7. Inflation analysis\n",
    "max_inflation = df_latam.loc[df_latam['Inflation_2022'].idxmax()]\n",
    "min_inflation = df_latam.loc[df_latam['Inflation_2022'].idxmin()]\n",
    "print(f\"\\nHighest Inflation: {max_inflation['Country']} ({max_inflation['Inflation_2022']}%)\")\n",
    "print(f\"Lowest Inflation: {min_inflation['Country']} ({min_inflation['Inflation_2022']}%)\")"
   ]
  },
  {
   "cell_type": "code",
   "execution_count": null,
   "id": "9dd3509a-96d9-4d0f-9282-ab75e10282bc",
   "metadata": {},
   "outputs": [],
   "source": []
  }
 ],
 "metadata": {
  "kernelspec": {
   "display_name": "TF-GPU:2.16",
   "language": "python",
   "name": "tf-gpu"
  },
  "language_info": {
   "codemirror_mode": {
    "name": "ipython",
    "version": 3
   },
   "file_extension": ".py",
   "mimetype": "text/x-python",
   "name": "python",
   "nbconvert_exporter": "python",
   "pygments_lexer": "ipython3",
   "version": "3.11.0"
  }
 },
 "nbformat": 4,
 "nbformat_minor": 5
}

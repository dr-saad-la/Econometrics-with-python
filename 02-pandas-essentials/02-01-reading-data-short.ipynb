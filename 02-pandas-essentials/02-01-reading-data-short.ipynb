{
 "cells": [
  {
   "cell_type": "markdown",
   "id": "49e918d3-70f8-4cd9-94da-0db37465d599",
   "metadata": {},
   "source": [
    "<blockquote style=\"\n",
    "    padding: 10px 15px;\n",
    "    border: 2px solid #360084;\n",
    "    border-radius: 8px;\n",
    "    margin: 20px 5px 15px 0;\n",
    "    background: #fafafa;\n",
    "    box-shadow: 2px 2px 10px rgba(0, 0, 0, 0.1);\n",
    "\">\n",
    "  <p style=\"\n",
    "      padding: 12px;\n",
    "      font-size: 22pt;\n",
    "      font-weight: bold;\n",
    "      color: #fff;\n",
    "      background: linear-gradient(to right, #360084, #7a1fa2);\n",
    "      border-radius: 6px 6px 0 0;\n",
    "      text-align: center;\n",
    "      margin: -10px -15px 15px;\n",
    "  \">Importing Economic Data with Pandas</p>\n",
    "  <div style=\"\n",
    "      background-color: #f7f7f7;\n",
    "      padding: 15px;\n",
    "      border-radius: 6px;\n",
    "  \">\n",
    "    <div class=\"row\">\n",
    "      <div class=\"col-md-6\">\n",
    "        <strong>📚 Course:</strong> <span style=\"color:#360084;\">Advanced Econometrics with Python</span><br/>\n",
    "        <strong>📖 Chapter:</strong> <span style=\"color:#360084;\">Data Management and Manipulation</span> <br/>\n",
    "        <strong>🎯 Lesson:</strong> <span style=\"color:#360084;\">Importing Economic Data</span><br/>\n",
    "        <strong>👨‍🏫 Author:</strong> <span style=\"color:#360084;\">Dr. Saad Laouadi</span>\n",
    "      </div>\n",
    "    </div>\n",
    "  </div>\n",
    "  <div style=\"\n",
    "    background-color: #f8fafc;\n",
    "    padding: 20px;\n",
    "    border-radius: 8px;\n",
    "    border-left: 4px solid #0284c7;\n",
    "    box-shadow: 0 2px 4px rgba(0, 0, 0, 0.1);\n",
    "    margin: 20px 0;\n",
    "\">\n",
    "    <strong style=\"color: #0284c7; font-size: 18px;\">🎯 Learning Objectives</strong>\n",
    "      <h4>Import economic data from various file formats</h4>\n",
    "    <ul style=\"padding-left: 20px; font-size: 16px; line-height: 1.6; margin-top: 12px;\">\n",
    "        <li>CSV Files</li>\n",
    "        <li>Excel files</li>\n",
    "        <li>JSON files</li>\n",
    "        <li>Statistical Software: Stata, SPSS, SAS</li>\n",
    "    </ul>\n",
    "</div>\n",
    "  <p style=\"\n",
    "      text-align: center;\n",
    "      font-size: 14px;\n",
    "      font-style: italic;\n",
    "      color: #777;\n",
    "      margin-top: 15px;\n",
    "  \">© 2025 Dr. Saad Laouadi. All Rights Reserved.</p>\n",
    "</blockquote>"
   ]
  },
  {
   "cell_type": "code",
   "execution_count": 1,
   "id": "cfb0187f-6a90-4f08-b6e2-67a7b071739d",
   "metadata": {},
   "outputs": [],
   "source": [
    "# ========================================= #\n",
    "# Setting Up Our Environment\n",
    "# ========================================= #\n",
    "import pandas as pd\n",
    "import numpy as np\n",
    "import matplotlib.pyplot as plt\n",
    "import seaborn as sns\n",
    "\n",
    "# Set display options\n",
    "pd.set_option('display.max_columns', None)\n",
    "pd.set_option('display.width', None)\n",
    "pd.set_option('display.precision', 2)"
   ]
  },
  {
   "cell_type": "markdown",
   "id": "36dcd35d-fa78-4926-9f64-8778b7717629",
   "metadata": {},
   "source": [
    "## 2. Reading Different File Formats\n",
    "\n",
    "### 2.1 Reading CSV Files\n",
    "CSV (Comma Separated Values) is one of the most common formats for economic data.\n",
    "\n",
    "```python\n",
    "# Basic CSV reading\n",
    "df_basic = pd.read_csv('example.csv')\n",
    "\n",
    "# CSV with specific options\n",
    "df_advanced = pd.read_csv('example.csv',\n",
    "    sep=',',              # Delimiter to use\n",
    "    decimal='.',          # Decimal separator\n",
    "    thousands=',',        # Thousands separator\n",
    "    encoding='utf-8',     # File encoding\n",
    "    na_values=['NA', 'missing'],  # Values to treat as NA\n",
    "    parse_dates=['Date']  # Columns to parse as dates\n",
    ")\n",
    "```"
   ]
  },
  {
   "cell_type": "code",
   "execution_count": 2,
   "id": "cbbfdd3b-bda5-42c6-9882-be18243b9425",
   "metadata": {
    "tags": []
   },
   "outputs": [
    {
     "name": "stdout",
     "output_type": "stream",
     "text": [
      "<class 'pandas.core.frame.DataFrame'>\n",
      "RangeIndex: 16500 entries, 0 to 16499\n",
      "Data columns (total 4 columns):\n",
      " #   Column      Non-Null Count  Dtype  \n",
      "---  ------      --------------  -----  \n",
      " 0   date        16500 non-null  object \n",
      " 1   city        16500 non-null  object \n",
      " 2   country     16500 non-null  object \n",
      " 3   avg_temp_c  16407 non-null  float64\n",
      "dtypes: float64(1), object(3)\n",
      "memory usage: 515.8+ KB\n"
     ]
    }
   ],
   "source": [
    "# Practice: Read the temperature dataset\n",
    "data_path = \"../datasets/temperatures.csv\"\n",
    "\n",
    "temp = pd.read_csv(data_path)\n",
    "\n",
    "# Check data information\n",
    "temp.info()"
   ]
  },
  {
   "cell_type": "markdown",
   "id": "ab6670f5-3344-4a3b-aa48-c4375497da03",
   "metadata": {},
   "source": [
    "### 2.2 Reading Excel Files\n",
    "Excel files are commonly used by economic institutions.\n",
    "\n",
    "```python\n",
    "# Basic Excel reading\n",
    "df_excel = pd.read_excel('example.xlsx')\n",
    "\n",
    "# Excel with specific options\n",
    "df_excel_advanced = pd.read_excel('example.xlsx',\n",
    "    sheet_name='Data',    # Specific sheet to read\n",
    "    header=0,            # Row number(s) to use as header\n",
    "    skiprows=2,          # Number of rows to skip\n",
    "    usecols='A:E',       # Columns to use\n",
    "    na_values=['NA', ''], # Values to treat as NA\n",
    "    parse_dates=['Date']  # Columns to parse as dates\n",
    ")\n",
    "\n",
    "# Reading multiple sheets\n",
    "all_sheets = pd.read_excel('example.xlsx', sheet_name=None)\n",
    "```"
   ]
  },
  {
   "cell_type": "code",
   "execution_count": 3,
   "id": "a0cab34d-83ac-4701-8d1e-5139c57d7551",
   "metadata": {
    "tags": []
   },
   "outputs": [],
   "source": [
    "# Practice: Read excel file\n",
    "excel_file_path = \"../datasets/collegecost.xlsx\"\n",
    "\n",
    "data = pd.read_excel(excel_file_path)"
   ]
  },
  {
   "cell_type": "code",
   "execution_count": 4,
   "id": "abf56733-7b79-4fe8-a2f2-8dd039432310",
   "metadata": {
    "tags": []
   },
   "outputs": [
    {
     "name": "stdout",
     "output_type": "stream",
     "text": [
      "<class 'pandas.core.frame.DataFrame'>\n",
      "RangeIndex: 1571 entries, 0 to 1570\n",
      "Data columns (total 45 columns):\n",
      " #   Column     Non-Null Count  Dtype  \n",
      "---  ------     --------------  -----  \n",
      " 0   instnm     1571 non-null   object \n",
      " 1   unitid     1571 non-null   int64  \n",
      " 2   private    1571 non-null   int64  \n",
      " 3   year       1571 non-null   int64  \n",
      " 4   tc         1571 non-null   float64\n",
      " 5   cf         1571 non-null   float64\n",
      " 6   tt         1571 non-null   float64\n",
      " 7   ptf        1571 non-null   float64\n",
      " 8   ga         1571 non-null   float64\n",
      " 9   ftef       1571 non-null   float64\n",
      " 10  ftestu     1571 non-null   float64\n",
      " 11  ftgrad     1571 non-null   float64\n",
      " 12  ptstu      1571 non-null   float64\n",
      " 13  ttnap      1571 non-null   float64\n",
      " 14  ttnap2     1571 non-null   float64\n",
      " 15  staffsal   1571 non-null   float64\n",
      " 16  benstaff   1571 non-null   float64\n",
      " 17  ftenap     1571 non-null   float64\n",
      " 18  ftenap2    1571 non-null   float64\n",
      " 19  ftenpro    1571 non-null   float64\n",
      " 20  ptnap      1571 non-null   float64\n",
      " 21  ptnpro     1571 non-null   float64\n",
      " 22  staffsize  1571 non-null   float64\n",
      " 23  rev        1571 non-null   float64\n",
      " 24  donor      1571 non-null   float64\n",
      " 25  hosp       1571 non-null   float64\n",
      " 26  other      1571 non-null   float64\n",
      " 27  invest     1571 non-null   float64\n",
      " 28  city       1571 non-null   int64  \n",
      " 29  rural      1571 non-null   int64  \n",
      " 30  carnegie   1571 non-null   int64  \n",
      " 31  fwest      1571 non-null   int64  \n",
      " 32  glakes     1571 non-null   int64  \n",
      " 33  neweng     1571 non-null   int64  \n",
      " 34  stem       1571 non-null   int64  \n",
      " 35  medical    1571 non-null   int64  \n",
      " 36  prof       1571 non-null   int64  \n",
      " 37  d1987      1571 non-null   int64  \n",
      " 38  d1989      1571 non-null   int64  \n",
      " 39  d1991      1571 non-null   int64  \n",
      " 40  d1999      1571 non-null   int64  \n",
      " 41  d2005      1571 non-null   int64  \n",
      " 42  d2008      1571 non-null   int64  \n",
      " 43  d2010      1571 non-null   int64  \n",
      " 44  d2011      1571 non-null   int64  \n",
      "dtypes: float64(24), int64(20), object(1)\n",
      "memory usage: 552.4+ KB\n"
     ]
    }
   ],
   "source": [
    "# Check data info\n",
    "data.info()"
   ]
  },
  {
   "cell_type": "markdown",
   "id": "71cba8e1-fff3-4258-9891-7743da5d208a",
   "metadata": {},
   "source": [
    "### 2.3 Reading JSON Data\n",
    "JSON format is common when working with APIs.\n",
    "\n",
    "\n",
    "```python\n",
    "# Reading JSON files\n",
    "df_json = pd.read_json('example.json')\n",
    "\n",
    "# Reading JSON with specific options\n",
    "df_json_advanced = pd.read_json('example.json',\n",
    "    orient='records',     # JSON string format\n",
    "    lines=True,          # Read file as JSON Lines format\n",
    "    convert_dates=['date'] # Columns to parse as dates\n",
    ")\n",
    "```"
   ]
  },
  {
   "cell_type": "code",
   "execution_count": 5,
   "id": "cc1808c1-9075-44e6-977c-19b094619818",
   "metadata": {
    "tags": []
   },
   "outputs": [],
   "source": [
    "# Practice: Read JSON file\n",
    "json_file_path = \"../datasets/chemical_dataset.json\"\n",
    "\n",
    "# read the data\n",
    "data = pd.read_json(json_file_path)"
   ]
  },
  {
   "cell_type": "code",
   "execution_count": 6,
   "id": "ede4f2c8-6c08-46c9-a813-bace4cd45e83",
   "metadata": {
    "tags": []
   },
   "outputs": [
    {
     "name": "stdout",
     "output_type": "stream",
     "text": [
      "<class 'pandas.core.frame.DataFrame'>\n",
      "Index: 1200 entries, 0 to 1199\n",
      "Data columns (total 13 columns):\n",
      " #   Column       Non-Null Count  Dtype  \n",
      "---  ------       --------------  -----  \n",
      " 0   year         1200 non-null   int64  \n",
      " 1   firm         1200 non-null   int64  \n",
      " 2   lsales       1200 non-null   float64\n",
      " 3   lcapital     1200 non-null   float64\n",
      " 4   llabor       1200 non-null   float64\n",
      " 5   sk_labor     1200 non-null   float64\n",
      " 6   lmaterials   1200 non-null   float64\n",
      " 7   foreign      1200 non-null   float64\n",
      " 8   export       1200 non-null   int64  \n",
      " 9   intangibles  1200 non-null   int64  \n",
      " 10  ownership    1200 non-null   int64  \n",
      " 11  latitude     1200 non-null   float64\n",
      " 12  longitude    1200 non-null   float64\n",
      "dtypes: float64(8), int64(5)\n",
      "memory usage: 131.2 KB\n"
     ]
    }
   ],
   "source": [
    "# Check the data info\n",
    "data.info()"
   ]
  },
  {
   "cell_type": "markdown",
   "id": "5b40547e-94b9-4a4e-8155-d35a27af824d",
   "metadata": {},
   "source": [
    "### 2.4 Reading Statistical Software Files (STATA, SPSS, SAS)\n",
    "Statistical software files are commonly used in academic research and government institutions.\n",
    "\n",
    "```python\n",
    "# Reading STATA files (.dta)\n",
    "df_stata = pd.read_stata('econometrics_data.dta',\n",
    "    convert_dates=True,          # Convert date variables\n",
    "    preserve_dtypes=True,        # Keep original data types\n",
    "    convert_categoricals=True    # Convert categorical variables\n",
    ")\n",
    "\n",
    "# Reading SPSS files (.sav)\n",
    "df_spss = pd.read_spss('survey_data.sav',\n",
    "    usecols=['income', 'education', 'employment'],  # Select specific columns\n",
    "    convert_categoricals=True    # Convert categorical variables to pandas categories\n",
    ")\n",
    "\n",
    "# Reading SAS files (.sas7bdat)\n",
    "df_sas = pd.read_sas('financial_data.sas7bdat',\n",
    "    encoding='latin1',          # Specify encoding\n",
    "    format='sas7bdat',         # SAS file format\n",
    "    chunksize=10000           # Read file in chunks for large datasets\n",
    ")\n",
    "```\n",
    "\n",
    "\n",
    "**Note:** Reading SAS and SPSS files requires additional dependencies:\n",
    "  - For SAS: `pip install sas7bdat`\n",
    "  - For SPSS: `pip install pyreadstat`"
   ]
  },
  {
   "cell_type": "code",
   "execution_count": 7,
   "id": "7fffd993-6040-4ec0-9a16-28598adec42f",
   "metadata": {
    "tags": []
   },
   "outputs": [],
   "source": [
    "# Practice: Read stata files\n",
    "stata_file_path = \"../datasets/wooldridge-statafiles/APPLE.DTA\"\n",
    "apple_data = pd.read_stata(stata_file_path)"
   ]
  },
  {
   "cell_type": "code",
   "execution_count": 8,
   "id": "30986ff4-9bef-440e-b167-f7e4684cb3f0",
   "metadata": {
    "tags": []
   },
   "outputs": [
    {
     "name": "stdout",
     "output_type": "stream",
     "text": [
      "<class 'pandas.core.frame.DataFrame'>\n",
      "RangeIndex: 660 entries, 0 to 659\n",
      "Data columns (total 17 columns):\n",
      " #   Column    Non-Null Count  Dtype  \n",
      "---  ------    --------------  -----  \n",
      " 0   id        660 non-null    int16  \n",
      " 1   educ      660 non-null    int8   \n",
      " 2   date      660 non-null    object \n",
      " 3   state     660 non-null    object \n",
      " 4   regprc    660 non-null    float32\n",
      " 5   ecoprc    660 non-null    float32\n",
      " 6   inseason  660 non-null    int8   \n",
      " 7   hhsize    660 non-null    int8   \n",
      " 8   male      660 non-null    int8   \n",
      " 9   faminc    660 non-null    int16  \n",
      " 10  age       660 non-null    int8   \n",
      " 11  reglbs    660 non-null    float32\n",
      " 12  ecolbs    660 non-null    float32\n",
      " 13  numlt5    660 non-null    int8   \n",
      " 14  num5_17   660 non-null    int8   \n",
      " 15  num18_64  660 non-null    int8   \n",
      " 16  numgt64   660 non-null    int8   \n",
      "dtypes: float32(4), int16(2), int8(9), object(2)\n",
      "memory usage: 29.1+ KB\n"
     ]
    }
   ],
   "source": [
    "# Check the data info\n",
    "apple_data.info()"
   ]
  },
  {
   "cell_type": "code",
   "execution_count": null,
   "id": "93c9b5a0-f9d2-4963-9047-ddad427a19b9",
   "metadata": {},
   "outputs": [],
   "source": []
  },
  {
   "cell_type": "markdown",
   "id": "3f9ba06e-da9a-4471-85eb-01fa1b0d20f3",
   "metadata": {},
   "source": [
    "### Next Steps\n",
    "\n",
    "In the next we will read data from common economic databases."
   ]
  },
  {
   "cell_type": "code",
   "execution_count": null,
   "id": "bc23f19e-f552-4f95-be8f-82556dbc01d7",
   "metadata": {},
   "outputs": [],
   "source": []
  }
 ],
 "metadata": {
  "kernelspec": {
   "display_name": "TF-GPU:2.16",
   "language": "python",
   "name": "tf-gpu"
  },
  "language_info": {
   "codemirror_mode": {
    "name": "ipython",
    "version": 3
   },
   "file_extension": ".py",
   "mimetype": "text/x-python",
   "name": "python",
   "nbconvert_exporter": "python",
   "pygments_lexer": "ipython3",
   "version": "3.11.0"
  }
 },
 "nbformat": 4,
 "nbformat_minor": 5
}
